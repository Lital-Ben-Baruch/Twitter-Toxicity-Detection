{
  "nbformat": 4,
  "nbformat_minor": 0,
  "metadata": {
    "colab": {
      "provenance": [],
      "collapsed_sections": [
        "n3v1pA9EoKhG",
        "EqU6vawJ-av0"
      ],
      "authorship_tag": "ABX9TyNc1qJTh2tCyOWykpoZGc04",
      "include_colab_link": true
    },
    "kernelspec": {
      "name": "python3",
      "display_name": "Python 3"
    },
    "language_info": {
      "name": "python"
    }
  },
  "cells": [
    {
      "cell_type": "markdown",
      "metadata": {
        "id": "view-in-github",
        "colab_type": "text"
      },
      "source": [
        "<a href=\"https://colab.research.google.com/github/Lital-Ben-Baruch/Twitter-Toxicity-Detection/blob/main/Twitter_Toxicity_Detection_Project.ipynb\" target=\"_parent\"><img src=\"https://colab.research.google.com/assets/colab-badge.svg\" alt=\"Open In Colab\"/></a>"
      ]
    },
    {
      "cell_type": "markdown",
      "source": [
        "# Twitter Toxicity Detection Project"
      ],
      "metadata": {
        "id": "4J9vsFaolF4o"
      }
    },
    {
      "cell_type": "markdown",
      "source": [
        "## Description\n",
        "\n",
        "This Google Colab notebook presents a comprehensive exploration and implementation of a Twitter Toxicity Detection project. The primary objective of this project is to develop a model capable of classifying tweets as either toxic or non-toxic. We will leverage a Kaggle dataset originally created for the \"Toxic Comment Classification Challenge\".\n",
        "\n",
        "\n"
      ],
      "metadata": {
        "id": "dlay8g-4aK1K"
      }
    },
    {
      "cell_type": "markdown",
      "source": [
        "### Dataset Overview\n",
        "\n",
        "The dataset used in this project comprises a collection of comments extracted from Wikipedia, each labeled by human raters for various types of toxic behavior, including:\n",
        "\n",
        "- Toxic\n",
        "- Severe Toxic\n",
        "- Obscene\n",
        "- Threat\n",
        "- Insult\n",
        "- Identity Hate\n",
        "\n",
        "The dataset is divided into three main files:\n",
        "\n",
        "1. **train.csv:** This file contains comments from the training set, each labeled with binary indicators for the mentioned types of toxicity.\n",
        "\n",
        "2. **test.csv:** The test set contains comments for which we need to predict the toxicity probabilities. Notably, some comments in the test set were intentionally excluded from scoring to discourage manual labeling.\n",
        "\n",
        "3. **test_labels.csv:** This file provides labels for the test data. A value of -1 indicates that the comment was not used for scoring. It's important to note that this file was added after the competition's close.\n"
      ],
      "metadata": {
        "id": "YEO-RRLtlRtG"
      }
    },
    {
      "cell_type": "markdown",
      "source": [
        "### Project Goal\n",
        "\n",
        "The primary goal of this project is to create a machine learning model that can analyze a new tweet and predict whether it contains toxic content. In other words, we aim to develop a system that can assess the potential harm of Twitter posts by classifying them into two categories: toxic or non-toxic.\n",
        "\n",
        "Throughout this Google Colab notebook, we will follow a structured approach to:\n",
        "\n",
        "1. Load and preprocess the dataset.\n",
        "2. Explore the data to gain insights into its characteristics.\n",
        "3. Perform feature engineering and text preprocessing to prepare the data for modeling.\n",
        "4. Select and implement appropriate machine learning algorithms for toxicity classification.\n",
        "5. Train and fine-tune the model for optimal performance.\n",
        "6. Evaluate the model's performance using various metrics.\n",
        "7. Deploy the model for toxicity detection on new tweets.\n",
        "\n",
        "By the end of this project, we aim to have a robust and accurate model that can assist in identifying toxic content on Twitter, contributing to a safer and more respectful online environment."
      ],
      "metadata": {
        "id": "r1amx7TPlN-v"
      }
    },
    {
      "cell_type": "markdown",
      "source": [
        "## 1. Load and preprocess the dataset\n"
      ],
      "metadata": {
        "id": "Dq39Wc4Hd_1g"
      }
    },
    {
      "cell_type": "markdown",
      "source": [
        "## Importing the Necessary Libraries"
      ],
      "metadata": {
        "id": "tSqO_o5Boerk"
      }
    },
    {
      "cell_type": "code",
      "source": [
        "from google.colab import drive\n",
        "import pandas as pd\n",
        "import matplotlib.pyplot as plt\n",
        "import seaborn as sns\n",
        "import numpy as np\n"
      ],
      "metadata": {
        "id": "19gSFOQhojTM"
      },
      "execution_count": null,
      "outputs": []
    },
    {
      "cell_type": "markdown",
      "source": [
        "## Mounting Google Drive locally\n",
        "\n",
        "I have uploaded the dataset files to my drive. The code below demonstrates how to mount my Google Drive in my runtime using an authorization code and how to read files.\n",
        "\n",
        "**Note:** For additional information, please refer to [External data: Local Files, Drive, Sheets, and Cloud Storage](https://colab.research.google.com/drive/1kYt9KIYMTHvE6_Kozvg5XpJXczYoNMb8?usp=share_link)"
      ],
      "metadata": {
        "id": "Szfs5MSOeud8"
      }
    },
    {
      "cell_type": "code",
      "source": [
        "drive.mount('/content/drive')"
      ],
      "metadata": {
        "colab": {
          "base_uri": "https://localhost:8080/"
        },
        "id": "hJ_Nzxajqkkl",
        "outputId": "a7512406-453c-41fc-d79d-308934b99afb"
      },
      "execution_count": null,
      "outputs": [
        {
          "output_type": "stream",
          "name": "stdout",
          "text": [
            "Drive already mounted at /content/drive; to attempt to forcibly remount, call drive.mount(\"/content/drive\", force_remount=True).\n"
          ]
        }
      ]
    },
    {
      "cell_type": "markdown",
      "source": [
        "## Loading the datasets"
      ],
      "metadata": {
        "id": "BzTYHG4gsArO"
      }
    },
    {
      "cell_type": "code",
      "execution_count": null,
      "metadata": {
        "id": "scS_mNTYX0vH"
      },
      "outputs": [],
      "source": [
        "df_train = pd.read_csv('/content/drive/My Drive/Summaries _ML_AI_CV/data_sets/Toxic_Comments/train.csv', sep=',')\n",
        "df_test = pd.read_csv('/content/drive/My Drive/Summaries _ML_AI_CV/data_sets/Toxic_Comments/test.csv', sep=',')\n",
        "df_test_labels = pd.read_csv('/content/drive/My Drive/Summaries _ML_AI_CV/data_sets/Toxic_Comments/test_labels.csv', sep=',')"
      ]
    },
    {
      "cell_type": "markdown",
      "source": [
        " ### Observing the First 5 Entries\n",
        " This code displays the first five rows of each of the dataframes (train, test, and test labels). It helps you get a quick sense of what the data looks like and its structure."
      ],
      "metadata": {
        "id": "09KFMLj_u78K"
      }
    },
    {
      "cell_type": "code",
      "source": [
        "df_train.head()"
      ],
      "metadata": {
        "colab": {
          "base_uri": "https://localhost:8080/",
          "height": 206
        },
        "id": "tHyqky0KrIK6",
        "outputId": "db223879-2236-413a-a23e-f1ed5faf78fd"
      },
      "execution_count": null,
      "outputs": [
        {
          "output_type": "execute_result",
          "data": {
            "text/plain": [
              "                 id                                       comment_text  toxic  \\\n",
              "0  0000997932d777bf  Explanation\\nWhy the edits made under my usern...      0   \n",
              "1  000103f0d9cfb60f  D'aww! He matches this background colour I'm s...      0   \n",
              "2  000113f07ec002fd  Hey man, I'm really not trying to edit war. It...      0   \n",
              "3  0001b41b1c6bb37e  \"\\nMore\\nI can't make any real suggestions on ...      0   \n",
              "4  0001d958c54c6e35  You, sir, are my hero. Any chance you remember...      0   \n",
              "\n",
              "   severe_toxic  obscene  threat  insult  identity_hate  \n",
              "0             0        0       0       0              0  \n",
              "1             0        0       0       0              0  \n",
              "2             0        0       0       0              0  \n",
              "3             0        0       0       0              0  \n",
              "4             0        0       0       0              0  "
            ],
            "text/html": [
              "\n",
              "  <div id=\"df-05db0d89-98cc-4133-acf7-74fb7ef0c90a\" class=\"colab-df-container\">\n",
              "    <div>\n",
              "<style scoped>\n",
              "    .dataframe tbody tr th:only-of-type {\n",
              "        vertical-align: middle;\n",
              "    }\n",
              "\n",
              "    .dataframe tbody tr th {\n",
              "        vertical-align: top;\n",
              "    }\n",
              "\n",
              "    .dataframe thead th {\n",
              "        text-align: right;\n",
              "    }\n",
              "</style>\n",
              "<table border=\"1\" class=\"dataframe\">\n",
              "  <thead>\n",
              "    <tr style=\"text-align: right;\">\n",
              "      <th></th>\n",
              "      <th>id</th>\n",
              "      <th>comment_text</th>\n",
              "      <th>toxic</th>\n",
              "      <th>severe_toxic</th>\n",
              "      <th>obscene</th>\n",
              "      <th>threat</th>\n",
              "      <th>insult</th>\n",
              "      <th>identity_hate</th>\n",
              "    </tr>\n",
              "  </thead>\n",
              "  <tbody>\n",
              "    <tr>\n",
              "      <th>0</th>\n",
              "      <td>0000997932d777bf</td>\n",
              "      <td>Explanation\\nWhy the edits made under my usern...</td>\n",
              "      <td>0</td>\n",
              "      <td>0</td>\n",
              "      <td>0</td>\n",
              "      <td>0</td>\n",
              "      <td>0</td>\n",
              "      <td>0</td>\n",
              "    </tr>\n",
              "    <tr>\n",
              "      <th>1</th>\n",
              "      <td>000103f0d9cfb60f</td>\n",
              "      <td>D'aww! He matches this background colour I'm s...</td>\n",
              "      <td>0</td>\n",
              "      <td>0</td>\n",
              "      <td>0</td>\n",
              "      <td>0</td>\n",
              "      <td>0</td>\n",
              "      <td>0</td>\n",
              "    </tr>\n",
              "    <tr>\n",
              "      <th>2</th>\n",
              "      <td>000113f07ec002fd</td>\n",
              "      <td>Hey man, I'm really not trying to edit war. It...</td>\n",
              "      <td>0</td>\n",
              "      <td>0</td>\n",
              "      <td>0</td>\n",
              "      <td>0</td>\n",
              "      <td>0</td>\n",
              "      <td>0</td>\n",
              "    </tr>\n",
              "    <tr>\n",
              "      <th>3</th>\n",
              "      <td>0001b41b1c6bb37e</td>\n",
              "      <td>\"\\nMore\\nI can't make any real suggestions on ...</td>\n",
              "      <td>0</td>\n",
              "      <td>0</td>\n",
              "      <td>0</td>\n",
              "      <td>0</td>\n",
              "      <td>0</td>\n",
              "      <td>0</td>\n",
              "    </tr>\n",
              "    <tr>\n",
              "      <th>4</th>\n",
              "      <td>0001d958c54c6e35</td>\n",
              "      <td>You, sir, are my hero. Any chance you remember...</td>\n",
              "      <td>0</td>\n",
              "      <td>0</td>\n",
              "      <td>0</td>\n",
              "      <td>0</td>\n",
              "      <td>0</td>\n",
              "      <td>0</td>\n",
              "    </tr>\n",
              "  </tbody>\n",
              "</table>\n",
              "</div>\n",
              "    <div class=\"colab-df-buttons\">\n",
              "\n",
              "  <div class=\"colab-df-container\">\n",
              "    <button class=\"colab-df-convert\" onclick=\"convertToInteractive('df-05db0d89-98cc-4133-acf7-74fb7ef0c90a')\"\n",
              "            title=\"Convert this dataframe to an interactive table.\"\n",
              "            style=\"display:none;\">\n",
              "\n",
              "  <svg xmlns=\"http://www.w3.org/2000/svg\" height=\"24px\" viewBox=\"0 -960 960 960\">\n",
              "    <path d=\"M120-120v-720h720v720H120Zm60-500h600v-160H180v160Zm220 220h160v-160H400v160Zm0 220h160v-160H400v160ZM180-400h160v-160H180v160Zm440 0h160v-160H620v160ZM180-180h160v-160H180v160Zm440 0h160v-160H620v160Z\"/>\n",
              "  </svg>\n",
              "    </button>\n",
              "\n",
              "  <style>\n",
              "    .colab-df-container {\n",
              "      display:flex;\n",
              "      gap: 12px;\n",
              "    }\n",
              "\n",
              "    .colab-df-convert {\n",
              "      background-color: #E8F0FE;\n",
              "      border: none;\n",
              "      border-radius: 50%;\n",
              "      cursor: pointer;\n",
              "      display: none;\n",
              "      fill: #1967D2;\n",
              "      height: 32px;\n",
              "      padding: 0 0 0 0;\n",
              "      width: 32px;\n",
              "    }\n",
              "\n",
              "    .colab-df-convert:hover {\n",
              "      background-color: #E2EBFA;\n",
              "      box-shadow: 0px 1px 2px rgba(60, 64, 67, 0.3), 0px 1px 3px 1px rgba(60, 64, 67, 0.15);\n",
              "      fill: #174EA6;\n",
              "    }\n",
              "\n",
              "    .colab-df-buttons div {\n",
              "      margin-bottom: 4px;\n",
              "    }\n",
              "\n",
              "    [theme=dark] .colab-df-convert {\n",
              "      background-color: #3B4455;\n",
              "      fill: #D2E3FC;\n",
              "    }\n",
              "\n",
              "    [theme=dark] .colab-df-convert:hover {\n",
              "      background-color: #434B5C;\n",
              "      box-shadow: 0px 1px 3px 1px rgba(0, 0, 0, 0.15);\n",
              "      filter: drop-shadow(0px 1px 2px rgba(0, 0, 0, 0.3));\n",
              "      fill: #FFFFFF;\n",
              "    }\n",
              "  </style>\n",
              "\n",
              "    <script>\n",
              "      const buttonEl =\n",
              "        document.querySelector('#df-05db0d89-98cc-4133-acf7-74fb7ef0c90a button.colab-df-convert');\n",
              "      buttonEl.style.display =\n",
              "        google.colab.kernel.accessAllowed ? 'block' : 'none';\n",
              "\n",
              "      async function convertToInteractive(key) {\n",
              "        const element = document.querySelector('#df-05db0d89-98cc-4133-acf7-74fb7ef0c90a');\n",
              "        const dataTable =\n",
              "          await google.colab.kernel.invokeFunction('convertToInteractive',\n",
              "                                                    [key], {});\n",
              "        if (!dataTable) return;\n",
              "\n",
              "        const docLinkHtml = 'Like what you see? Visit the ' +\n",
              "          '<a target=\"_blank\" href=https://colab.research.google.com/notebooks/data_table.ipynb>data table notebook</a>'\n",
              "          + ' to learn more about interactive tables.';\n",
              "        element.innerHTML = '';\n",
              "        dataTable['output_type'] = 'display_data';\n",
              "        await google.colab.output.renderOutput(dataTable, element);\n",
              "        const docLink = document.createElement('div');\n",
              "        docLink.innerHTML = docLinkHtml;\n",
              "        element.appendChild(docLink);\n",
              "      }\n",
              "    </script>\n",
              "  </div>\n",
              "\n",
              "\n",
              "<div id=\"df-68701160-e91c-43d8-ba83-a3eedebf701d\">\n",
              "  <button class=\"colab-df-quickchart\" onclick=\"quickchart('df-68701160-e91c-43d8-ba83-a3eedebf701d')\"\n",
              "            title=\"Suggest charts.\"\n",
              "            style=\"display:none;\">\n",
              "\n",
              "<svg xmlns=\"http://www.w3.org/2000/svg\" height=\"24px\"viewBox=\"0 0 24 24\"\n",
              "     width=\"24px\">\n",
              "    <g>\n",
              "        <path d=\"M19 3H5c-1.1 0-2 .9-2 2v14c0 1.1.9 2 2 2h14c1.1 0 2-.9 2-2V5c0-1.1-.9-2-2-2zM9 17H7v-7h2v7zm4 0h-2V7h2v10zm4 0h-2v-4h2v4z\"/>\n",
              "    </g>\n",
              "</svg>\n",
              "  </button>\n",
              "\n",
              "<style>\n",
              "  .colab-df-quickchart {\n",
              "      --bg-color: #E8F0FE;\n",
              "      --fill-color: #1967D2;\n",
              "      --hover-bg-color: #E2EBFA;\n",
              "      --hover-fill-color: #174EA6;\n",
              "      --disabled-fill-color: #AAA;\n",
              "      --disabled-bg-color: #DDD;\n",
              "  }\n",
              "\n",
              "  [theme=dark] .colab-df-quickchart {\n",
              "      --bg-color: #3B4455;\n",
              "      --fill-color: #D2E3FC;\n",
              "      --hover-bg-color: #434B5C;\n",
              "      --hover-fill-color: #FFFFFF;\n",
              "      --disabled-bg-color: #3B4455;\n",
              "      --disabled-fill-color: #666;\n",
              "  }\n",
              "\n",
              "  .colab-df-quickchart {\n",
              "    background-color: var(--bg-color);\n",
              "    border: none;\n",
              "    border-radius: 50%;\n",
              "    cursor: pointer;\n",
              "    display: none;\n",
              "    fill: var(--fill-color);\n",
              "    height: 32px;\n",
              "    padding: 0;\n",
              "    width: 32px;\n",
              "  }\n",
              "\n",
              "  .colab-df-quickchart:hover {\n",
              "    background-color: var(--hover-bg-color);\n",
              "    box-shadow: 0 1px 2px rgba(60, 64, 67, 0.3), 0 1px 3px 1px rgba(60, 64, 67, 0.15);\n",
              "    fill: var(--button-hover-fill-color);\n",
              "  }\n",
              "\n",
              "  .colab-df-quickchart-complete:disabled,\n",
              "  .colab-df-quickchart-complete:disabled:hover {\n",
              "    background-color: var(--disabled-bg-color);\n",
              "    fill: var(--disabled-fill-color);\n",
              "    box-shadow: none;\n",
              "  }\n",
              "\n",
              "  .colab-df-spinner {\n",
              "    border: 2px solid var(--fill-color);\n",
              "    border-color: transparent;\n",
              "    border-bottom-color: var(--fill-color);\n",
              "    animation:\n",
              "      spin 1s steps(1) infinite;\n",
              "  }\n",
              "\n",
              "  @keyframes spin {\n",
              "    0% {\n",
              "      border-color: transparent;\n",
              "      border-bottom-color: var(--fill-color);\n",
              "      border-left-color: var(--fill-color);\n",
              "    }\n",
              "    20% {\n",
              "      border-color: transparent;\n",
              "      border-left-color: var(--fill-color);\n",
              "      border-top-color: var(--fill-color);\n",
              "    }\n",
              "    30% {\n",
              "      border-color: transparent;\n",
              "      border-left-color: var(--fill-color);\n",
              "      border-top-color: var(--fill-color);\n",
              "      border-right-color: var(--fill-color);\n",
              "    }\n",
              "    40% {\n",
              "      border-color: transparent;\n",
              "      border-right-color: var(--fill-color);\n",
              "      border-top-color: var(--fill-color);\n",
              "    }\n",
              "    60% {\n",
              "      border-color: transparent;\n",
              "      border-right-color: var(--fill-color);\n",
              "    }\n",
              "    80% {\n",
              "      border-color: transparent;\n",
              "      border-right-color: var(--fill-color);\n",
              "      border-bottom-color: var(--fill-color);\n",
              "    }\n",
              "    90% {\n",
              "      border-color: transparent;\n",
              "      border-bottom-color: var(--fill-color);\n",
              "    }\n",
              "  }\n",
              "</style>\n",
              "\n",
              "  <script>\n",
              "    async function quickchart(key) {\n",
              "      const quickchartButtonEl =\n",
              "        document.querySelector('#' + key + ' button');\n",
              "      quickchartButtonEl.disabled = true;  // To prevent multiple clicks.\n",
              "      quickchartButtonEl.classList.add('colab-df-spinner');\n",
              "      try {\n",
              "        const charts = await google.colab.kernel.invokeFunction(\n",
              "            'suggestCharts', [key], {});\n",
              "      } catch (error) {\n",
              "        console.error('Error during call to suggestCharts:', error);\n",
              "      }\n",
              "      quickchartButtonEl.classList.remove('colab-df-spinner');\n",
              "      quickchartButtonEl.classList.add('colab-df-quickchart-complete');\n",
              "    }\n",
              "    (() => {\n",
              "      let quickchartButtonEl =\n",
              "        document.querySelector('#df-68701160-e91c-43d8-ba83-a3eedebf701d button');\n",
              "      quickchartButtonEl.style.display =\n",
              "        google.colab.kernel.accessAllowed ? 'block' : 'none';\n",
              "    })();\n",
              "  </script>\n",
              "</div>\n",
              "    </div>\n",
              "  </div>\n"
            ]
          },
          "metadata": {},
          "execution_count": 163
        }
      ]
    },
    {
      "cell_type": "code",
      "source": [
        "df_test.head()"
      ],
      "metadata": {
        "colab": {
          "base_uri": "https://localhost:8080/",
          "height": 206
        },
        "id": "WkElDu5AtzkS",
        "outputId": "8708b6b4-941e-423b-f8c5-bd9e1c2ba259"
      },
      "execution_count": null,
      "outputs": [
        {
          "output_type": "execute_result",
          "data": {
            "text/plain": [
              "                 id                                       comment_text\n",
              "0  00001cee341fdb12  Yo bitch Ja Rule is more succesful then you'll...\n",
              "1  0000247867823ef7  == From RfC == \\n\\n The title is fine as it is...\n",
              "2  00013b17ad220c46  \" \\n\\n == Sources == \\n\\n * Zawe Ashton on Lap...\n",
              "3  00017563c3f7919a  :If you have a look back at the source, the in...\n",
              "4  00017695ad8997eb          I don't anonymously edit articles at all."
            ],
            "text/html": [
              "\n",
              "  <div id=\"df-697046c5-e51a-4075-b1b0-12f990d99bea\" class=\"colab-df-container\">\n",
              "    <div>\n",
              "<style scoped>\n",
              "    .dataframe tbody tr th:only-of-type {\n",
              "        vertical-align: middle;\n",
              "    }\n",
              "\n",
              "    .dataframe tbody tr th {\n",
              "        vertical-align: top;\n",
              "    }\n",
              "\n",
              "    .dataframe thead th {\n",
              "        text-align: right;\n",
              "    }\n",
              "</style>\n",
              "<table border=\"1\" class=\"dataframe\">\n",
              "  <thead>\n",
              "    <tr style=\"text-align: right;\">\n",
              "      <th></th>\n",
              "      <th>id</th>\n",
              "      <th>comment_text</th>\n",
              "    </tr>\n",
              "  </thead>\n",
              "  <tbody>\n",
              "    <tr>\n",
              "      <th>0</th>\n",
              "      <td>00001cee341fdb12</td>\n",
              "      <td>Yo bitch Ja Rule is more succesful then you'll...</td>\n",
              "    </tr>\n",
              "    <tr>\n",
              "      <th>1</th>\n",
              "      <td>0000247867823ef7</td>\n",
              "      <td>== From RfC == \\n\\n The title is fine as it is...</td>\n",
              "    </tr>\n",
              "    <tr>\n",
              "      <th>2</th>\n",
              "      <td>00013b17ad220c46</td>\n",
              "      <td>\" \\n\\n == Sources == \\n\\n * Zawe Ashton on Lap...</td>\n",
              "    </tr>\n",
              "    <tr>\n",
              "      <th>3</th>\n",
              "      <td>00017563c3f7919a</td>\n",
              "      <td>:If you have a look back at the source, the in...</td>\n",
              "    </tr>\n",
              "    <tr>\n",
              "      <th>4</th>\n",
              "      <td>00017695ad8997eb</td>\n",
              "      <td>I don't anonymously edit articles at all.</td>\n",
              "    </tr>\n",
              "  </tbody>\n",
              "</table>\n",
              "</div>\n",
              "    <div class=\"colab-df-buttons\">\n",
              "\n",
              "  <div class=\"colab-df-container\">\n",
              "    <button class=\"colab-df-convert\" onclick=\"convertToInteractive('df-697046c5-e51a-4075-b1b0-12f990d99bea')\"\n",
              "            title=\"Convert this dataframe to an interactive table.\"\n",
              "            style=\"display:none;\">\n",
              "\n",
              "  <svg xmlns=\"http://www.w3.org/2000/svg\" height=\"24px\" viewBox=\"0 -960 960 960\">\n",
              "    <path d=\"M120-120v-720h720v720H120Zm60-500h600v-160H180v160Zm220 220h160v-160H400v160Zm0 220h160v-160H400v160ZM180-400h160v-160H180v160Zm440 0h160v-160H620v160ZM180-180h160v-160H180v160Zm440 0h160v-160H620v160Z\"/>\n",
              "  </svg>\n",
              "    </button>\n",
              "\n",
              "  <style>\n",
              "    .colab-df-container {\n",
              "      display:flex;\n",
              "      gap: 12px;\n",
              "    }\n",
              "\n",
              "    .colab-df-convert {\n",
              "      background-color: #E8F0FE;\n",
              "      border: none;\n",
              "      border-radius: 50%;\n",
              "      cursor: pointer;\n",
              "      display: none;\n",
              "      fill: #1967D2;\n",
              "      height: 32px;\n",
              "      padding: 0 0 0 0;\n",
              "      width: 32px;\n",
              "    }\n",
              "\n",
              "    .colab-df-convert:hover {\n",
              "      background-color: #E2EBFA;\n",
              "      box-shadow: 0px 1px 2px rgba(60, 64, 67, 0.3), 0px 1px 3px 1px rgba(60, 64, 67, 0.15);\n",
              "      fill: #174EA6;\n",
              "    }\n",
              "\n",
              "    .colab-df-buttons div {\n",
              "      margin-bottom: 4px;\n",
              "    }\n",
              "\n",
              "    [theme=dark] .colab-df-convert {\n",
              "      background-color: #3B4455;\n",
              "      fill: #D2E3FC;\n",
              "    }\n",
              "\n",
              "    [theme=dark] .colab-df-convert:hover {\n",
              "      background-color: #434B5C;\n",
              "      box-shadow: 0px 1px 3px 1px rgba(0, 0, 0, 0.15);\n",
              "      filter: drop-shadow(0px 1px 2px rgba(0, 0, 0, 0.3));\n",
              "      fill: #FFFFFF;\n",
              "    }\n",
              "  </style>\n",
              "\n",
              "    <script>\n",
              "      const buttonEl =\n",
              "        document.querySelector('#df-697046c5-e51a-4075-b1b0-12f990d99bea button.colab-df-convert');\n",
              "      buttonEl.style.display =\n",
              "        google.colab.kernel.accessAllowed ? 'block' : 'none';\n",
              "\n",
              "      async function convertToInteractive(key) {\n",
              "        const element = document.querySelector('#df-697046c5-e51a-4075-b1b0-12f990d99bea');\n",
              "        const dataTable =\n",
              "          await google.colab.kernel.invokeFunction('convertToInteractive',\n",
              "                                                    [key], {});\n",
              "        if (!dataTable) return;\n",
              "\n",
              "        const docLinkHtml = 'Like what you see? Visit the ' +\n",
              "          '<a target=\"_blank\" href=https://colab.research.google.com/notebooks/data_table.ipynb>data table notebook</a>'\n",
              "          + ' to learn more about interactive tables.';\n",
              "        element.innerHTML = '';\n",
              "        dataTable['output_type'] = 'display_data';\n",
              "        await google.colab.output.renderOutput(dataTable, element);\n",
              "        const docLink = document.createElement('div');\n",
              "        docLink.innerHTML = docLinkHtml;\n",
              "        element.appendChild(docLink);\n",
              "      }\n",
              "    </script>\n",
              "  </div>\n",
              "\n",
              "\n",
              "<div id=\"df-5c14480f-af93-48b6-82a3-9593c8a025b4\">\n",
              "  <button class=\"colab-df-quickchart\" onclick=\"quickchart('df-5c14480f-af93-48b6-82a3-9593c8a025b4')\"\n",
              "            title=\"Suggest charts.\"\n",
              "            style=\"display:none;\">\n",
              "\n",
              "<svg xmlns=\"http://www.w3.org/2000/svg\" height=\"24px\"viewBox=\"0 0 24 24\"\n",
              "     width=\"24px\">\n",
              "    <g>\n",
              "        <path d=\"M19 3H5c-1.1 0-2 .9-2 2v14c0 1.1.9 2 2 2h14c1.1 0 2-.9 2-2V5c0-1.1-.9-2-2-2zM9 17H7v-7h2v7zm4 0h-2V7h2v10zm4 0h-2v-4h2v4z\"/>\n",
              "    </g>\n",
              "</svg>\n",
              "  </button>\n",
              "\n",
              "<style>\n",
              "  .colab-df-quickchart {\n",
              "      --bg-color: #E8F0FE;\n",
              "      --fill-color: #1967D2;\n",
              "      --hover-bg-color: #E2EBFA;\n",
              "      --hover-fill-color: #174EA6;\n",
              "      --disabled-fill-color: #AAA;\n",
              "      --disabled-bg-color: #DDD;\n",
              "  }\n",
              "\n",
              "  [theme=dark] .colab-df-quickchart {\n",
              "      --bg-color: #3B4455;\n",
              "      --fill-color: #D2E3FC;\n",
              "      --hover-bg-color: #434B5C;\n",
              "      --hover-fill-color: #FFFFFF;\n",
              "      --disabled-bg-color: #3B4455;\n",
              "      --disabled-fill-color: #666;\n",
              "  }\n",
              "\n",
              "  .colab-df-quickchart {\n",
              "    background-color: var(--bg-color);\n",
              "    border: none;\n",
              "    border-radius: 50%;\n",
              "    cursor: pointer;\n",
              "    display: none;\n",
              "    fill: var(--fill-color);\n",
              "    height: 32px;\n",
              "    padding: 0;\n",
              "    width: 32px;\n",
              "  }\n",
              "\n",
              "  .colab-df-quickchart:hover {\n",
              "    background-color: var(--hover-bg-color);\n",
              "    box-shadow: 0 1px 2px rgba(60, 64, 67, 0.3), 0 1px 3px 1px rgba(60, 64, 67, 0.15);\n",
              "    fill: var(--button-hover-fill-color);\n",
              "  }\n",
              "\n",
              "  .colab-df-quickchart-complete:disabled,\n",
              "  .colab-df-quickchart-complete:disabled:hover {\n",
              "    background-color: var(--disabled-bg-color);\n",
              "    fill: var(--disabled-fill-color);\n",
              "    box-shadow: none;\n",
              "  }\n",
              "\n",
              "  .colab-df-spinner {\n",
              "    border: 2px solid var(--fill-color);\n",
              "    border-color: transparent;\n",
              "    border-bottom-color: var(--fill-color);\n",
              "    animation:\n",
              "      spin 1s steps(1) infinite;\n",
              "  }\n",
              "\n",
              "  @keyframes spin {\n",
              "    0% {\n",
              "      border-color: transparent;\n",
              "      border-bottom-color: var(--fill-color);\n",
              "      border-left-color: var(--fill-color);\n",
              "    }\n",
              "    20% {\n",
              "      border-color: transparent;\n",
              "      border-left-color: var(--fill-color);\n",
              "      border-top-color: var(--fill-color);\n",
              "    }\n",
              "    30% {\n",
              "      border-color: transparent;\n",
              "      border-left-color: var(--fill-color);\n",
              "      border-top-color: var(--fill-color);\n",
              "      border-right-color: var(--fill-color);\n",
              "    }\n",
              "    40% {\n",
              "      border-color: transparent;\n",
              "      border-right-color: var(--fill-color);\n",
              "      border-top-color: var(--fill-color);\n",
              "    }\n",
              "    60% {\n",
              "      border-color: transparent;\n",
              "      border-right-color: var(--fill-color);\n",
              "    }\n",
              "    80% {\n",
              "      border-color: transparent;\n",
              "      border-right-color: var(--fill-color);\n",
              "      border-bottom-color: var(--fill-color);\n",
              "    }\n",
              "    90% {\n",
              "      border-color: transparent;\n",
              "      border-bottom-color: var(--fill-color);\n",
              "    }\n",
              "  }\n",
              "</style>\n",
              "\n",
              "  <script>\n",
              "    async function quickchart(key) {\n",
              "      const quickchartButtonEl =\n",
              "        document.querySelector('#' + key + ' button');\n",
              "      quickchartButtonEl.disabled = true;  // To prevent multiple clicks.\n",
              "      quickchartButtonEl.classList.add('colab-df-spinner');\n",
              "      try {\n",
              "        const charts = await google.colab.kernel.invokeFunction(\n",
              "            'suggestCharts', [key], {});\n",
              "      } catch (error) {\n",
              "        console.error('Error during call to suggestCharts:', error);\n",
              "      }\n",
              "      quickchartButtonEl.classList.remove('colab-df-spinner');\n",
              "      quickchartButtonEl.classList.add('colab-df-quickchart-complete');\n",
              "    }\n",
              "    (() => {\n",
              "      let quickchartButtonEl =\n",
              "        document.querySelector('#df-5c14480f-af93-48b6-82a3-9593c8a025b4 button');\n",
              "      quickchartButtonEl.style.display =\n",
              "        google.colab.kernel.accessAllowed ? 'block' : 'none';\n",
              "    })();\n",
              "  </script>\n",
              "</div>\n",
              "    </div>\n",
              "  </div>\n"
            ]
          },
          "metadata": {},
          "execution_count": 164
        }
      ]
    },
    {
      "cell_type": "code",
      "source": [
        "df_test_labels.head()"
      ],
      "metadata": {
        "colab": {
          "base_uri": "https://localhost:8080/",
          "height": 206
        },
        "id": "QGhK9m8quWzQ",
        "outputId": "7714142f-2bb9-42d5-e773-3d1a1bbe4a16"
      },
      "execution_count": null,
      "outputs": [
        {
          "output_type": "execute_result",
          "data": {
            "text/plain": [
              "                 id  toxic  severe_toxic  obscene  threat  insult  \\\n",
              "0  00001cee341fdb12     -1            -1       -1      -1      -1   \n",
              "1  0000247867823ef7     -1            -1       -1      -1      -1   \n",
              "2  00013b17ad220c46     -1            -1       -1      -1      -1   \n",
              "3  00017563c3f7919a     -1            -1       -1      -1      -1   \n",
              "4  00017695ad8997eb     -1            -1       -1      -1      -1   \n",
              "\n",
              "   identity_hate  \n",
              "0             -1  \n",
              "1             -1  \n",
              "2             -1  \n",
              "3             -1  \n",
              "4             -1  "
            ],
            "text/html": [
              "\n",
              "  <div id=\"df-7f68b8f7-08c4-49b8-86b6-7a6aa496ad59\" class=\"colab-df-container\">\n",
              "    <div>\n",
              "<style scoped>\n",
              "    .dataframe tbody tr th:only-of-type {\n",
              "        vertical-align: middle;\n",
              "    }\n",
              "\n",
              "    .dataframe tbody tr th {\n",
              "        vertical-align: top;\n",
              "    }\n",
              "\n",
              "    .dataframe thead th {\n",
              "        text-align: right;\n",
              "    }\n",
              "</style>\n",
              "<table border=\"1\" class=\"dataframe\">\n",
              "  <thead>\n",
              "    <tr style=\"text-align: right;\">\n",
              "      <th></th>\n",
              "      <th>id</th>\n",
              "      <th>toxic</th>\n",
              "      <th>severe_toxic</th>\n",
              "      <th>obscene</th>\n",
              "      <th>threat</th>\n",
              "      <th>insult</th>\n",
              "      <th>identity_hate</th>\n",
              "    </tr>\n",
              "  </thead>\n",
              "  <tbody>\n",
              "    <tr>\n",
              "      <th>0</th>\n",
              "      <td>00001cee341fdb12</td>\n",
              "      <td>-1</td>\n",
              "      <td>-1</td>\n",
              "      <td>-1</td>\n",
              "      <td>-1</td>\n",
              "      <td>-1</td>\n",
              "      <td>-1</td>\n",
              "    </tr>\n",
              "    <tr>\n",
              "      <th>1</th>\n",
              "      <td>0000247867823ef7</td>\n",
              "      <td>-1</td>\n",
              "      <td>-1</td>\n",
              "      <td>-1</td>\n",
              "      <td>-1</td>\n",
              "      <td>-1</td>\n",
              "      <td>-1</td>\n",
              "    </tr>\n",
              "    <tr>\n",
              "      <th>2</th>\n",
              "      <td>00013b17ad220c46</td>\n",
              "      <td>-1</td>\n",
              "      <td>-1</td>\n",
              "      <td>-1</td>\n",
              "      <td>-1</td>\n",
              "      <td>-1</td>\n",
              "      <td>-1</td>\n",
              "    </tr>\n",
              "    <tr>\n",
              "      <th>3</th>\n",
              "      <td>00017563c3f7919a</td>\n",
              "      <td>-1</td>\n",
              "      <td>-1</td>\n",
              "      <td>-1</td>\n",
              "      <td>-1</td>\n",
              "      <td>-1</td>\n",
              "      <td>-1</td>\n",
              "    </tr>\n",
              "    <tr>\n",
              "      <th>4</th>\n",
              "      <td>00017695ad8997eb</td>\n",
              "      <td>-1</td>\n",
              "      <td>-1</td>\n",
              "      <td>-1</td>\n",
              "      <td>-1</td>\n",
              "      <td>-1</td>\n",
              "      <td>-1</td>\n",
              "    </tr>\n",
              "  </tbody>\n",
              "</table>\n",
              "</div>\n",
              "    <div class=\"colab-df-buttons\">\n",
              "\n",
              "  <div class=\"colab-df-container\">\n",
              "    <button class=\"colab-df-convert\" onclick=\"convertToInteractive('df-7f68b8f7-08c4-49b8-86b6-7a6aa496ad59')\"\n",
              "            title=\"Convert this dataframe to an interactive table.\"\n",
              "            style=\"display:none;\">\n",
              "\n",
              "  <svg xmlns=\"http://www.w3.org/2000/svg\" height=\"24px\" viewBox=\"0 -960 960 960\">\n",
              "    <path d=\"M120-120v-720h720v720H120Zm60-500h600v-160H180v160Zm220 220h160v-160H400v160Zm0 220h160v-160H400v160ZM180-400h160v-160H180v160Zm440 0h160v-160H620v160ZM180-180h160v-160H180v160Zm440 0h160v-160H620v160Z\"/>\n",
              "  </svg>\n",
              "    </button>\n",
              "\n",
              "  <style>\n",
              "    .colab-df-container {\n",
              "      display:flex;\n",
              "      gap: 12px;\n",
              "    }\n",
              "\n",
              "    .colab-df-convert {\n",
              "      background-color: #E8F0FE;\n",
              "      border: none;\n",
              "      border-radius: 50%;\n",
              "      cursor: pointer;\n",
              "      display: none;\n",
              "      fill: #1967D2;\n",
              "      height: 32px;\n",
              "      padding: 0 0 0 0;\n",
              "      width: 32px;\n",
              "    }\n",
              "\n",
              "    .colab-df-convert:hover {\n",
              "      background-color: #E2EBFA;\n",
              "      box-shadow: 0px 1px 2px rgba(60, 64, 67, 0.3), 0px 1px 3px 1px rgba(60, 64, 67, 0.15);\n",
              "      fill: #174EA6;\n",
              "    }\n",
              "\n",
              "    .colab-df-buttons div {\n",
              "      margin-bottom: 4px;\n",
              "    }\n",
              "\n",
              "    [theme=dark] .colab-df-convert {\n",
              "      background-color: #3B4455;\n",
              "      fill: #D2E3FC;\n",
              "    }\n",
              "\n",
              "    [theme=dark] .colab-df-convert:hover {\n",
              "      background-color: #434B5C;\n",
              "      box-shadow: 0px 1px 3px 1px rgba(0, 0, 0, 0.15);\n",
              "      filter: drop-shadow(0px 1px 2px rgba(0, 0, 0, 0.3));\n",
              "      fill: #FFFFFF;\n",
              "    }\n",
              "  </style>\n",
              "\n",
              "    <script>\n",
              "      const buttonEl =\n",
              "        document.querySelector('#df-7f68b8f7-08c4-49b8-86b6-7a6aa496ad59 button.colab-df-convert');\n",
              "      buttonEl.style.display =\n",
              "        google.colab.kernel.accessAllowed ? 'block' : 'none';\n",
              "\n",
              "      async function convertToInteractive(key) {\n",
              "        const element = document.querySelector('#df-7f68b8f7-08c4-49b8-86b6-7a6aa496ad59');\n",
              "        const dataTable =\n",
              "          await google.colab.kernel.invokeFunction('convertToInteractive',\n",
              "                                                    [key], {});\n",
              "        if (!dataTable) return;\n",
              "\n",
              "        const docLinkHtml = 'Like what you see? Visit the ' +\n",
              "          '<a target=\"_blank\" href=https://colab.research.google.com/notebooks/data_table.ipynb>data table notebook</a>'\n",
              "          + ' to learn more about interactive tables.';\n",
              "        element.innerHTML = '';\n",
              "        dataTable['output_type'] = 'display_data';\n",
              "        await google.colab.output.renderOutput(dataTable, element);\n",
              "        const docLink = document.createElement('div');\n",
              "        docLink.innerHTML = docLinkHtml;\n",
              "        element.appendChild(docLink);\n",
              "      }\n",
              "    </script>\n",
              "  </div>\n",
              "\n",
              "\n",
              "<div id=\"df-b6ebbffc-d4c8-41c7-9636-3a62ceb35a41\">\n",
              "  <button class=\"colab-df-quickchart\" onclick=\"quickchart('df-b6ebbffc-d4c8-41c7-9636-3a62ceb35a41')\"\n",
              "            title=\"Suggest charts.\"\n",
              "            style=\"display:none;\">\n",
              "\n",
              "<svg xmlns=\"http://www.w3.org/2000/svg\" height=\"24px\"viewBox=\"0 0 24 24\"\n",
              "     width=\"24px\">\n",
              "    <g>\n",
              "        <path d=\"M19 3H5c-1.1 0-2 .9-2 2v14c0 1.1.9 2 2 2h14c1.1 0 2-.9 2-2V5c0-1.1-.9-2-2-2zM9 17H7v-7h2v7zm4 0h-2V7h2v10zm4 0h-2v-4h2v4z\"/>\n",
              "    </g>\n",
              "</svg>\n",
              "  </button>\n",
              "\n",
              "<style>\n",
              "  .colab-df-quickchart {\n",
              "      --bg-color: #E8F0FE;\n",
              "      --fill-color: #1967D2;\n",
              "      --hover-bg-color: #E2EBFA;\n",
              "      --hover-fill-color: #174EA6;\n",
              "      --disabled-fill-color: #AAA;\n",
              "      --disabled-bg-color: #DDD;\n",
              "  }\n",
              "\n",
              "  [theme=dark] .colab-df-quickchart {\n",
              "      --bg-color: #3B4455;\n",
              "      --fill-color: #D2E3FC;\n",
              "      --hover-bg-color: #434B5C;\n",
              "      --hover-fill-color: #FFFFFF;\n",
              "      --disabled-bg-color: #3B4455;\n",
              "      --disabled-fill-color: #666;\n",
              "  }\n",
              "\n",
              "  .colab-df-quickchart {\n",
              "    background-color: var(--bg-color);\n",
              "    border: none;\n",
              "    border-radius: 50%;\n",
              "    cursor: pointer;\n",
              "    display: none;\n",
              "    fill: var(--fill-color);\n",
              "    height: 32px;\n",
              "    padding: 0;\n",
              "    width: 32px;\n",
              "  }\n",
              "\n",
              "  .colab-df-quickchart:hover {\n",
              "    background-color: var(--hover-bg-color);\n",
              "    box-shadow: 0 1px 2px rgba(60, 64, 67, 0.3), 0 1px 3px 1px rgba(60, 64, 67, 0.15);\n",
              "    fill: var(--button-hover-fill-color);\n",
              "  }\n",
              "\n",
              "  .colab-df-quickchart-complete:disabled,\n",
              "  .colab-df-quickchart-complete:disabled:hover {\n",
              "    background-color: var(--disabled-bg-color);\n",
              "    fill: var(--disabled-fill-color);\n",
              "    box-shadow: none;\n",
              "  }\n",
              "\n",
              "  .colab-df-spinner {\n",
              "    border: 2px solid var(--fill-color);\n",
              "    border-color: transparent;\n",
              "    border-bottom-color: var(--fill-color);\n",
              "    animation:\n",
              "      spin 1s steps(1) infinite;\n",
              "  }\n",
              "\n",
              "  @keyframes spin {\n",
              "    0% {\n",
              "      border-color: transparent;\n",
              "      border-bottom-color: var(--fill-color);\n",
              "      border-left-color: var(--fill-color);\n",
              "    }\n",
              "    20% {\n",
              "      border-color: transparent;\n",
              "      border-left-color: var(--fill-color);\n",
              "      border-top-color: var(--fill-color);\n",
              "    }\n",
              "    30% {\n",
              "      border-color: transparent;\n",
              "      border-left-color: var(--fill-color);\n",
              "      border-top-color: var(--fill-color);\n",
              "      border-right-color: var(--fill-color);\n",
              "    }\n",
              "    40% {\n",
              "      border-color: transparent;\n",
              "      border-right-color: var(--fill-color);\n",
              "      border-top-color: var(--fill-color);\n",
              "    }\n",
              "    60% {\n",
              "      border-color: transparent;\n",
              "      border-right-color: var(--fill-color);\n",
              "    }\n",
              "    80% {\n",
              "      border-color: transparent;\n",
              "      border-right-color: var(--fill-color);\n",
              "      border-bottom-color: var(--fill-color);\n",
              "    }\n",
              "    90% {\n",
              "      border-color: transparent;\n",
              "      border-bottom-color: var(--fill-color);\n",
              "    }\n",
              "  }\n",
              "</style>\n",
              "\n",
              "  <script>\n",
              "    async function quickchart(key) {\n",
              "      const quickchartButtonEl =\n",
              "        document.querySelector('#' + key + ' button');\n",
              "      quickchartButtonEl.disabled = true;  // To prevent multiple clicks.\n",
              "      quickchartButtonEl.classList.add('colab-df-spinner');\n",
              "      try {\n",
              "        const charts = await google.colab.kernel.invokeFunction(\n",
              "            'suggestCharts', [key], {});\n",
              "      } catch (error) {\n",
              "        console.error('Error during call to suggestCharts:', error);\n",
              "      }\n",
              "      quickchartButtonEl.classList.remove('colab-df-spinner');\n",
              "      quickchartButtonEl.classList.add('colab-df-quickchart-complete');\n",
              "    }\n",
              "    (() => {\n",
              "      let quickchartButtonEl =\n",
              "        document.querySelector('#df-b6ebbffc-d4c8-41c7-9636-3a62ceb35a41 button');\n",
              "      quickchartButtonEl.style.display =\n",
              "        google.colab.kernel.accessAllowed ? 'block' : 'none';\n",
              "    })();\n",
              "  </script>\n",
              "</div>\n",
              "    </div>\n",
              "  </div>\n"
            ]
          },
          "metadata": {},
          "execution_count": 165
        }
      ]
    },
    {
      "cell_type": "markdown",
      "source": [
        " ### Observing the number of entries and columns"
      ],
      "metadata": {
        "id": "xP3Le2FTxfr4"
      }
    },
    {
      "cell_type": "code",
      "source": [
        "print(f\"The train set has a shape of {df_train.shape} , indicating {df_train.shape[0]} entries and {df_train.shape[1]} columns.\")\n",
        "print(f\"The test set has a shape of {df_test.shape} , indicating {df_test.shape[0]} entries and {df_test.shape[1]} columns.\")\n",
        "print(f\"The test label set has a shape of {df_test_labels.shape} , indicating {df_test_labels.shape[0]} entries and {df_test_labels.shape[1]} columns.\")"
      ],
      "metadata": {
        "colab": {
          "base_uri": "https://localhost:8080/"
        },
        "id": "VmaXmGD0xZ_l",
        "outputId": "be4e838d-e338-4800-c922-fbcd12bb5f48"
      },
      "execution_count": null,
      "outputs": [
        {
          "output_type": "stream",
          "name": "stdout",
          "text": [
            "The train set has a shape of (159571, 8) , indicating 159571 entries and 8 columns.\n",
            "The test set has a shape of (153164, 2) , indicating 153164 entries and 2 columns.\n",
            "The test label set has a shape of (153164, 7) , indicating 153164 entries and 7 columns.\n"
          ]
        }
      ]
    },
    {
      "cell_type": "markdown",
      "source": [
        "Assign the test comment text to a variable called x_test"
      ],
      "metadata": {
        "id": "R-XQrepJ0Zbg"
      }
    },
    {
      "cell_type": "code",
      "source": [
        "x_test = df_test['comment_text']\n",
        "x_test.head()"
      ],
      "metadata": {
        "colab": {
          "base_uri": "https://localhost:8080/"
        },
        "id": "NniCjw5c0FWr",
        "outputId": "a99e74b1-d21d-4d52-ad8a-ac35742a2d1d"
      },
      "execution_count": null,
      "outputs": [
        {
          "output_type": "execute_result",
          "data": {
            "text/plain": [
              "0    Yo bitch Ja Rule is more succesful then you'll...\n",
              "1    == From RfC == \\n\\n The title is fine as it is...\n",
              "2    \" \\n\\n == Sources == \\n\\n * Zawe Ashton on Lap...\n",
              "3    :If you have a look back at the source, the in...\n",
              "4            I don't anonymously edit articles at all.\n",
              "Name: comment_text, dtype: object"
            ]
          },
          "metadata": {},
          "execution_count": 167
        }
      ]
    },
    {
      "cell_type": "markdown",
      "source": [
        " ### Observing the column names"
      ],
      "metadata": {
        "id": "Oo5MXESmzz4-"
      }
    },
    {
      "cell_type": "code",
      "source": [
        "# Examining the names of the columns\n",
        "print(f\"The train columns' names are:\\n {', '.join(df_train.columns)}\")\n",
        "print(f\"The test columns' names are:\\n {', '.join(df_test_labels.columns)}\")"
      ],
      "metadata": {
        "colab": {
          "base_uri": "https://localhost:8080/"
        },
        "id": "PtAiPvls1wiz",
        "outputId": "d8b36a64-ce84-4341-e1c8-2c1fea44ac36"
      },
      "execution_count": null,
      "outputs": [
        {
          "output_type": "stream",
          "name": "stdout",
          "text": [
            "The train columns' names are:\n",
            " id, comment_text, toxic, severe_toxic, obscene, threat, insult, identity_hate\n",
            "The test columns' names are:\n",
            " id, toxic, severe_toxic, obscene, threat, insult, identity_hate\n"
          ]
        }
      ]
    },
    {
      "cell_type": "markdown",
      "source": [
        "### defining the target columns for training and testing:\n",
        "The code defines lists of column names that correspond to the target variables in both the training and testing datasets. This is crucial for supervised machine learning tasks where we need to predict these target variables."
      ],
      "metadata": {
        "id": "XfT8g7xt3tPk"
      }
    },
    {
      "cell_type": "code",
      "source": [
        "# For the train set\n",
        "cols_target = ['obscene', 'insult', 'toxic', 'severe_toxic', 'identity_hate', 'threat']\n",
        "\n",
        "# For the test set\n",
        "test_cols_target = ['obscene', 'insult', 'toxic', 'severe_toxic', 'identity_hate', 'threat']"
      ],
      "metadata": {
        "id": "nyupE9M14SZE"
      },
      "execution_count": null,
      "outputs": []
    },
    {
      "cell_type": "markdown",
      "source": [
        "### Observing more information about the dataset\n",
        " The 'info()' method is called on dataframes to provide detailed information about data types, missing values, and memory usage. This helps identify any data preprocessing steps needed."
      ],
      "metadata": {
        "id": "UsMBTUzd4uBk"
      }
    },
    {
      "cell_type": "code",
      "source": [
        "x_test.info()"
      ],
      "metadata": {
        "colab": {
          "base_uri": "https://localhost:8080/"
        },
        "id": "Q9SVkmGp4suN",
        "outputId": "75812989-ffa4-4a97-f8a2-17aabbdb6da9"
      },
      "execution_count": null,
      "outputs": [
        {
          "output_type": "stream",
          "name": "stdout",
          "text": [
            "<class 'pandas.core.series.Series'>\n",
            "RangeIndex: 153164 entries, 0 to 153163\n",
            "Series name: comment_text\n",
            "Non-Null Count   Dtype \n",
            "--------------   ----- \n",
            "153164 non-null  object\n",
            "dtypes: object(1)\n",
            "memory usage: 1.2+ MB\n"
          ]
        }
      ]
    },
    {
      "cell_type": "code",
      "source": [
        "df_test_labels.info()"
      ],
      "metadata": {
        "colab": {
          "base_uri": "https://localhost:8080/"
        },
        "id": "teQn7_we42zS",
        "outputId": "49d6bdd5-36f1-4636-c6f3-123ebbc3304f"
      },
      "execution_count": null,
      "outputs": [
        {
          "output_type": "stream",
          "name": "stdout",
          "text": [
            "<class 'pandas.core.frame.DataFrame'>\n",
            "RangeIndex: 153164 entries, 0 to 153163\n",
            "Data columns (total 7 columns):\n",
            " #   Column         Non-Null Count   Dtype \n",
            "---  ------         --------------   ----- \n",
            " 0   id             153164 non-null  object\n",
            " 1   toxic          153164 non-null  int64 \n",
            " 2   severe_toxic   153164 non-null  int64 \n",
            " 3   obscene        153164 non-null  int64 \n",
            " 4   threat         153164 non-null  int64 \n",
            " 5   insult         153164 non-null  int64 \n",
            " 6   identity_hate  153164 non-null  int64 \n",
            "dtypes: int64(6), object(1)\n",
            "memory usage: 8.2+ MB\n"
          ]
        }
      ]
    },
    {
      "cell_type": "code",
      "source": [
        "df_train.info()"
      ],
      "metadata": {
        "colab": {
          "base_uri": "https://localhost:8080/"
        },
        "id": "1TqWpR8A47Hb",
        "outputId": "74f2bf54-4fe6-42ca-99f9-8852d7fa0589"
      },
      "execution_count": null,
      "outputs": [
        {
          "output_type": "stream",
          "name": "stdout",
          "text": [
            "<class 'pandas.core.frame.DataFrame'>\n",
            "RangeIndex: 159571 entries, 0 to 159570\n",
            "Data columns (total 8 columns):\n",
            " #   Column         Non-Null Count   Dtype \n",
            "---  ------         --------------   ----- \n",
            " 0   id             159571 non-null  object\n",
            " 1   comment_text   159571 non-null  object\n",
            " 2   toxic          159571 non-null  int64 \n",
            " 3   severe_toxic   159571 non-null  int64 \n",
            " 4   obscene        159571 non-null  int64 \n",
            " 5   threat         159571 non-null  int64 \n",
            " 6   insult         159571 non-null  int64 \n",
            " 7   identity_hate  159571 non-null  int64 \n",
            "dtypes: int64(6), object(2)\n",
            "memory usage: 9.7+ MB\n"
          ]
        }
      ]
    },
    {
      "cell_type": "markdown",
      "source": [
        "#### Summary Statistics:\n",
        "\n"
      ],
      "metadata": {
        "id": "O4uq2M3uA1ja"
      }
    },
    {
      "cell_type": "markdown",
      "source": [
        "* This part of the code prints summary statistics for numeric columns in your dataset.\n",
        "* The describe() function provides statistics such as count, mean, standard deviation, minimum, 25th percentile, median (50th percentile), 75th percentile, and maximum for each numeric column.\n",
        "* It helps you understand the distribution and characteristics of numeric features in both the train and test datasets."
      ],
      "metadata": {
        "id": "dM1HVwujCaNe"
      }
    },
    {
      "cell_type": "code",
      "source": [
        "print(\"Summary statistics for numeric columns in the train set:\\n\")\n",
        "print(df_train.describe())"
      ],
      "metadata": {
        "colab": {
          "base_uri": "https://localhost:8080/"
        },
        "id": "4B2NbqlXCa6q",
        "outputId": "fa866994-a209-45ee-9446-506bc08e9a4d"
      },
      "execution_count": null,
      "outputs": [
        {
          "output_type": "stream",
          "name": "stdout",
          "text": [
            "Summary statistics for numeric columns in the train set:\n",
            "\n",
            "               toxic   severe_toxic        obscene         threat  \\\n",
            "count  159571.000000  159571.000000  159571.000000  159571.000000   \n",
            "mean        0.095844       0.009996       0.052948       0.002996   \n",
            "std         0.294379       0.099477       0.223931       0.054650   \n",
            "min         0.000000       0.000000       0.000000       0.000000   \n",
            "25%         0.000000       0.000000       0.000000       0.000000   \n",
            "50%         0.000000       0.000000       0.000000       0.000000   \n",
            "75%         0.000000       0.000000       0.000000       0.000000   \n",
            "max         1.000000       1.000000       1.000000       1.000000   \n",
            "\n",
            "              insult  identity_hate  \n",
            "count  159571.000000  159571.000000  \n",
            "mean        0.049364       0.008805  \n",
            "std         0.216627       0.093420  \n",
            "min         0.000000       0.000000  \n",
            "25%         0.000000       0.000000  \n",
            "50%         0.000000       0.000000  \n",
            "75%         0.000000       0.000000  \n",
            "max         1.000000       1.000000  \n"
          ]
        }
      ]
    },
    {
      "cell_type": "markdown",
      "source": [
        "We obtained summary statistics for the numeric columns in our 'train' dataset, which contains binary labels (0 or 1) for various categories such as 'toxic,' 'severe_toxic,' 'obscene,' 'threat,' 'insult,' and 'identity_hate.' From this data, we can derive the following insights:\n",
        "\n",
        "1. **Count:** We observe that there are 159,571 entries for each category, indicating that there are no missing values in these columns.\n",
        "\n",
        "2. **Mean:** We find that the **'mean'** values represent the **proportion of comments labeled as 1 (toxic) for each category**. For example, in the 'toxic' category, the mean is approximately 0.0958, suggesting that about 9.58% of the comments in our dataset are labeled as toxic.\n",
        "\n",
        "3. **Standard Deviation (std):** The standard deviation measures the variability in the labels across different comments for each category. Higher standard deviations may indicate more variability in the labels.\n",
        "\n",
        "4. **Minimum and Maximum:** We note that the minimum is 0 (indicating no toxicity) and the maximum is 1 (indicating full toxicity) in these binary-label columns.\n",
        "\n",
        "5. **Percentiles (25%, 50%, 75%):** These percentiles provide insights into the distribution of toxicity levels within our dataset, considering the binary nature of the labels.\n",
        "\n",
        "These summary statistics help us gain an understanding of the prevalence of toxicity in our dataset and assess the class balance, which is crucial when building a toxicity detection model."
      ],
      "metadata": {
        "id": "aoWG8SYWTJkN"
      }
    },
    {
      "cell_type": "markdown",
      "source": [
        "from the the train dataset has a binary labels  (min =0, max = 1)"
      ],
      "metadata": {
        "id": "Ni48GWaDSfL_"
      }
    },
    {
      "cell_type": "code",
      "source": [
        "print(\"\\n\\n\\nSummary statistics for numeric columns in the test set:\\n\")\n",
        "print(df_test_labels.describe())"
      ],
      "metadata": {
        "colab": {
          "base_uri": "https://localhost:8080/"
        },
        "id": "O-zHWFvUTOyX",
        "outputId": "25b6dc73-4e04-40db-c609-09cff668bb39"
      },
      "execution_count": null,
      "outputs": [
        {
          "output_type": "stream",
          "name": "stdout",
          "text": [
            "\n",
            "\n",
            "\n",
            "Summary statistics for numeric columns in the test set:\n",
            "\n",
            "               toxic   severe_toxic        obscene         threat  \\\n",
            "count  153164.000000  153164.000000  153164.000000  153164.000000   \n",
            "mean       -0.542530      -0.579895      -0.558193      -0.580913   \n",
            "std         0.572465       0.498408       0.542966       0.496195   \n",
            "min        -1.000000      -1.000000      -1.000000      -1.000000   \n",
            "25%        -1.000000      -1.000000      -1.000000      -1.000000   \n",
            "50%        -1.000000      -1.000000      -1.000000      -1.000000   \n",
            "75%         0.000000       0.000000       0.000000       0.000000   \n",
            "max         1.000000       1.000000       1.000000       1.000000   \n",
            "\n",
            "              insult  identity_hate  \n",
            "count  153164.000000  153164.000000  \n",
            "mean       -0.559916      -0.577642  \n",
            "std         0.539594       0.503260  \n",
            "min        -1.000000      -1.000000  \n",
            "25%        -1.000000      -1.000000  \n",
            "50%        -1.000000      -1.000000  \n",
            "75%         0.000000       0.000000  \n",
            "max         1.000000       1.000000  \n"
          ]
        }
      ]
    },
    {
      "cell_type": "markdown",
      "source": [
        "Here we obtained summary statistics for the test set labels. we can see that the values are **not binary** (0 or 1) as expected. Instead, the labels seem to range from -1 to 1. This is different from the typical binary labels used in toxicity classification tasks. As it was mentioned in the start of the notebook a value of -1 indicating that the comment **was not used for scoring**. During the competition, some comments in the test dataset were not included in the scoring process, and as a result, they are labeled as -1. These comments were essentially excluded from the evaluation of models during the competition."
      ],
      "metadata": {
        "id": "5EnZ6TYvWHfN"
      }
    },
    {
      "cell_type": "markdown",
      "source": [
        "Create a bar plot for the distribution of multiple labels"
      ],
      "metadata": {
        "id": "4Tm_Lm8YZ8Kt"
      }
    },
    {
      "cell_type": "code",
      "source": [
        "# Create a DataFrame for label counts\n",
        "label_counts = df_test_labels[['toxic', 'severe_toxic', 'obscene', 'threat', 'insult', 'identity_hate']].apply(lambda x: x.value_counts()).T\n",
        "label_counts"
      ],
      "metadata": {
        "colab": {
          "base_uri": "https://localhost:8080/",
          "height": 237
        },
        "id": "_9OPN5Txa3qL",
        "outputId": "2d1f5fe6-b925-45c2-a20f-bf2554d933cc"
      },
      "execution_count": null,
      "outputs": [
        {
          "output_type": "execute_result",
          "data": {
            "text/plain": [
              "                  -1      0     1\n",
              "toxic          89186  57888  6090\n",
              "severe_toxic   89186  63611   367\n",
              "obscene        89186  60287  3691\n",
              "threat         89186  63767   211\n",
              "insult         89186  60551  3427\n",
              "identity_hate  89186  63266   712"
            ],
            "text/html": [
              "\n",
              "  <div id=\"df-5c220f7b-f28d-4ab2-8b1f-a086f06b18d8\" class=\"colab-df-container\">\n",
              "    <div>\n",
              "<style scoped>\n",
              "    .dataframe tbody tr th:only-of-type {\n",
              "        vertical-align: middle;\n",
              "    }\n",
              "\n",
              "    .dataframe tbody tr th {\n",
              "        vertical-align: top;\n",
              "    }\n",
              "\n",
              "    .dataframe thead th {\n",
              "        text-align: right;\n",
              "    }\n",
              "</style>\n",
              "<table border=\"1\" class=\"dataframe\">\n",
              "  <thead>\n",
              "    <tr style=\"text-align: right;\">\n",
              "      <th></th>\n",
              "      <th>-1</th>\n",
              "      <th>0</th>\n",
              "      <th>1</th>\n",
              "    </tr>\n",
              "  </thead>\n",
              "  <tbody>\n",
              "    <tr>\n",
              "      <th>toxic</th>\n",
              "      <td>89186</td>\n",
              "      <td>57888</td>\n",
              "      <td>6090</td>\n",
              "    </tr>\n",
              "    <tr>\n",
              "      <th>severe_toxic</th>\n",
              "      <td>89186</td>\n",
              "      <td>63611</td>\n",
              "      <td>367</td>\n",
              "    </tr>\n",
              "    <tr>\n",
              "      <th>obscene</th>\n",
              "      <td>89186</td>\n",
              "      <td>60287</td>\n",
              "      <td>3691</td>\n",
              "    </tr>\n",
              "    <tr>\n",
              "      <th>threat</th>\n",
              "      <td>89186</td>\n",
              "      <td>63767</td>\n",
              "      <td>211</td>\n",
              "    </tr>\n",
              "    <tr>\n",
              "      <th>insult</th>\n",
              "      <td>89186</td>\n",
              "      <td>60551</td>\n",
              "      <td>3427</td>\n",
              "    </tr>\n",
              "    <tr>\n",
              "      <th>identity_hate</th>\n",
              "      <td>89186</td>\n",
              "      <td>63266</td>\n",
              "      <td>712</td>\n",
              "    </tr>\n",
              "  </tbody>\n",
              "</table>\n",
              "</div>\n",
              "    <div class=\"colab-df-buttons\">\n",
              "\n",
              "  <div class=\"colab-df-container\">\n",
              "    <button class=\"colab-df-convert\" onclick=\"convertToInteractive('df-5c220f7b-f28d-4ab2-8b1f-a086f06b18d8')\"\n",
              "            title=\"Convert this dataframe to an interactive table.\"\n",
              "            style=\"display:none;\">\n",
              "\n",
              "  <svg xmlns=\"http://www.w3.org/2000/svg\" height=\"24px\" viewBox=\"0 -960 960 960\">\n",
              "    <path d=\"M120-120v-720h720v720H120Zm60-500h600v-160H180v160Zm220 220h160v-160H400v160Zm0 220h160v-160H400v160ZM180-400h160v-160H180v160Zm440 0h160v-160H620v160ZM180-180h160v-160H180v160Zm440 0h160v-160H620v160Z\"/>\n",
              "  </svg>\n",
              "    </button>\n",
              "\n",
              "  <style>\n",
              "    .colab-df-container {\n",
              "      display:flex;\n",
              "      gap: 12px;\n",
              "    }\n",
              "\n",
              "    .colab-df-convert {\n",
              "      background-color: #E8F0FE;\n",
              "      border: none;\n",
              "      border-radius: 50%;\n",
              "      cursor: pointer;\n",
              "      display: none;\n",
              "      fill: #1967D2;\n",
              "      height: 32px;\n",
              "      padding: 0 0 0 0;\n",
              "      width: 32px;\n",
              "    }\n",
              "\n",
              "    .colab-df-convert:hover {\n",
              "      background-color: #E2EBFA;\n",
              "      box-shadow: 0px 1px 2px rgba(60, 64, 67, 0.3), 0px 1px 3px 1px rgba(60, 64, 67, 0.15);\n",
              "      fill: #174EA6;\n",
              "    }\n",
              "\n",
              "    .colab-df-buttons div {\n",
              "      margin-bottom: 4px;\n",
              "    }\n",
              "\n",
              "    [theme=dark] .colab-df-convert {\n",
              "      background-color: #3B4455;\n",
              "      fill: #D2E3FC;\n",
              "    }\n",
              "\n",
              "    [theme=dark] .colab-df-convert:hover {\n",
              "      background-color: #434B5C;\n",
              "      box-shadow: 0px 1px 3px 1px rgba(0, 0, 0, 0.15);\n",
              "      filter: drop-shadow(0px 1px 2px rgba(0, 0, 0, 0.3));\n",
              "      fill: #FFFFFF;\n",
              "    }\n",
              "  </style>\n",
              "\n",
              "    <script>\n",
              "      const buttonEl =\n",
              "        document.querySelector('#df-5c220f7b-f28d-4ab2-8b1f-a086f06b18d8 button.colab-df-convert');\n",
              "      buttonEl.style.display =\n",
              "        google.colab.kernel.accessAllowed ? 'block' : 'none';\n",
              "\n",
              "      async function convertToInteractive(key) {\n",
              "        const element = document.querySelector('#df-5c220f7b-f28d-4ab2-8b1f-a086f06b18d8');\n",
              "        const dataTable =\n",
              "          await google.colab.kernel.invokeFunction('convertToInteractive',\n",
              "                                                    [key], {});\n",
              "        if (!dataTable) return;\n",
              "\n",
              "        const docLinkHtml = 'Like what you see? Visit the ' +\n",
              "          '<a target=\"_blank\" href=https://colab.research.google.com/notebooks/data_table.ipynb>data table notebook</a>'\n",
              "          + ' to learn more about interactive tables.';\n",
              "        element.innerHTML = '';\n",
              "        dataTable['output_type'] = 'display_data';\n",
              "        await google.colab.output.renderOutput(dataTable, element);\n",
              "        const docLink = document.createElement('div');\n",
              "        docLink.innerHTML = docLinkHtml;\n",
              "        element.appendChild(docLink);\n",
              "      }\n",
              "    </script>\n",
              "  </div>\n",
              "\n",
              "\n",
              "<div id=\"df-6cbdab92-fce8-486d-bb72-7b226e7b4b2f\">\n",
              "  <button class=\"colab-df-quickchart\" onclick=\"quickchart('df-6cbdab92-fce8-486d-bb72-7b226e7b4b2f')\"\n",
              "            title=\"Suggest charts.\"\n",
              "            style=\"display:none;\">\n",
              "\n",
              "<svg xmlns=\"http://www.w3.org/2000/svg\" height=\"24px\"viewBox=\"0 0 24 24\"\n",
              "     width=\"24px\">\n",
              "    <g>\n",
              "        <path d=\"M19 3H5c-1.1 0-2 .9-2 2v14c0 1.1.9 2 2 2h14c1.1 0 2-.9 2-2V5c0-1.1-.9-2-2-2zM9 17H7v-7h2v7zm4 0h-2V7h2v10zm4 0h-2v-4h2v4z\"/>\n",
              "    </g>\n",
              "</svg>\n",
              "  </button>\n",
              "\n",
              "<style>\n",
              "  .colab-df-quickchart {\n",
              "      --bg-color: #E8F0FE;\n",
              "      --fill-color: #1967D2;\n",
              "      --hover-bg-color: #E2EBFA;\n",
              "      --hover-fill-color: #174EA6;\n",
              "      --disabled-fill-color: #AAA;\n",
              "      --disabled-bg-color: #DDD;\n",
              "  }\n",
              "\n",
              "  [theme=dark] .colab-df-quickchart {\n",
              "      --bg-color: #3B4455;\n",
              "      --fill-color: #D2E3FC;\n",
              "      --hover-bg-color: #434B5C;\n",
              "      --hover-fill-color: #FFFFFF;\n",
              "      --disabled-bg-color: #3B4455;\n",
              "      --disabled-fill-color: #666;\n",
              "  }\n",
              "\n",
              "  .colab-df-quickchart {\n",
              "    background-color: var(--bg-color);\n",
              "    border: none;\n",
              "    border-radius: 50%;\n",
              "    cursor: pointer;\n",
              "    display: none;\n",
              "    fill: var(--fill-color);\n",
              "    height: 32px;\n",
              "    padding: 0;\n",
              "    width: 32px;\n",
              "  }\n",
              "\n",
              "  .colab-df-quickchart:hover {\n",
              "    background-color: var(--hover-bg-color);\n",
              "    box-shadow: 0 1px 2px rgba(60, 64, 67, 0.3), 0 1px 3px 1px rgba(60, 64, 67, 0.15);\n",
              "    fill: var(--button-hover-fill-color);\n",
              "  }\n",
              "\n",
              "  .colab-df-quickchart-complete:disabled,\n",
              "  .colab-df-quickchart-complete:disabled:hover {\n",
              "    background-color: var(--disabled-bg-color);\n",
              "    fill: var(--disabled-fill-color);\n",
              "    box-shadow: none;\n",
              "  }\n",
              "\n",
              "  .colab-df-spinner {\n",
              "    border: 2px solid var(--fill-color);\n",
              "    border-color: transparent;\n",
              "    border-bottom-color: var(--fill-color);\n",
              "    animation:\n",
              "      spin 1s steps(1) infinite;\n",
              "  }\n",
              "\n",
              "  @keyframes spin {\n",
              "    0% {\n",
              "      border-color: transparent;\n",
              "      border-bottom-color: var(--fill-color);\n",
              "      border-left-color: var(--fill-color);\n",
              "    }\n",
              "    20% {\n",
              "      border-color: transparent;\n",
              "      border-left-color: var(--fill-color);\n",
              "      border-top-color: var(--fill-color);\n",
              "    }\n",
              "    30% {\n",
              "      border-color: transparent;\n",
              "      border-left-color: var(--fill-color);\n",
              "      border-top-color: var(--fill-color);\n",
              "      border-right-color: var(--fill-color);\n",
              "    }\n",
              "    40% {\n",
              "      border-color: transparent;\n",
              "      border-right-color: var(--fill-color);\n",
              "      border-top-color: var(--fill-color);\n",
              "    }\n",
              "    60% {\n",
              "      border-color: transparent;\n",
              "      border-right-color: var(--fill-color);\n",
              "    }\n",
              "    80% {\n",
              "      border-color: transparent;\n",
              "      border-right-color: var(--fill-color);\n",
              "      border-bottom-color: var(--fill-color);\n",
              "    }\n",
              "    90% {\n",
              "      border-color: transparent;\n",
              "      border-bottom-color: var(--fill-color);\n",
              "    }\n",
              "  }\n",
              "</style>\n",
              "\n",
              "  <script>\n",
              "    async function quickchart(key) {\n",
              "      const quickchartButtonEl =\n",
              "        document.querySelector('#' + key + ' button');\n",
              "      quickchartButtonEl.disabled = true;  // To prevent multiple clicks.\n",
              "      quickchartButtonEl.classList.add('colab-df-spinner');\n",
              "      try {\n",
              "        const charts = await google.colab.kernel.invokeFunction(\n",
              "            'suggestCharts', [key], {});\n",
              "      } catch (error) {\n",
              "        console.error('Error during call to suggestCharts:', error);\n",
              "      }\n",
              "      quickchartButtonEl.classList.remove('colab-df-spinner');\n",
              "      quickchartButtonEl.classList.add('colab-df-quickchart-complete');\n",
              "    }\n",
              "    (() => {\n",
              "      let quickchartButtonEl =\n",
              "        document.querySelector('#df-6cbdab92-fce8-486d-bb72-7b226e7b4b2f button');\n",
              "      quickchartButtonEl.style.display =\n",
              "        google.colab.kernel.accessAllowed ? 'block' : 'none';\n",
              "    })();\n",
              "  </script>\n",
              "</div>\n",
              "    </div>\n",
              "  </div>\n"
            ]
          },
          "metadata": {},
          "execution_count": 175
        }
      ]
    },
    {
      "cell_type": "code",
      "source": [
        "# Rename the columns for better readability\n",
        "label_counts.columns = ['Label -1', 'Label 0', 'Label 1']\n",
        "\n",
        "# Plot the stacked bar chart\n",
        "plt.figure(figsize=(12, 6))\n",
        "label_counts.plot(kind='bar', stacked=True, colormap='Set2')\n",
        "plt.xlabel('Labels')\n",
        "plt.ylabel('Count')\n",
        "plt.title('Distribution of Label Values in Test Dataset for Each Label')\n",
        "\n",
        "# Show the plot\n",
        "plt.show()\n"
      ],
      "metadata": {
        "colab": {
          "base_uri": "https://localhost:8080/",
          "height": 566
        },
        "id": "hNL5QA25aSzA",
        "outputId": "2eb63277-f965-4292-adc7-d84250d22533"
      },
      "execution_count": null,
      "outputs": [
        {
          "output_type": "display_data",
          "data": {
            "text/plain": [
              "<Figure size 1200x600 with 0 Axes>"
            ]
          },
          "metadata": {}
        },
        {
          "output_type": "display_data",
          "data": {
            "text/plain": [
              "<Figure size 640x480 with 1 Axes>"
            ],
            "image/png": "[encoded data removed]"
          },
          "metadata": {}
        }
      ]
    },
    {
      "cell_type": "markdown",
      "source": [
        "Given the differences in the number of entries between our train set, the test set with -1 labels, and the test set without -1 labels, we have a few options to consider:\n",
        "\n",
        "1. Use the Test Set Without -1 Labels (63978 entries):\n",
        "\n",
        "  You can work with the test set that doesn't have -1 labels (the 63978 entries). This approach ensures that your evaluation metrics are based on the same data distribution as your train set. You would exclude the -1-labeled comments from your evaluation, as they were not used for scoring during the competition.\n",
        "\n",
        "2. Change -1 Labels to 0 in the Test Set (153164 entries):\n",
        "\n",
        "  If you want to make use of all available data, you can change the -1 labels to 0 in the test set with -1 labels (153164 entries). This approach treats -1-labeled comments as non-toxic for the purpose of classification. However, this may slightly skew your dataset towards non-toxic examples.\n",
        "\n",
        "In Preprocessing chapter we will chose the option.\n",
        "\n",
        "\n",
        "\n",
        "\n",
        "\n",
        "\n"
      ],
      "metadata": {
        "id": "HZzzcGfle7Ac"
      }
    },
    {
      "cell_type": "markdown",
      "source": [
        "### Preprocessing"
      ],
      "metadata": {
        "id": "2k1ryn4X9mcj"
      }
    },
    {
      "cell_type": "markdown",
      "source": [
        " #### Label Adjustment for Consistency\n",
        "\n",
        "**We chose option 2** because we wanted to make the most comprehensive use of all available data for our toxicity classification project. This decision was driven by the following considerations:\n",
        "\n",
        "1. **Leveraging All Available Data**: Our goal was to maximize the amount of data we could use for training and evaluation. By changing the -1 labels to 0 in the test set with -1 labels, we ensured that every piece of available data contributed to our model's training and testing.\n",
        "\n",
        "2. **Avoiding Data Exclusion**: Excluding the -1-labeled comments from evaluation, as in option 1, would have led to a smaller test set and potentially biased evaluation results. We preferred a more inclusive approach to maintain a larger and more representative test dataset.\n",
        "\n",
        "3. **Consistency with Training Data**: By treating -1 labels as non-toxic (0), we maintained consistency with our training data, where toxicity labels are typically binary (0 or 1). This allowed us to apply the same classification framework to the test set.\n",
        "\n",
        "4. **Flexibility**: Changing -1 labels to 0 provided flexibility in our modeling approach. We could train our model to distinguish between toxic (1) and non-toxic (0) comments, which aligned with our primary objective.\n",
        "\n",
        "While this approach slightly skewed our dataset towards non-toxic examples, it allowed us to make the most comprehensive use of available data and provided a practical way to handle the -1 labels within the context of our project's goals."
      ],
      "metadata": {
        "id": "n3v1pA9EoKhG"
      }
    },
    {
      "cell_type": "code",
      "source": [
        "df_test_labels"
      ],
      "metadata": {
        "colab": {
          "base_uri": "https://localhost:8080/"
        },
        "id": "KjhZGefRpYsq",
        "outputId": "c32d0d18-92ea-4d35-fff0-f48cee2b28a6"
      },
      "execution_count": null,
      "outputs": [
        {
          "output_type": "execute_result",
          "data": {
            "text/plain": [
              "                      id  toxic  severe_toxic  obscene  threat  insult  \\\n",
              "0       00001cee341fdb12     -1            -1       -1      -1      -1   \n",
              "1       0000247867823ef7     -1            -1       -1      -1      -1   \n",
              "2       00013b17ad220c46     -1            -1       -1      -1      -1   \n",
              "3       00017563c3f7919a     -1            -1       -1      -1      -1   \n",
              "4       00017695ad8997eb     -1            -1       -1      -1      -1   \n",
              "...                  ...    ...           ...      ...     ...     ...   \n",
              "153159  fffcd0960ee309b5     -1            -1       -1      -1      -1   \n",
              "153160  fffd7a9a6eb32c16     -1            -1       -1      -1      -1   \n",
              "153161  fffda9e8d6fafa9e     -1            -1       -1      -1      -1   \n",
              "153162  fffe8f1340a79fc2     -1            -1       -1      -1      -1   \n",
              "153163  ffffce3fb183ee80     -1            -1       -1      -1      -1   \n",
              "\n",
              "        identity_hate  \n",
              "0                  -1  \n",
              "1                  -1  \n",
              "2                  -1  \n",
              "3                  -1  \n",
              "4                  -1  \n",
              "...               ...  \n",
              "153159             -1  \n",
              "153160             -1  \n",
              "153161             -1  \n",
              "153162             -1  \n",
              "153163             -1  \n",
              "\n",
              "[153164 rows x 7 columns]"
            ],
            "text/html": [
              "\n",
              "  <div id=\"df-a48b054e-5655-4ec9-8dfe-1a3ccf8eae67\" class=\"colab-df-container\">\n",
              "    <div>\n",
              "<style scoped>\n",
              "    .dataframe tbody tr th:only-of-type {\n",
              "        vertical-align: middle;\n",
              "    }\n",
              "\n",
              "    .dataframe tbody tr th {\n",
              "        vertical-align: top;\n",
              "    }\n",
              "\n",
              "    .dataframe thead th {\n",
              "        text-align: right;\n",
              "    }\n",
              "</style>\n",
              "<table border=\"1\" class=\"dataframe\">\n",
              "  <thead>\n",
              "    <tr style=\"text-align: right;\">\n",
              "      <th></th>\n",
              "      <th>id</th>\n",
              "      <th>toxic</th>\n",
              "      <th>severe_toxic</th>\n",
              "      <th>obscene</th>\n",
              "      <th>threat</th>\n",
              "      <th>insult</th>\n",
              "      <th>identity_hate</th>\n",
              "    </tr>\n",
              "  </thead>\n",
              "  <tbody>\n",
              "    <tr>\n",
              "      <th>0</th>\n",
              "      <td>00001cee341fdb12</td>\n",
              "      <td>-1</td>\n",
              "      <td>-1</td>\n",
              "      <td>-1</td>\n",
              "      <td>-1</td>\n",
              "      <td>-1</td>\n",
              "      <td>-1</td>\n",
              "    </tr>\n",
              "    <tr>\n",
              "      <th>1</th>\n",
              "      <td>0000247867823ef7</td>\n",
              "      <td>-1</td>\n",
              "      <td>-1</td>\n",
              "      <td>-1</td>\n",
              "      <td>-1</td>\n",
              "      <td>-1</td>\n",
              "      <td>-1</td>\n",
              "    </tr>\n",
              "    <tr>\n",
              "      <th>2</th>\n",
              "      <td>00013b17ad220c46</td>\n",
              "      <td>-1</td>\n",
              "      <td>-1</td>\n",
              "      <td>-1</td>\n",
              "      <td>-1</td>\n",
              "      <td>-1</td>\n",
              "      <td>-1</td>\n",
              "    </tr>\n",
              "    <tr>\n",
              "      <th>3</th>\n",
              "      <td>00017563c3f7919a</td>\n",
              "      <td>-1</td>\n",
              "      <td>-1</td>\n",
              "      <td>-1</td>\n",
              "      <td>-1</td>\n",
              "      <td>-1</td>\n",
              "      <td>-1</td>\n",
              "    </tr>\n",
              "    <tr>\n",
              "      <th>4</th>\n",
              "      <td>00017695ad8997eb</td>\n",
              "      <td>-1</td>\n",
              "      <td>-1</td>\n",
              "      <td>-1</td>\n",
              "      <td>-1</td>\n",
              "      <td>-1</td>\n",
              "      <td>-1</td>\n",
              "    </tr>\n",
              "    <tr>\n",
              "      <th>...</th>\n",
              "      <td>...</td>\n",
              "      <td>...</td>\n",
              "      <td>...</td>\n",
              "      <td>...</td>\n",
              "      <td>...</td>\n",
              "      <td>...</td>\n",
              "      <td>...</td>\n",
              "    </tr>\n",
              "    <tr>\n",
              "      <th>153159</th>\n",
              "      <td>fffcd0960ee309b5</td>\n",
              "      <td>-1</td>\n",
              "      <td>-1</td>\n",
              "      <td>-1</td>\n",
              "      <td>-1</td>\n",
              "      <td>-1</td>\n",
              "      <td>-1</td>\n",
              "    </tr>\n",
              "    <tr>\n",
              "      <th>153160</th>\n",
              "      <td>fffd7a9a6eb32c16</td>\n",
              "      <td>-1</td>\n",
              "      <td>-1</td>\n",
              "      <td>-1</td>\n",
              "      <td>-1</td>\n",
              "      <td>-1</td>\n",
              "      <td>-1</td>\n",
              "    </tr>\n",
              "    <tr>\n",
              "      <th>153161</th>\n",
              "      <td>fffda9e8d6fafa9e</td>\n",
              "      <td>-1</td>\n",
              "      <td>-1</td>\n",
              "      <td>-1</td>\n",
              "      <td>-1</td>\n",
              "      <td>-1</td>\n",
              "      <td>-1</td>\n",
              "    </tr>\n",
              "    <tr>\n",
              "      <th>153162</th>\n",
              "      <td>fffe8f1340a79fc2</td>\n",
              "      <td>-1</td>\n",
              "      <td>-1</td>\n",
              "      <td>-1</td>\n",
              "      <td>-1</td>\n",
              "      <td>-1</td>\n",
              "      <td>-1</td>\n",
              "    </tr>\n",
              "    <tr>\n",
              "      <th>153163</th>\n",
              "      <td>ffffce3fb183ee80</td>\n",
              "      <td>-1</td>\n",
              "      <td>-1</td>\n",
              "      <td>-1</td>\n",
              "      <td>-1</td>\n",
              "      <td>-1</td>\n",
              "      <td>-1</td>\n",
              "    </tr>\n",
              "  </tbody>\n",
              "</table>\n",
              "<p>153164 rows × 7 columns</p>\n",
              "</div>\n",
              "    <div class=\"colab-df-buttons\">\n",
              "\n",
              "  <div class=\"colab-df-container\">\n",
              "    <button class=\"colab-df-convert\" onclick=\"convertToInteractive('df-a48b054e-5655-4ec9-8dfe-1a3ccf8eae67')\"\n",
              "            title=\"Convert this dataframe to an interactive table.\"\n",
              "            style=\"display:none;\">\n",
              "\n",
              "  <svg xmlns=\"http://www.w3.org/2000/svg\" height=\"24px\" viewBox=\"0 -960 960 960\">\n",
              "    <path d=\"M120-120v-720h720v720H120Zm60-500h600v-160H180v160Zm220 220h160v-160H400v160Zm0 220h160v-160H400v160ZM180-400h160v-160H180v160Zm440 0h160v-160H620v160ZM180-180h160v-160H180v160Zm440 0h160v-160H620v160Z\"/>\n",
              "  </svg>\n",
              "    </button>\n",
              "\n",
              "  <style>\n",
              "    .colab-df-container {\n",
              "      display:flex;\n",
              "      gap: 12px;\n",
              "    }\n",
              "\n",
              "    .colab-df-convert {\n",
              "      background-color: #E8F0FE;\n",
              "      border: none;\n",
              "      border-radius: 50%;\n",
              "      cursor: pointer;\n",
              "      display: none;\n",
              "      fill: #1967D2;\n",
              "      height: 32px;\n",
              "      padding: 0 0 0 0;\n",
              "      width: 32px;\n",
              "    }\n",
              "\n",
              "    .colab-df-convert:hover {\n",
              "      background-color: #E2EBFA;\n",
              "      box-shadow: 0px 1px 2px rgba(60, 64, 67, 0.3), 0px 1px 3px 1px rgba(60, 64, 67, 0.15);\n",
              "      fill: #174EA6;\n",
              "    }\n",
              "\n",
              "    .colab-df-buttons div {\n",
              "      margin-bottom: 4px;\n",
              "    }\n",
              "\n",
              "    [theme=dark] .colab-df-convert {\n",
              "      background-color: #3B4455;\n",
              "      fill: #D2E3FC;\n",
              "    }\n",
              "\n",
              "    [theme=dark] .colab-df-convert:hover {\n",
              "      background-color: #434B5C;\n",
              "      box-shadow: 0px 1px 3px 1px rgba(0, 0, 0, 0.15);\n",
              "      filter: drop-shadow(0px 1px 2px rgba(0, 0, 0, 0.3));\n",
              "      fill: #FFFFFF;\n",
              "    }\n",
              "  </style>\n",
              "\n",
              "    <script>\n",
              "      const buttonEl =\n",
              "        document.querySelector('#df-a48b054e-5655-4ec9-8dfe-1a3ccf8eae67 button.colab-df-convert');\n",
              "      buttonEl.style.display =\n",
              "        google.colab.kernel.accessAllowed ? 'block' : 'none';\n",
              "\n",
              "      async function convertToInteractive(key) {\n",
              "        const element = document.querySelector('#df-a48b054e-5655-4ec9-8dfe-1a3ccf8eae67');\n",
              "        const dataTable =\n",
              "          await google.colab.kernel.invokeFunction('convertToInteractive',\n",
              "                                                    [key], {});\n",
              "        if (!dataTable) return;\n",
              "\n",
              "        const docLinkHtml = 'Like what you see? Visit the ' +\n",
              "          '<a target=\"_blank\" href=https://colab.research.google.com/notebooks/data_table.ipynb>data table notebook</a>'\n",
              "          + ' to learn more about interactive tables.';\n",
              "        element.innerHTML = '';\n",
              "        dataTable['output_type'] = 'display_data';\n",
              "        await google.colab.output.renderOutput(dataTable, element);\n",
              "        const docLink = document.createElement('div');\n",
              "        docLink.innerHTML = docLinkHtml;\n",
              "        element.appendChild(docLink);\n",
              "      }\n",
              "    </script>\n",
              "  </div>\n",
              "\n",
              "\n",
              "<div id=\"df-03a7b749-34ce-4a12-acd2-f31477d0d911\">\n",
              "  <button class=\"colab-df-quickchart\" onclick=\"quickchart('df-03a7b749-34ce-4a12-acd2-f31477d0d911')\"\n",
              "            title=\"Suggest charts.\"\n",
              "            style=\"display:none;\">\n",
              "\n",
              "<svg xmlns=\"http://www.w3.org/2000/svg\" height=\"24px\"viewBox=\"0 0 24 24\"\n",
              "     width=\"24px\">\n",
              "    <g>\n",
              "        <path d=\"M19 3H5c-1.1 0-2 .9-2 2v14c0 1.1.9 2 2 2h14c1.1 0 2-.9 2-2V5c0-1.1-.9-2-2-2zM9 17H7v-7h2v7zm4 0h-2V7h2v10zm4 0h-2v-4h2v4z\"/>\n",
              "    </g>\n",
              "</svg>\n",
              "  </button>\n",
              "\n",
              "<style>\n",
              "  .colab-df-quickchart {\n",
              "      --bg-color: #E8F0FE;\n",
              "      --fill-color: #1967D2;\n",
              "      --hover-bg-color: #E2EBFA;\n",
              "      --hover-fill-color: #174EA6;\n",
              "      --disabled-fill-color: #AAA;\n",
              "      --disabled-bg-color: #DDD;\n",
              "  }\n",
              "\n",
              "  [theme=dark] .colab-df-quickchart {\n",
              "      --bg-color: #3B4455;\n",
              "      --fill-color: #D2E3FC;\n",
              "      --hover-bg-color: #434B5C;\n",
              "      --hover-fill-color: #FFFFFF;\n",
              "      --disabled-bg-color: #3B4455;\n",
              "      --disabled-fill-color: #666;\n",
              "  }\n",
              "\n",
              "  .colab-df-quickchart {\n",
              "    background-color: var(--bg-color);\n",
              "    border: none;\n",
              "    border-radius: 50%;\n",
              "    cursor: pointer;\n",
              "    display: none;\n",
              "    fill: var(--fill-color);\n",
              "    height: 32px;\n",
              "    padding: 0;\n",
              "    width: 32px;\n",
              "  }\n",
              "\n",
              "  .colab-df-quickchart:hover {\n",
              "    background-color: var(--hover-bg-color);\n",
              "    box-shadow: 0 1px 2px rgba(60, 64, 67, 0.3), 0 1px 3px 1px rgba(60, 64, 67, 0.15);\n",
              "    fill: var(--button-hover-fill-color);\n",
              "  }\n",
              "\n",
              "  .colab-df-quickchart-complete:disabled,\n",
              "  .colab-df-quickchart-complete:disabled:hover {\n",
              "    background-color: var(--disabled-bg-color);\n",
              "    fill: var(--disabled-fill-color);\n",
              "    box-shadow: none;\n",
              "  }\n",
              "\n",
              "  .colab-df-spinner {\n",
              "    border: 2px solid var(--fill-color);\n",
              "    border-color: transparent;\n",
              "    border-bottom-color: var(--fill-color);\n",
              "    animation:\n",
              "      spin 1s steps(1) infinite;\n",
              "  }\n",
              "\n",
              "  @keyframes spin {\n",
              "    0% {\n",
              "      border-color: transparent;\n",
              "      border-bottom-color: var(--fill-color);\n",
              "      border-left-color: var(--fill-color);\n",
              "    }\n",
              "    20% {\n",
              "      border-color: transparent;\n",
              "      border-left-color: var(--fill-color);\n",
              "      border-top-color: var(--fill-color);\n",
              "    }\n",
              "    30% {\n",
              "      border-color: transparent;\n",
              "      border-left-color: var(--fill-color);\n",
              "      border-top-color: var(--fill-color);\n",
              "      border-right-color: var(--fill-color);\n",
              "    }\n",
              "    40% {\n",
              "      border-color: transparent;\n",
              "      border-right-color: var(--fill-color);\n",
              "      border-top-color: var(--fill-color);\n",
              "    }\n",
              "    60% {\n",
              "      border-color: transparent;\n",
              "      border-right-color: var(--fill-color);\n",
              "    }\n",
              "    80% {\n",
              "      border-color: transparent;\n",
              "      border-right-color: var(--fill-color);\n",
              "      border-bottom-color: var(--fill-color);\n",
              "    }\n",
              "    90% {\n",
              "      border-color: transparent;\n",
              "      border-bottom-color: var(--fill-color);\n",
              "    }\n",
              "  }\n",
              "</style>\n",
              "\n",
              "  <script>\n",
              "    async function quickchart(key) {\n",
              "      const quickchartButtonEl =\n",
              "        document.querySelector('#' + key + ' button');\n",
              "      quickchartButtonEl.disabled = true;  // To prevent multiple clicks.\n",
              "      quickchartButtonEl.classList.add('colab-df-spinner');\n",
              "      try {\n",
              "        const charts = await google.colab.kernel.invokeFunction(\n",
              "            'suggestCharts', [key], {});\n",
              "      } catch (error) {\n",
              "        console.error('Error during call to suggestCharts:', error);\n",
              "      }\n",
              "      quickchartButtonEl.classList.remove('colab-df-spinner');\n",
              "      quickchartButtonEl.classList.add('colab-df-quickchart-complete');\n",
              "    }\n",
              "    (() => {\n",
              "      let quickchartButtonEl =\n",
              "        document.querySelector('#df-03a7b749-34ce-4a12-acd2-f31477d0d911 button');\n",
              "      quickchartButtonEl.style.display =\n",
              "        google.colab.kernel.accessAllowed ? 'block' : 'none';\n",
              "    })();\n",
              "  </script>\n",
              "</div>\n",
              "    </div>\n",
              "  </div>\n"
            ]
          },
          "metadata": {},
          "execution_count": 177
        }
      ]
    },
    {
      "cell_type": "code",
      "source": [
        "# test_cols_target is a list of columns where we want to change -1 to 0\n",
        "\n",
        "# Replace -1 labels with 0 in the specified columns\n",
        "for column in test_cols_target:\n",
        "  df_test_labels[column] = df_test_labels[column].replace(-1, 0)"
      ],
      "metadata": {
        "id": "1OJlAP1Se6Uy"
      },
      "execution_count": null,
      "outputs": []
    },
    {
      "cell_type": "code",
      "source": [
        "print(\"\\n\\n\\nSummary statistics for numeric columns in the test set:\\n\")\n",
        "print(df_test_labels.describe())"
      ],
      "metadata": {
        "colab": {
          "base_uri": "https://localhost:8080/"
        },
        "id": "fjQtDcp6XurD",
        "outputId": "2ef5ef03-b5f6-401d-82ee-661ceaad304f"
      },
      "execution_count": null,
      "outputs": [
        {
          "output_type": "stream",
          "name": "stdout",
          "text": [
            "\n",
            "\n",
            "\n",
            "Summary statistics for numeric columns in the test set:\n",
            "\n",
            "               toxic   severe_toxic        obscene         threat  \\\n",
            "count  153164.000000  153164.000000  153164.000000  153164.000000   \n",
            "mean        0.039761       0.002396       0.024098       0.001378   \n",
            "std         0.195399       0.048892       0.153355       0.037091   \n",
            "min         0.000000       0.000000       0.000000       0.000000   \n",
            "25%         0.000000       0.000000       0.000000       0.000000   \n",
            "50%         0.000000       0.000000       0.000000       0.000000   \n",
            "75%         0.000000       0.000000       0.000000       0.000000   \n",
            "max         1.000000       1.000000       1.000000       1.000000   \n",
            "\n",
            "              insult  identity_hate  \n",
            "count  153164.000000  153164.000000  \n",
            "mean        0.022375       0.004649  \n",
            "std         0.147899       0.068022  \n",
            "min         0.000000       0.000000  \n",
            "25%         0.000000       0.000000  \n",
            "50%         0.000000       0.000000  \n",
            "75%         0.000000       0.000000  \n",
            "max         1.000000       1.000000  \n"
          ]
        }
      ]
    },
    {
      "cell_type": "markdown",
      "source": [
        "**Summary statistics for numeric columns in the test set:**\n",
        "\n",
        "In this section, we are exploring the numeric columns of our test set, which contains labels indicating toxicity across various categories, including 'toxic,' 'severe_toxic,' 'obscene,' 'threat,' 'insult,' and 'identity_hate.' The statistics provide valuable insights into the distribution and characteristics of these labels within the test data.\n",
        "\n",
        "1. **Count:** The 'count' row tells us that there are 63,978 entries in each of the numeric label columns. This means that there are no missing values for these labels in our test set, indicating that every comment has been assigned a label.\n",
        "\n",
        "2. **Mean:** The 'mean' row displays the average or proportion of comments labeled as 1 (indicating toxicity) for each category. For instance, in the 'toxic' category, the mean is approximately 0.0952, suggesting that around 9.52% of the comments in our test dataset are labeled as toxic. Similarly, we see the mean values for other toxicity categories.\n",
        "\n",
        "3. **Standard Deviation (std):** The 'std' row represents the standard deviation, which measures the variability or spread in the labels across different comments for each category. Higher standard deviations suggest greater variability in the labels within that category.\n",
        "\n",
        "4. **Minimum and Maximum:** The 'min' and 'max' rows indicate the range of label values within each category. For binary labels (0 or 1), the minimum is 0 (indicating non-toxic) and the maximum is 1 (indicating toxic) in these columns.\n",
        "\n",
        "5. **Percentiles (25%, 50%, 75%):** These percentiles provide additional information about the distribution of toxicity levels within our test dataset. For example, at the 25th percentile (Q1), the 'toxic' category has a value of 0, indicating that 25% of the comments are labeled as non-toxic or have a toxicity score of 0. Similar percentile information is available for other categories.\n",
        "\n",
        "These summary statistics help us gain a better understanding of the distribution of toxicity labels within our test dataset, which is crucial for evaluating the performance of our toxicity detection model. It provides insights into class balance, data variability, and the prevalence of toxicity in our test data."
      ],
      "metadata": {
        "id": "XIuAuELEjfHh"
      }
    },
    {
      "cell_type": "markdown",
      "source": [
        "#### check for missing values"
      ],
      "metadata": {
        "id": "EqU6vawJ-av0"
      }
    },
    {
      "cell_type": "markdown",
      "source": [
        "We've already confirmed that there are no missing values in both the train and test datasets when we ran the `describe` function. However, it's important to emphasize the reasons for checking missing values:\n",
        "\n",
        "1. **Data Consistency:** Ensuring that both the training and test datasets are consistent is crucial. This step helps prevent any potential issues or errors that could arise if there were missing values in the test set that were not handled properly.\n",
        "\n",
        "2. **Preprocessing:** Although we've verified the absence of missing values, identifying and handling them is a fundamental part of data preprocessing. By performing this check, we ensure that we apply the same data preprocessing steps consistently to both datasets, ensuring that the model is trained and tested on comparable data.\n",
        "\n",
        "3. **Data Understanding:** While we've established that there are no missing values, conducting this check initially allowed us to gain insights into data quality and completeness. This understanding can still be valuable for feature engineering, model selection, and interpreting the model's performance.\n",
        "\n",
        "In summary, while our initial check confirmed the absence of missing values, it's a best practice to do so to ensure data consistency, proper preprocessing, and a thorough understanding of the data."
      ],
      "metadata": {
        "id": "SUP3ll2u-YFN"
      }
    },
    {
      "cell_type": "code",
      "source": [
        "# Using isna() or isnull() followed by sum() to count missing values in each column\n",
        "missing_values_train = df_train.isna().sum()\n",
        "missing_values_test = df_test_labels.isna().sum()\n",
        "# Print the missing values count for each column\n",
        "print(f\"Missing values in the train set per Column:{missing_values_train}\")\n",
        "print(f\"Missing values in the test set per Column:{missing_values_test}\")\n"
      ],
      "metadata": {
        "colab": {
          "base_uri": "https://localhost:8080/"
        },
        "id": "j9hRida4907-",
        "outputId": "7f81796b-0c55-4791-cee8-1a3aa7e85e14"
      },
      "execution_count": null,
      "outputs": [
        {
          "output_type": "stream",
          "name": "stdout",
          "text": [
            "Missing values in the train set per Column:id               0\n",
            "comment_text     0\n",
            "toxic            0\n",
            "severe_toxic     0\n",
            "obscene          0\n",
            "threat           0\n",
            "insult           0\n",
            "identity_hate    0\n",
            "dtype: int64\n",
            "Missing values in the test set per Column:id               0\n",
            "toxic            0\n",
            "severe_toxic     0\n",
            "obscene          0\n",
            "threat           0\n",
            "insult           0\n",
            "identity_hate    0\n",
            "dtype: int64\n"
          ]
        }
      ]
    },
    {
      "cell_type": "markdown",
      "source": [
        "#### correlation matrix\n",
        "In this step, we are going to examine the correlation matrix among all the labels. The purpose of doing this is to check if there are any features that exhibit a high degree of correlation with each other.\n",
        "\n",
        "Our goal here is to determine if there is an opportunity to eliminate one of the variables. For instance, if we find that one feature is highly correlated with another (we can define a correlation threshold in advance), we might consider dropping one of them. This can serve several purposes, such as saving storage space, improving the runtime of our algorithms, and making our models more efficient.\n",
        "\n",
        "So, in essence, we are looking for patterns of correlation among the labels to identify potential redundancies or strong dependencies between them."
      ],
      "metadata": {
        "id": "qnreLafxmTrB"
      }
    },
    {
      "cell_type": "code",
      "source": [
        "labels = df_train[cols_target]\n",
        "labels"
      ],
      "metadata": {
        "colab": {
          "base_uri": "https://localhost:8080/",
          "height": 423
        },
        "id": "Z9Q-jOoWt9ns",
        "outputId": "1cfd6068-1da1-40bc-a253-bcc2b421f599"
      },
      "execution_count": null,
      "outputs": [
        {
          "output_type": "execute_result",
          "data": {
            "text/plain": [
              "        obscene  insult  toxic  severe_toxic  identity_hate  threat\n",
              "0             0       0      0             0              0       0\n",
              "1             0       0      0             0              0       0\n",
              "2             0       0      0             0              0       0\n",
              "3             0       0      0             0              0       0\n",
              "4             0       0      0             0              0       0\n",
              "...         ...     ...    ...           ...            ...     ...\n",
              "159566        0       0      0             0              0       0\n",
              "159567        0       0      0             0              0       0\n",
              "159568        0       0      0             0              0       0\n",
              "159569        0       0      0             0              0       0\n",
              "159570        0       0      0             0              0       0\n",
              "\n",
              "[159571 rows x 6 columns]"
            ],
            "text/html": [
              "\n",
              "  <div id=\"df-e830296b-4453-4ef5-a806-073b254f09a3\" class=\"colab-df-container\">\n",
              "    <div>\n",
              "<style scoped>\n",
              "    .dataframe tbody tr th:only-of-type {\n",
              "        vertical-align: middle;\n",
              "    }\n",
              "\n",
              "    .dataframe tbody tr th {\n",
              "        vertical-align: top;\n",
              "    }\n",
              "\n",
              "    .dataframe thead th {\n",
              "        text-align: right;\n",
              "    }\n",
              "</style>\n",
              "<table border=\"1\" class=\"dataframe\">\n",
              "  <thead>\n",
              "    <tr style=\"text-align: right;\">\n",
              "      <th></th>\n",
              "      <th>obscene</th>\n",
              "      <th>insult</th>\n",
              "      <th>toxic</th>\n",
              "      <th>severe_toxic</th>\n",
              "      <th>identity_hate</th>\n",
              "      <th>threat</th>\n",
              "    </tr>\n",
              "  </thead>\n",
              "  <tbody>\n",
              "    <tr>\n",
              "      <th>0</th>\n",
              "      <td>0</td>\n",
              "      <td>0</td>\n",
              "      <td>0</td>\n",
              "      <td>0</td>\n",
              "      <td>0</td>\n",
              "      <td>0</td>\n",
              "    </tr>\n",
              "    <tr>\n",
              "      <th>1</th>\n",
              "      <td>0</td>\n",
              "      <td>0</td>\n",
              "      <td>0</td>\n",
              "      <td>0</td>\n",
              "      <td>0</td>\n",
              "      <td>0</td>\n",
              "    </tr>\n",
              "    <tr>\n",
              "      <th>2</th>\n",
              "      <td>0</td>\n",
              "      <td>0</td>\n",
              "      <td>0</td>\n",
              "      <td>0</td>\n",
              "      <td>0</td>\n",
              "      <td>0</td>\n",
              "    </tr>\n",
              "    <tr>\n",
              "      <th>3</th>\n",
              "      <td>0</td>\n",
              "      <td>0</td>\n",
              "      <td>0</td>\n",
              "      <td>0</td>\n",
              "      <td>0</td>\n",
              "      <td>0</td>\n",
              "    </tr>\n",
              "    <tr>\n",
              "      <th>4</th>\n",
              "      <td>0</td>\n",
              "      <td>0</td>\n",
              "      <td>0</td>\n",
              "      <td>0</td>\n",
              "      <td>0</td>\n",
              "      <td>0</td>\n",
              "    </tr>\n",
              "    <tr>\n",
              "      <th>...</th>\n",
              "      <td>...</td>\n",
              "      <td>...</td>\n",
              "      <td>...</td>\n",
              "      <td>...</td>\n",
              "      <td>...</td>\n",
              "      <td>...</td>\n",
              "    </tr>\n",
              "    <tr>\n",
              "      <th>159566</th>\n",
              "      <td>0</td>\n",
              "      <td>0</td>\n",
              "      <td>0</td>\n",
              "      <td>0</td>\n",
              "      <td>0</td>\n",
              "      <td>0</td>\n",
              "    </tr>\n",
              "    <tr>\n",
              "      <th>159567</th>\n",
              "      <td>0</td>\n",
              "      <td>0</td>\n",
              "      <td>0</td>\n",
              "      <td>0</td>\n",
              "      <td>0</td>\n",
              "      <td>0</td>\n",
              "    </tr>\n",
              "    <tr>\n",
              "      <th>159568</th>\n",
              "      <td>0</td>\n",
              "      <td>0</td>\n",
              "      <td>0</td>\n",
              "      <td>0</td>\n",
              "      <td>0</td>\n",
              "      <td>0</td>\n",
              "    </tr>\n",
              "    <tr>\n",
              "      <th>159569</th>\n",
              "      <td>0</td>\n",
              "      <td>0</td>\n",
              "      <td>0</td>\n",
              "      <td>0</td>\n",
              "      <td>0</td>\n",
              "      <td>0</td>\n",
              "    </tr>\n",
              "    <tr>\n",
              "      <th>159570</th>\n",
              "      <td>0</td>\n",
              "      <td>0</td>\n",
              "      <td>0</td>\n",
              "      <td>0</td>\n",
              "      <td>0</td>\n",
              "      <td>0</td>\n",
              "    </tr>\n",
              "  </tbody>\n",
              "</table>\n",
              "<p>159571 rows × 6 columns</p>\n",
              "</div>\n",
              "    <div class=\"colab-df-buttons\">\n",
              "\n",
              "  <div class=\"colab-df-container\">\n",
              "    <button class=\"colab-df-convert\" onclick=\"convertToInteractive('df-e830296b-4453-4ef5-a806-073b254f09a3')\"\n",
              "            title=\"Convert this dataframe to an interactive table.\"\n",
              "            style=\"display:none;\">\n",
              "\n",
              "  <svg xmlns=\"http://www.w3.org/2000/svg\" height=\"24px\" viewBox=\"0 -960 960 960\">\n",
              "    <path d=\"M120-120v-720h720v720H120Zm60-500h600v-160H180v160Zm220 220h160v-160H400v160Zm0 220h160v-160H400v160ZM180-400h160v-160H180v160Zm440 0h160v-160H620v160ZM180-180h160v-160H180v160Zm440 0h160v-160H620v160Z\"/>\n",
              "  </svg>\n",
              "    </button>\n",
              "\n",
              "  <style>\n",
              "    .colab-df-container {\n",
              "      display:flex;\n",
              "      gap: 12px;\n",
              "    }\n",
              "\n",
              "    .colab-df-convert {\n",
              "      background-color: #E8F0FE;\n",
              "      border: none;\n",
              "      border-radius: 50%;\n",
              "      cursor: pointer;\n",
              "      display: none;\n",
              "      fill: #1967D2;\n",
              "      height: 32px;\n",
              "      padding: 0 0 0 0;\n",
              "      width: 32px;\n",
              "    }\n",
              "\n",
              "    .colab-df-convert:hover {\n",
              "      background-color: #E2EBFA;\n",
              "      box-shadow: 0px 1px 2px rgba(60, 64, 67, 0.3), 0px 1px 3px 1px rgba(60, 64, 67, 0.15);\n",
              "      fill: #174EA6;\n",
              "    }\n",
              "\n",
              "    .colab-df-buttons div {\n",
              "      margin-bottom: 4px;\n",
              "    }\n",
              "\n",
              "    [theme=dark] .colab-df-convert {\n",
              "      background-color: #3B4455;\n",
              "      fill: #D2E3FC;\n",
              "    }\n",
              "\n",
              "    [theme=dark] .colab-df-convert:hover {\n",
              "      background-color: #434B5C;\n",
              "      box-shadow: 0px 1px 3px 1px rgba(0, 0, 0, 0.15);\n",
              "      filter: drop-shadow(0px 1px 2px rgba(0, 0, 0, 0.3));\n",
              "      fill: #FFFFFF;\n",
              "    }\n",
              "  </style>\n",
              "\n",
              "    <script>\n",
              "      const buttonEl =\n",
              "        document.querySelector('#df-e830296b-4453-4ef5-a806-073b254f09a3 button.colab-df-convert');\n",
              "      buttonEl.style.display =\n",
              "        google.colab.kernel.accessAllowed ? 'block' : 'none';\n",
              "\n",
              "      async function convertToInteractive(key) {\n",
              "        const element = document.querySelector('#df-e830296b-4453-4ef5-a806-073b254f09a3');\n",
              "        const dataTable =\n",
              "          await google.colab.kernel.invokeFunction('convertToInteractive',\n",
              "                                                    [key], {});\n",
              "        if (!dataTable) return;\n",
              "\n",
              "        const docLinkHtml = 'Like what you see? Visit the ' +\n",
              "          '<a target=\"_blank\" href=https://colab.research.google.com/notebooks/data_table.ipynb>data table notebook</a>'\n",
              "          + ' to learn more about interactive tables.';\n",
              "        element.innerHTML = '';\n",
              "        dataTable['output_type'] = 'display_data';\n",
              "        await google.colab.output.renderOutput(dataTable, element);\n",
              "        const docLink = document.createElement('div');\n",
              "        docLink.innerHTML = docLinkHtml;\n",
              "        element.appendChild(docLink);\n",
              "      }\n",
              "    </script>\n",
              "  </div>\n",
              "\n",
              "\n",
              "<div id=\"df-0b3af281-88fd-4b5d-8358-665792762234\">\n",
              "  <button class=\"colab-df-quickchart\" onclick=\"quickchart('df-0b3af281-88fd-4b5d-8358-665792762234')\"\n",
              "            title=\"Suggest charts.\"\n",
              "            style=\"display:none;\">\n",
              "\n",
              "<svg xmlns=\"http://www.w3.org/2000/svg\" height=\"24px\"viewBox=\"0 0 24 24\"\n",
              "     width=\"24px\">\n",
              "    <g>\n",
              "        <path d=\"M19 3H5c-1.1 0-2 .9-2 2v14c0 1.1.9 2 2 2h14c1.1 0 2-.9 2-2V5c0-1.1-.9-2-2-2zM9 17H7v-7h2v7zm4 0h-2V7h2v10zm4 0h-2v-4h2v4z\"/>\n",
              "    </g>\n",
              "</svg>\n",
              "  </button>\n",
              "\n",
              "<style>\n",
              "  .colab-df-quickchart {\n",
              "      --bg-color: #E8F0FE;\n",
              "      --fill-color: #1967D2;\n",
              "      --hover-bg-color: #E2EBFA;\n",
              "      --hover-fill-color: #174EA6;\n",
              "      --disabled-fill-color: #AAA;\n",
              "      --disabled-bg-color: #DDD;\n",
              "  }\n",
              "\n",
              "  [theme=dark] .colab-df-quickchart {\n",
              "      --bg-color: #3B4455;\n",
              "      --fill-color: #D2E3FC;\n",
              "      --hover-bg-color: #434B5C;\n",
              "      --hover-fill-color: #FFFFFF;\n",
              "      --disabled-bg-color: #3B4455;\n",
              "      --disabled-fill-color: #666;\n",
              "  }\n",
              "\n",
              "  .colab-df-quickchart {\n",
              "    background-color: var(--bg-color);\n",
              "    border: none;\n",
              "    border-radius: 50%;\n",
              "    cursor: pointer;\n",
              "    display: none;\n",
              "    fill: var(--fill-color);\n",
              "    height: 32px;\n",
              "    padding: 0;\n",
              "    width: 32px;\n",
              "  }\n",
              "\n",
              "  .colab-df-quickchart:hover {\n",
              "    background-color: var(--hover-bg-color);\n",
              "    box-shadow: 0 1px 2px rgba(60, 64, 67, 0.3), 0 1px 3px 1px rgba(60, 64, 67, 0.15);\n",
              "    fill: var(--button-hover-fill-color);\n",
              "  }\n",
              "\n",
              "  .colab-df-quickchart-complete:disabled,\n",
              "  .colab-df-quickchart-complete:disabled:hover {\n",
              "    background-color: var(--disabled-bg-color);\n",
              "    fill: var(--disabled-fill-color);\n",
              "    box-shadow: none;\n",
              "  }\n",
              "\n",
              "  .colab-df-spinner {\n",
              "    border: 2px solid var(--fill-color);\n",
              "    border-color: transparent;\n",
              "    border-bottom-color: var(--fill-color);\n",
              "    animation:\n",
              "      spin 1s steps(1) infinite;\n",
              "  }\n",
              "\n",
              "  @keyframes spin {\n",
              "    0% {\n",
              "      border-color: transparent;\n",
              "      border-bottom-color: var(--fill-color);\n",
              "      border-left-color: var(--fill-color);\n",
              "    }\n",
              "    20% {\n",
              "      border-color: transparent;\n",
              "      border-left-color: var(--fill-color);\n",
              "      border-top-color: var(--fill-color);\n",
              "    }\n",
              "    30% {\n",
              "      border-color: transparent;\n",
              "      border-left-color: var(--fill-color);\n",
              "      border-top-color: var(--fill-color);\n",
              "      border-right-color: var(--fill-color);\n",
              "    }\n",
              "    40% {\n",
              "      border-color: transparent;\n",
              "      border-right-color: var(--fill-color);\n",
              "      border-top-color: var(--fill-color);\n",
              "    }\n",
              "    60% {\n",
              "      border-color: transparent;\n",
              "      border-right-color: var(--fill-color);\n",
              "    }\n",
              "    80% {\n",
              "      border-color: transparent;\n",
              "      border-right-color: var(--fill-color);\n",
              "      border-bottom-color: var(--fill-color);\n",
              "    }\n",
              "    90% {\n",
              "      border-color: transparent;\n",
              "      border-bottom-color: var(--fill-color);\n",
              "    }\n",
              "  }\n",
              "</style>\n",
              "\n",
              "  <script>\n",
              "    async function quickchart(key) {\n",
              "      const quickchartButtonEl =\n",
              "        document.querySelector('#' + key + ' button');\n",
              "      quickchartButtonEl.disabled = true;  // To prevent multiple clicks.\n",
              "      quickchartButtonEl.classList.add('colab-df-spinner');\n",
              "      try {\n",
              "        const charts = await google.colab.kernel.invokeFunction(\n",
              "            'suggestCharts', [key], {});\n",
              "      } catch (error) {\n",
              "        console.error('Error during call to suggestCharts:', error);\n",
              "      }\n",
              "      quickchartButtonEl.classList.remove('colab-df-spinner');\n",
              "      quickchartButtonEl.classList.add('colab-df-quickchart-complete');\n",
              "    }\n",
              "    (() => {\n",
              "      let quickchartButtonEl =\n",
              "        document.querySelector('#df-0b3af281-88fd-4b5d-8358-665792762234 button');\n",
              "      quickchartButtonEl.style.display =\n",
              "        google.colab.kernel.accessAllowed ? 'block' : 'none';\n",
              "    })();\n",
              "  </script>\n",
              "</div>\n",
              "    </div>\n",
              "  </div>\n"
            ]
          },
          "metadata": {},
          "execution_count": 181
        }
      ]
    },
    {
      "cell_type": "code",
      "source": [
        "# Calculate the correlation matrix\n",
        "correlation_matrix = labels.corr()\n",
        "\n",
        "# Display the correlation matrix\n",
        "print(correlation_matrix)"
      ],
      "metadata": {
        "colab": {
          "base_uri": "https://localhost:8080/"
        },
        "id": "WksYcedduJjV",
        "outputId": "5f36918e-36c9-4e21-b6e6-840caca4d7e2"
      },
      "execution_count": null,
      "outputs": [
        {
          "output_type": "stream",
          "name": "stdout",
          "text": [
            "                obscene    insult     toxic  severe_toxic  identity_hate  \\\n",
            "obscene        1.000000  0.741272  0.676515      0.403014       0.286867   \n",
            "insult         0.741272  1.000000  0.647518      0.375807       0.337736   \n",
            "toxic          0.676515  0.647518  1.000000      0.308619       0.266009   \n",
            "severe_toxic   0.403014  0.375807  0.308619      1.000000       0.201600   \n",
            "identity_hate  0.286867  0.337736  0.266009      0.201600       1.000000   \n",
            "threat         0.141179  0.150022  0.157058      0.123601       0.115128   \n",
            "\n",
            "                 threat  \n",
            "obscene        0.141179  \n",
            "insult         0.150022  \n",
            "toxic          0.157058  \n",
            "severe_toxic   0.123601  \n",
            "identity_hate  0.115128  \n",
            "threat         1.000000  \n"
          ]
        }
      ]
    },
    {
      "cell_type": "code",
      "source": [
        "# Create a heatmap\n",
        "plt.figure(figsize=(8, 6))\n",
        "sns.heatmap(correlation_matrix, annot=True, cmap='coolwarm', linewidths=0.5)\n",
        "plt.title('Correlation Matrix of Labels')\n",
        "plt.show()"
      ],
      "metadata": {
        "colab": {
          "base_uri": "https://localhost:8080/",
          "height": 622
        },
        "id": "yLGWn4xYuUeU",
        "outputId": "6255dbbe-2d90-4596-b67b-2ff15d978fa8"
      },
      "execution_count": null,
      "outputs": [
        {
          "output_type": "display_data",
          "data": {
            "text/plain": [
              "<Figure size 800x600 with 2 Axes>"
            ],
            "image/png": "[encoded data removed]"
          },
          "metadata": {}
        }
      ]
    },
    {
      "cell_type": "markdown",
      "source": [
        "In our analysis, we calculated a correlation matrix that helps us understand how different labels related to toxicity are correlated with each other. Here's what we found:\n",
        "\n",
        "- We observed that \"obscene\" and \"insult\" labels have a strong positive correlation of approximately 0.741. This means that when a comment is labeled as \"obscene,\" it's highly likely to also be labeled as \"insult,\" and vice versa.\n",
        "\n",
        "- We also noticed a relatively strong positive correlation of around 0.648 between the \"toxic\" and \"insult\" labels. This suggests that comments labeled as \"toxic\" tend to also receive an \"insult\" label.\n",
        "\n",
        "- There's a positive correlation of about 0.376 between \"severe_toxic\" and \"insult\" labels, indicating some level of correlation between these two types of toxicity.\n",
        "\n",
        "- Similarly, we found a positive correlation of around 0.338 between \"identity_hate\" and \"insult\" labels, indicating some degree of correlation.\n",
        "\n",
        "- The \"threat\" label showed relatively lower positive correlations, ranging from approximately 0.141 to 0.157, when compared to other labels.\n",
        "\n",
        "These correlations provide insights into how different toxic behaviors in comments are related. It's important to consider these correlations when building machine learning models, as they can impact the model's performance and the interpretation of results."
      ],
      "metadata": {
        "id": "tfwLmmCGu8Nb"
      }
    },
    {
      "cell_type": "markdown",
      "source": [
        "We have made a decision to simplify this problem by transforming it into a **binary classification** task. The rationale behind this decision is as follows:\n",
        "\n",
        "1. **Simplification**: Toxicity classification can involve multiple labels (e.g., \"toxic,\" \"severe_toxic,\" \"obscene,\" etc.), making the task complex. By converting it into a binary problem, we simplify the classification task into two categories.\n",
        "\n",
        "2. **Uniformity**: Treating all types of toxic messages as a single category (\"toxic\") allows us to focus on identifying messages that **have harmful content**, regardless of the specific label. This simplification promotes consistency and clarity in our classification approach.\n",
        "\n",
        "3. **Practicality**: In many real-world applications, the goal is to identify and take action on any **message that poses a potential threat or harm**, without the need to distinguish between various levels of toxicity. Therefore, we define any message labeled as toxic (regardless of the specific label) as \"block\" (1), indicating the need for further action, and all non-toxic messages as \"not blocked\" (0).\n",
        "\n",
        "By making this transformation, we streamline the problem, making it easier to build a binary toxicity detection model. This model will classify messages into two broad categories: those that require action due to toxicity and those that do not."
      ],
      "metadata": {
        "id": "KThRTiFPw7d6"
      }
    },
    {
      "cell_type": "markdown",
      "source": [
        " #### Transforming the Label to Binary\n",
        "  we define any message labeled as toxic (regardless of the specific label) as \"block\" (1), indicating the need for further action, and all non-toxic messages as \"not blocked\" (0)."
      ],
      "metadata": {
        "id": "bvzsTf9skWyk"
      }
    },
    {
      "cell_type": "code",
      "source": [
        "df_train.columns"
      ],
      "metadata": {
        "colab": {
          "base_uri": "https://localhost:8080/"
        },
        "id": "zekMGe6-mLqV",
        "outputId": "1849d40a-5f84-491f-8356-0fe81124544e"
      },
      "execution_count": null,
      "outputs": [
        {
          "output_type": "execute_result",
          "data": {
            "text/plain": [
              "Index(['id', 'comment_text', 'toxic', 'severe_toxic', 'obscene', 'threat',\n",
              "       'insult', 'identity_hate'],\n",
              "      dtype='object')"
            ]
          },
          "metadata": {},
          "execution_count": 184
        }
      ]
    },
    {
      "cell_type": "code",
      "source": [
        "cols_target"
      ],
      "metadata": {
        "colab": {
          "base_uri": "https://localhost:8080/"
        },
        "id": "c9ss9sDYmR1g",
        "outputId": "2c7a35cc-97ac-4ffb-bf8a-f8e5d6b24489"
      },
      "execution_count": null,
      "outputs": [
        {
          "output_type": "execute_result",
          "data": {
            "text/plain": [
              "['obscene', 'insult', 'toxic', 'severe_toxic', 'identity_hate', 'threat']"
            ]
          },
          "metadata": {},
          "execution_count": 185
        }
      ]
    },
    {
      "cell_type": "code",
      "source": [
        "df_train[cols_target]"
      ],
      "metadata": {
        "colab": {
          "base_uri": "https://localhost:8080/",
          "height": 423
        },
        "id": "MP3nPrnCmEuv",
        "outputId": "748eb8f5-7aad-418c-b231-a187c6aa3dcc"
      },
      "execution_count": null,
      "outputs": [
        {
          "output_type": "execute_result",
          "data": {
            "text/plain": [
              "        obscene  insult  toxic  severe_toxic  identity_hate  threat\n",
              "0             0       0      0             0              0       0\n",
              "1             0       0      0             0              0       0\n",
              "2             0       0      0             0              0       0\n",
              "3             0       0      0             0              0       0\n",
              "4             0       0      0             0              0       0\n",
              "...         ...     ...    ...           ...            ...     ...\n",
              "159566        0       0      0             0              0       0\n",
              "159567        0       0      0             0              0       0\n",
              "159568        0       0      0             0              0       0\n",
              "159569        0       0      0             0              0       0\n",
              "159570        0       0      0             0              0       0\n",
              "\n",
              "[159571 rows x 6 columns]"
            ],
            "text/html": [
              "\n",
              "  <div id=\"df-65a481a9-0e47-4349-a2f5-d1067b6d115f\" class=\"colab-df-container\">\n",
              "    <div>\n",
              "<style scoped>\n",
              "    .dataframe tbody tr th:only-of-type {\n",
              "        vertical-align: middle;\n",
              "    }\n",
              "\n",
              "    .dataframe tbody tr th {\n",
              "        vertical-align: top;\n",
              "    }\n",
              "\n",
              "    .dataframe thead th {\n",
              "        text-align: right;\n",
              "    }\n",
              "</style>\n",
              "<table border=\"1\" class=\"dataframe\">\n",
              "  <thead>\n",
              "    <tr style=\"text-align: right;\">\n",
              "      <th></th>\n",
              "      <th>obscene</th>\n",
              "      <th>insult</th>\n",
              "      <th>toxic</th>\n",
              "      <th>severe_toxic</th>\n",
              "      <th>identity_hate</th>\n",
              "      <th>threat</th>\n",
              "    </tr>\n",
              "  </thead>\n",
              "  <tbody>\n",
              "    <tr>\n",
              "      <th>0</th>\n",
              "      <td>0</td>\n",
              "      <td>0</td>\n",
              "      <td>0</td>\n",
              "      <td>0</td>\n",
              "      <td>0</td>\n",
              "      <td>0</td>\n",
              "    </tr>\n",
              "    <tr>\n",
              "      <th>1</th>\n",
              "      <td>0</td>\n",
              "      <td>0</td>\n",
              "      <td>0</td>\n",
              "      <td>0</td>\n",
              "      <td>0</td>\n",
              "      <td>0</td>\n",
              "    </tr>\n",
              "    <tr>\n",
              "      <th>2</th>\n",
              "      <td>0</td>\n",
              "      <td>0</td>\n",
              "      <td>0</td>\n",
              "      <td>0</td>\n",
              "      <td>0</td>\n",
              "      <td>0</td>\n",
              "    </tr>\n",
              "    <tr>\n",
              "      <th>3</th>\n",
              "      <td>0</td>\n",
              "      <td>0</td>\n",
              "      <td>0</td>\n",
              "      <td>0</td>\n",
              "      <td>0</td>\n",
              "      <td>0</td>\n",
              "    </tr>\n",
              "    <tr>\n",
              "      <th>4</th>\n",
              "      <td>0</td>\n",
              "      <td>0</td>\n",
              "      <td>0</td>\n",
              "      <td>0</td>\n",
              "      <td>0</td>\n",
              "      <td>0</td>\n",
              "    </tr>\n",
              "    <tr>\n",
              "      <th>...</th>\n",
              "      <td>...</td>\n",
              "      <td>...</td>\n",
              "      <td>...</td>\n",
              "      <td>...</td>\n",
              "      <td>...</td>\n",
              "      <td>...</td>\n",
              "    </tr>\n",
              "    <tr>\n",
              "      <th>159566</th>\n",
              "      <td>0</td>\n",
              "      <td>0</td>\n",
              "      <td>0</td>\n",
              "      <td>0</td>\n",
              "      <td>0</td>\n",
              "      <td>0</td>\n",
              "    </tr>\n",
              "    <tr>\n",
              "      <th>159567</th>\n",
              "      <td>0</td>\n",
              "      <td>0</td>\n",
              "      <td>0</td>\n",
              "      <td>0</td>\n",
              "      <td>0</td>\n",
              "      <td>0</td>\n",
              "    </tr>\n",
              "    <tr>\n",
              "      <th>159568</th>\n",
              "      <td>0</td>\n",
              "      <td>0</td>\n",
              "      <td>0</td>\n",
              "      <td>0</td>\n",
              "      <td>0</td>\n",
              "      <td>0</td>\n",
              "    </tr>\n",
              "    <tr>\n",
              "      <th>159569</th>\n",
              "      <td>0</td>\n",
              "      <td>0</td>\n",
              "      <td>0</td>\n",
              "      <td>0</td>\n",
              "      <td>0</td>\n",
              "      <td>0</td>\n",
              "    </tr>\n",
              "    <tr>\n",
              "      <th>159570</th>\n",
              "      <td>0</td>\n",
              "      <td>0</td>\n",
              "      <td>0</td>\n",
              "      <td>0</td>\n",
              "      <td>0</td>\n",
              "      <td>0</td>\n",
              "    </tr>\n",
              "  </tbody>\n",
              "</table>\n",
              "<p>159571 rows × 6 columns</p>\n",
              "</div>\n",
              "    <div class=\"colab-df-buttons\">\n",
              "\n",
              "  <div class=\"colab-df-container\">\n",
              "    <button class=\"colab-df-convert\" onclick=\"convertToInteractive('df-65a481a9-0e47-4349-a2f5-d1067b6d115f')\"\n",
              "            title=\"Convert this dataframe to an interactive table.\"\n",
              "            style=\"display:none;\">\n",
              "\n",
              "  <svg xmlns=\"http://www.w3.org/2000/svg\" height=\"24px\" viewBox=\"0 -960 960 960\">\n",
              "    <path d=\"M120-120v-720h720v720H120Zm60-500h600v-160H180v160Zm220 220h160v-160H400v160Zm0 220h160v-160H400v160ZM180-400h160v-160H180v160Zm440 0h160v-160H620v160ZM180-180h160v-160H180v160Zm440 0h160v-160H620v160Z\"/>\n",
              "  </svg>\n",
              "    </button>\n",
              "\n",
              "  <style>\n",
              "    .colab-df-container {\n",
              "      display:flex;\n",
              "      gap: 12px;\n",
              "    }\n",
              "\n",
              "    .colab-df-convert {\n",
              "      background-color: #E8F0FE;\n",
              "      border: none;\n",
              "      border-radius: 50%;\n",
              "      cursor: pointer;\n",
              "      display: none;\n",
              "      fill: #1967D2;\n",
              "      height: 32px;\n",
              "      padding: 0 0 0 0;\n",
              "      width: 32px;\n",
              "    }\n",
              "\n",
              "    .colab-df-convert:hover {\n",
              "      background-color: #E2EBFA;\n",
              "      box-shadow: 0px 1px 2px rgba(60, 64, 67, 0.3), 0px 1px 3px 1px rgba(60, 64, 67, 0.15);\n",
              "      fill: #174EA6;\n",
              "    }\n",
              "\n",
              "    .colab-df-buttons div {\n",
              "      margin-bottom: 4px;\n",
              "    }\n",
              "\n",
              "    [theme=dark] .colab-df-convert {\n",
              "      background-color: #3B4455;\n",
              "      fill: #D2E3FC;\n",
              "    }\n",
              "\n",
              "    [theme=dark] .colab-df-convert:hover {\n",
              "      background-color: #434B5C;\n",
              "      box-shadow: 0px 1px 3px 1px rgba(0, 0, 0, 0.15);\n",
              "      filter: drop-shadow(0px 1px 2px rgba(0, 0, 0, 0.3));\n",
              "      fill: #FFFFFF;\n",
              "    }\n",
              "  </style>\n",
              "\n",
              "    <script>\n",
              "      const buttonEl =\n",
              "        document.querySelector('#df-65a481a9-0e47-4349-a2f5-d1067b6d115f button.colab-df-convert');\n",
              "      buttonEl.style.display =\n",
              "        google.colab.kernel.accessAllowed ? 'block' : 'none';\n",
              "\n",
              "      async function convertToInteractive(key) {\n",
              "        const element = document.querySelector('#df-65a481a9-0e47-4349-a2f5-d1067b6d115f');\n",
              "        const dataTable =\n",
              "          await google.colab.kernel.invokeFunction('convertToInteractive',\n",
              "                                                    [key], {});\n",
              "        if (!dataTable) return;\n",
              "\n",
              "        const docLinkHtml = 'Like what you see? Visit the ' +\n",
              "          '<a target=\"_blank\" href=https://colab.research.google.com/notebooks/data_table.ipynb>data table notebook</a>'\n",
              "          + ' to learn more about interactive tables.';\n",
              "        element.innerHTML = '';\n",
              "        dataTable['output_type'] = 'display_data';\n",
              "        await google.colab.output.renderOutput(dataTable, element);\n",
              "        const docLink = document.createElement('div');\n",
              "        docLink.innerHTML = docLinkHtml;\n",
              "        element.appendChild(docLink);\n",
              "      }\n",
              "    </script>\n",
              "  </div>\n",
              "\n",
              "\n",
              "<div id=\"df-cf5b5e51-5769-44fc-be07-d7ece4526ebe\">\n",
              "  <button class=\"colab-df-quickchart\" onclick=\"quickchart('df-cf5b5e51-5769-44fc-be07-d7ece4526ebe')\"\n",
              "            title=\"Suggest charts.\"\n",
              "            style=\"display:none;\">\n",
              "\n",
              "<svg xmlns=\"http://www.w3.org/2000/svg\" height=\"24px\"viewBox=\"0 0 24 24\"\n",
              "     width=\"24px\">\n",
              "    <g>\n",
              "        <path d=\"M19 3H5c-1.1 0-2 .9-2 2v14c0 1.1.9 2 2 2h14c1.1 0 2-.9 2-2V5c0-1.1-.9-2-2-2zM9 17H7v-7h2v7zm4 0h-2V7h2v10zm4 0h-2v-4h2v4z\"/>\n",
              "    </g>\n",
              "</svg>\n",
              "  </button>\n",
              "\n",
              "<style>\n",
              "  .colab-df-quickchart {\n",
              "      --bg-color: #E8F0FE;\n",
              "      --fill-color: #1967D2;\n",
              "      --hover-bg-color: #E2EBFA;\n",
              "      --hover-fill-color: #174EA6;\n",
              "      --disabled-fill-color: #AAA;\n",
              "      --disabled-bg-color: #DDD;\n",
              "  }\n",
              "\n",
              "  [theme=dark] .colab-df-quickchart {\n",
              "      --bg-color: #3B4455;\n",
              "      --fill-color: #D2E3FC;\n",
              "      --hover-bg-color: #434B5C;\n",
              "      --hover-fill-color: #FFFFFF;\n",
              "      --disabled-bg-color: #3B4455;\n",
              "      --disabled-fill-color: #666;\n",
              "  }\n",
              "\n",
              "  .colab-df-quickchart {\n",
              "    background-color: var(--bg-color);\n",
              "    border: none;\n",
              "    border-radius: 50%;\n",
              "    cursor: pointer;\n",
              "    display: none;\n",
              "    fill: var(--fill-color);\n",
              "    height: 32px;\n",
              "    padding: 0;\n",
              "    width: 32px;\n",
              "  }\n",
              "\n",
              "  .colab-df-quickchart:hover {\n",
              "    background-color: var(--hover-bg-color);\n",
              "    box-shadow: 0 1px 2px rgba(60, 64, 67, 0.3), 0 1px 3px 1px rgba(60, 64, 67, 0.15);\n",
              "    fill: var(--button-hover-fill-color);\n",
              "  }\n",
              "\n",
              "  .colab-df-quickchart-complete:disabled,\n",
              "  .colab-df-quickchart-complete:disabled:hover {\n",
              "    background-color: var(--disabled-bg-color);\n",
              "    fill: var(--disabled-fill-color);\n",
              "    box-shadow: none;\n",
              "  }\n",
              "\n",
              "  .colab-df-spinner {\n",
              "    border: 2px solid var(--fill-color);\n",
              "    border-color: transparent;\n",
              "    border-bottom-color: var(--fill-color);\n",
              "    animation:\n",
              "      spin 1s steps(1) infinite;\n",
              "  }\n",
              "\n",
              "  @keyframes spin {\n",
              "    0% {\n",
              "      border-color: transparent;\n",
              "      border-bottom-color: var(--fill-color);\n",
              "      border-left-color: var(--fill-color);\n",
              "    }\n",
              "    20% {\n",
              "      border-color: transparent;\n",
              "      border-left-color: var(--fill-color);\n",
              "      border-top-color: var(--fill-color);\n",
              "    }\n",
              "    30% {\n",
              "      border-color: transparent;\n",
              "      border-left-color: var(--fill-color);\n",
              "      border-top-color: var(--fill-color);\n",
              "      border-right-color: var(--fill-color);\n",
              "    }\n",
              "    40% {\n",
              "      border-color: transparent;\n",
              "      border-right-color: var(--fill-color);\n",
              "      border-top-color: var(--fill-color);\n",
              "    }\n",
              "    60% {\n",
              "      border-color: transparent;\n",
              "      border-right-color: var(--fill-color);\n",
              "    }\n",
              "    80% {\n",
              "      border-color: transparent;\n",
              "      border-right-color: var(--fill-color);\n",
              "      border-bottom-color: var(--fill-color);\n",
              "    }\n",
              "    90% {\n",
              "      border-color: transparent;\n",
              "      border-bottom-color: var(--fill-color);\n",
              "    }\n",
              "  }\n",
              "</style>\n",
              "\n",
              "  <script>\n",
              "    async function quickchart(key) {\n",
              "      const quickchartButtonEl =\n",
              "        document.querySelector('#' + key + ' button');\n",
              "      quickchartButtonEl.disabled = true;  // To prevent multiple clicks.\n",
              "      quickchartButtonEl.classList.add('colab-df-spinner');\n",
              "      try {\n",
              "        const charts = await google.colab.kernel.invokeFunction(\n",
              "            'suggestCharts', [key], {});\n",
              "      } catch (error) {\n",
              "        console.error('Error during call to suggestCharts:', error);\n",
              "      }\n",
              "      quickchartButtonEl.classList.remove('colab-df-spinner');\n",
              "      quickchartButtonEl.classList.add('colab-df-quickchart-complete');\n",
              "    }\n",
              "    (() => {\n",
              "      let quickchartButtonEl =\n",
              "        document.querySelector('#df-cf5b5e51-5769-44fc-be07-d7ece4526ebe button');\n",
              "      quickchartButtonEl.style.display =\n",
              "        google.colab.kernel.accessAllowed ? 'block' : 'none';\n",
              "    })();\n",
              "  </script>\n",
              "</div>\n",
              "    </div>\n",
              "  </div>\n"
            ]
          },
          "metadata": {},
          "execution_count": 186
        }
      ]
    },
    {
      "cell_type": "code",
      "source": [
        "df_train['block'] =df_train[cols_target].sum(axis =1)"
      ],
      "metadata": {
        "id": "4kDMauNRrr1-"
      },
      "execution_count": null,
      "outputs": []
    },
    {
      "cell_type": "markdown",
      "source": [
        "We are adding a new column, 'block', to the df_train dataframe. This column tallies the number of specific labels from the cols_target columns for each entry. For example, if a message is tagged with toxic=1 and insult=1 while other labels are 0, the 'block' column will show a value of 2."
      ],
      "metadata": {
        "id": "3twa326Iq9RR"
      }
    },
    {
      "cell_type": "code",
      "source": [
        "print(\"the distribution of labels across the train dataset\")\n",
        "print(df_train['block'].value_counts())"
      ],
      "metadata": {
        "colab": {
          "base_uri": "https://localhost:8080/"
        },
        "id": "hdlCq4cdmpcA",
        "outputId": "bc527172-2559-445f-b36e-152abf3c487e"
      },
      "execution_count": null,
      "outputs": [
        {
          "output_type": "stream",
          "name": "stdout",
          "text": [
            "the distribution of labels across the train dataset\n",
            "0    143346\n",
            "1      6360\n",
            "3      4209\n",
            "2      3480\n",
            "4      1760\n",
            "5       385\n",
            "6        31\n",
            "Name: block, dtype: int64\n"
          ]
        }
      ]
    },
    {
      "cell_type": "markdown",
      "source": [
        "We print df_train['block'].value_counts() to get a distribution of the summed label values in the dataset. By doing this, we can quickly understand how many entries (or messages) have a particular number of labels. This helps in assessing the distribution of labels across the dataset, allowing us to see, for instance, how many messages are tagged with just one label versus how many have multiple labels. It provides a concise summary of the label combinations in our data."
      ],
      "metadata": {
        "id": "a2L5rcSusBo-"
      }
    },
    {
      "cell_type": "markdown",
      "source": [
        "**Train Set**:\n",
        "- **0**: There are 146,921 entries in the test set that have been labeled as `0`. This indicates that these entries do not have any of the toxic labels associated with them.\n",
        "- **1**: There are 6,243 entries in the test set labeled as `1`. This suggests that these entries have at least one toxic label associated with them."
      ],
      "metadata": {
        "id": "wJv0nsjhzWCA"
      }
    },
    {
      "cell_type": "markdown",
      "source": [
        "**Binary Transformation of 'block' Column**\n",
        "\n",
        "The np.where() function checks the condition data['block'] > 0. If the condition is True, it assigns 1, otherwise it assigns 0.\n",
        "\n",
        "This method is efficient, especially for large datasets, as it avoids explicit loops and leverages the optimized operations provided by numpy."
      ],
      "metadata": {
        "id": "Z1ownZ--tfqf"
      }
    },
    {
      "cell_type": "code",
      "source": [
        "df_train['block'] = np.where(df_train['block'] > 0, 1, 0)\n",
        "df_train.head()"
      ],
      "metadata": {
        "colab": {
          "base_uri": "https://localhost:8080/",
          "height": 206
        },
        "id": "orgSCIT8uMDK",
        "outputId": "4db1bdf8-fe35-4dbe-998e-049cfd406cde"
      },
      "execution_count": null,
      "outputs": [
        {
          "output_type": "execute_result",
          "data": {
            "text/plain": [
              "                 id                                       comment_text  toxic  \\\n",
              "0  0000997932d777bf  Explanation\\nWhy the edits made under my usern...      0   \n",
              "1  000103f0d9cfb60f  D'aww! He matches this background colour I'm s...      0   \n",
              "2  000113f07ec002fd  Hey man, I'm really not trying to edit war. It...      0   \n",
              "3  0001b41b1c6bb37e  \"\\nMore\\nI can't make any real suggestions on ...      0   \n",
              "4  0001d958c54c6e35  You, sir, are my hero. Any chance you remember...      0   \n",
              "\n",
              "   severe_toxic  obscene  threat  insult  identity_hate  block  \n",
              "0             0        0       0       0              0      0  \n",
              "1             0        0       0       0              0      0  \n",
              "2             0        0       0       0              0      0  \n",
              "3             0        0       0       0              0      0  \n",
              "4             0        0       0       0              0      0  "
            ],
            "text/html": [
              "\n",
              "  <div id=\"df-d61e4c31-fa1e-4930-b56e-b4fc7f715516\" class=\"colab-df-container\">\n",
              "    <div>\n",
              "<style scoped>\n",
              "    .dataframe tbody tr th:only-of-type {\n",
              "        vertical-align: middle;\n",
              "    }\n",
              "\n",
              "    .dataframe tbody tr th {\n",
              "        vertical-align: top;\n",
              "    }\n",
              "\n",
              "    .dataframe thead th {\n",
              "        text-align: right;\n",
              "    }\n",
              "</style>\n",
              "<table border=\"1\" class=\"dataframe\">\n",
              "  <thead>\n",
              "    <tr style=\"text-align: right;\">\n",
              "      <th></th>\n",
              "      <th>id</th>\n",
              "      <th>comment_text</th>\n",
              "      <th>toxic</th>\n",
              "      <th>severe_toxic</th>\n",
              "      <th>obscene</th>\n",
              "      <th>threat</th>\n",
              "      <th>insult</th>\n",
              "      <th>identity_hate</th>\n",
              "      <th>block</th>\n",
              "    </tr>\n",
              "  </thead>\n",
              "  <tbody>\n",
              "    <tr>\n",
              "      <th>0</th>\n",
              "      <td>0000997932d777bf</td>\n",
              "      <td>Explanation\\nWhy the edits made under my usern...</td>\n",
              "      <td>0</td>\n",
              "      <td>0</td>\n",
              "      <td>0</td>\n",
              "      <td>0</td>\n",
              "      <td>0</td>\n",
              "      <td>0</td>\n",
              "      <td>0</td>\n",
              "    </tr>\n",
              "    <tr>\n",
              "      <th>1</th>\n",
              "      <td>000103f0d9cfb60f</td>\n",
              "      <td>D'aww! He matches this background colour I'm s...</td>\n",
              "      <td>0</td>\n",
              "      <td>0</td>\n",
              "      <td>0</td>\n",
              "      <td>0</td>\n",
              "      <td>0</td>\n",
              "      <td>0</td>\n",
              "      <td>0</td>\n",
              "    </tr>\n",
              "    <tr>\n",
              "      <th>2</th>\n",
              "      <td>000113f07ec002fd</td>\n",
              "      <td>Hey man, I'm really not trying to edit war. It...</td>\n",
              "      <td>0</td>\n",
              "      <td>0</td>\n",
              "      <td>0</td>\n",
              "      <td>0</td>\n",
              "      <td>0</td>\n",
              "      <td>0</td>\n",
              "      <td>0</td>\n",
              "    </tr>\n",
              "    <tr>\n",
              "      <th>3</th>\n",
              "      <td>0001b41b1c6bb37e</td>\n",
              "      <td>\"\\nMore\\nI can't make any real suggestions on ...</td>\n",
              "      <td>0</td>\n",
              "      <td>0</td>\n",
              "      <td>0</td>\n",
              "      <td>0</td>\n",
              "      <td>0</td>\n",
              "      <td>0</td>\n",
              "      <td>0</td>\n",
              "    </tr>\n",
              "    <tr>\n",
              "      <th>4</th>\n",
              "      <td>0001d958c54c6e35</td>\n",
              "      <td>You, sir, are my hero. Any chance you remember...</td>\n",
              "      <td>0</td>\n",
              "      <td>0</td>\n",
              "      <td>0</td>\n",
              "      <td>0</td>\n",
              "      <td>0</td>\n",
              "      <td>0</td>\n",
              "      <td>0</td>\n",
              "    </tr>\n",
              "  </tbody>\n",
              "</table>\n",
              "</div>\n",
              "    <div class=\"colab-df-buttons\">\n",
              "\n",
              "  <div class=\"colab-df-container\">\n",
              "    <button class=\"colab-df-convert\" onclick=\"convertToInteractive('df-d61e4c31-fa1e-4930-b56e-b4fc7f715516')\"\n",
              "            title=\"Convert this dataframe to an interactive table.\"\n",
              "            style=\"display:none;\">\n",
              "\n",
              "  <svg xmlns=\"http://www.w3.org/2000/svg\" height=\"24px\" viewBox=\"0 -960 960 960\">\n",
              "    <path d=\"M120-120v-720h720v720H120Zm60-500h600v-160H180v160Zm220 220h160v-160H400v160Zm0 220h160v-160H400v160ZM180-400h160v-160H180v160Zm440 0h160v-160H620v160ZM180-180h160v-160H180v160Zm440 0h160v-160H620v160Z\"/>\n",
              "  </svg>\n",
              "    </button>\n",
              "\n",
              "  <style>\n",
              "    .colab-df-container {\n",
              "      display:flex;\n",
              "      gap: 12px;\n",
              "    }\n",
              "\n",
              "    .colab-df-convert {\n",
              "      background-color: #E8F0FE;\n",
              "      border: none;\n",
              "      border-radius: 50%;\n",
              "      cursor: pointer;\n",
              "      display: none;\n",
              "      fill: #1967D2;\n",
              "      height: 32px;\n",
              "      padding: 0 0 0 0;\n",
              "      width: 32px;\n",
              "    }\n",
              "\n",
              "    .colab-df-convert:hover {\n",
              "      background-color: #E2EBFA;\n",
              "      box-shadow: 0px 1px 2px rgba(60, 64, 67, 0.3), 0px 1px 3px 1px rgba(60, 64, 67, 0.15);\n",
              "      fill: #174EA6;\n",
              "    }\n",
              "\n",
              "    .colab-df-buttons div {\n",
              "      margin-bottom: 4px;\n",
              "    }\n",
              "\n",
              "    [theme=dark] .colab-df-convert {\n",
              "      background-color: #3B4455;\n",
              "      fill: #D2E3FC;\n",
              "    }\n",
              "\n",
              "    [theme=dark] .colab-df-convert:hover {\n",
              "      background-color: #434B5C;\n",
              "      box-shadow: 0px 1px 3px 1px rgba(0, 0, 0, 0.15);\n",
              "      filter: drop-shadow(0px 1px 2px rgba(0, 0, 0, 0.3));\n",
              "      fill: #FFFFFF;\n",
              "    }\n",
              "  </style>\n",
              "\n",
              "    <script>\n",
              "      const buttonEl =\n",
              "        document.querySelector('#df-d61e4c31-fa1e-4930-b56e-b4fc7f715516 button.colab-df-convert');\n",
              "      buttonEl.style.display =\n",
              "        google.colab.kernel.accessAllowed ? 'block' : 'none';\n",
              "\n",
              "      async function convertToInteractive(key) {\n",
              "        const element = document.querySelector('#df-d61e4c31-fa1e-4930-b56e-b4fc7f715516');\n",
              "        const dataTable =\n",
              "          await google.colab.kernel.invokeFunction('convertToInteractive',\n",
              "                                                    [key], {});\n",
              "        if (!dataTable) return;\n",
              "\n",
              "        const docLinkHtml = 'Like what you see? Visit the ' +\n",
              "          '<a target=\"_blank\" href=https://colab.research.google.com/notebooks/data_table.ipynb>data table notebook</a>'\n",
              "          + ' to learn more about interactive tables.';\n",
              "        element.innerHTML = '';\n",
              "        dataTable['output_type'] = 'display_data';\n",
              "        await google.colab.output.renderOutput(dataTable, element);\n",
              "        const docLink = document.createElement('div');\n",
              "        docLink.innerHTML = docLinkHtml;\n",
              "        element.appendChild(docLink);\n",
              "      }\n",
              "    </script>\n",
              "  </div>\n",
              "\n",
              "\n",
              "<div id=\"df-ff60ac82-9db7-4adf-811d-967b59a802b9\">\n",
              "  <button class=\"colab-df-quickchart\" onclick=\"quickchart('df-ff60ac82-9db7-4adf-811d-967b59a802b9')\"\n",
              "            title=\"Suggest charts.\"\n",
              "            style=\"display:none;\">\n",
              "\n",
              "<svg xmlns=\"http://www.w3.org/2000/svg\" height=\"24px\"viewBox=\"0 0 24 24\"\n",
              "     width=\"24px\">\n",
              "    <g>\n",
              "        <path d=\"M19 3H5c-1.1 0-2 .9-2 2v14c0 1.1.9 2 2 2h14c1.1 0 2-.9 2-2V5c0-1.1-.9-2-2-2zM9 17H7v-7h2v7zm4 0h-2V7h2v10zm4 0h-2v-4h2v4z\"/>\n",
              "    </g>\n",
              "</svg>\n",
              "  </button>\n",
              "\n",
              "<style>\n",
              "  .colab-df-quickchart {\n",
              "      --bg-color: #E8F0FE;\n",
              "      --fill-color: #1967D2;\n",
              "      --hover-bg-color: #E2EBFA;\n",
              "      --hover-fill-color: #174EA6;\n",
              "      --disabled-fill-color: #AAA;\n",
              "      --disabled-bg-color: #DDD;\n",
              "  }\n",
              "\n",
              "  [theme=dark] .colab-df-quickchart {\n",
              "      --bg-color: #3B4455;\n",
              "      --fill-color: #D2E3FC;\n",
              "      --hover-bg-color: #434B5C;\n",
              "      --hover-fill-color: #FFFFFF;\n",
              "      --disabled-bg-color: #3B4455;\n",
              "      --disabled-fill-color: #666;\n",
              "  }\n",
              "\n",
              "  .colab-df-quickchart {\n",
              "    background-color: var(--bg-color);\n",
              "    border: none;\n",
              "    border-radius: 50%;\n",
              "    cursor: pointer;\n",
              "    display: none;\n",
              "    fill: var(--fill-color);\n",
              "    height: 32px;\n",
              "    padding: 0;\n",
              "    width: 32px;\n",
              "  }\n",
              "\n",
              "  .colab-df-quickchart:hover {\n",
              "    background-color: var(--hover-bg-color);\n",
              "    box-shadow: 0 1px 2px rgba(60, 64, 67, 0.3), 0 1px 3px 1px rgba(60, 64, 67, 0.15);\n",
              "    fill: var(--button-hover-fill-color);\n",
              "  }\n",
              "\n",
              "  .colab-df-quickchart-complete:disabled,\n",
              "  .colab-df-quickchart-complete:disabled:hover {\n",
              "    background-color: var(--disabled-bg-color);\n",
              "    fill: var(--disabled-fill-color);\n",
              "    box-shadow: none;\n",
              "  }\n",
              "\n",
              "  .colab-df-spinner {\n",
              "    border: 2px solid var(--fill-color);\n",
              "    border-color: transparent;\n",
              "    border-bottom-color: var(--fill-color);\n",
              "    animation:\n",
              "      spin 1s steps(1) infinite;\n",
              "  }\n",
              "\n",
              "  @keyframes spin {\n",
              "    0% {\n",
              "      border-color: transparent;\n",
              "      border-bottom-color: var(--fill-color);\n",
              "      border-left-color: var(--fill-color);\n",
              "    }\n",
              "    20% {\n",
              "      border-color: transparent;\n",
              "      border-left-color: var(--fill-color);\n",
              "      border-top-color: var(--fill-color);\n",
              "    }\n",
              "    30% {\n",
              "      border-color: transparent;\n",
              "      border-left-color: var(--fill-color);\n",
              "      border-top-color: var(--fill-color);\n",
              "      border-right-color: var(--fill-color);\n",
              "    }\n",
              "    40% {\n",
              "      border-color: transparent;\n",
              "      border-right-color: var(--fill-color);\n",
              "      border-top-color: var(--fill-color);\n",
              "    }\n",
              "    60% {\n",
              "      border-color: transparent;\n",
              "      border-right-color: var(--fill-color);\n",
              "    }\n",
              "    80% {\n",
              "      border-color: transparent;\n",
              "      border-right-color: var(--fill-color);\n",
              "      border-bottom-color: var(--fill-color);\n",
              "    }\n",
              "    90% {\n",
              "      border-color: transparent;\n",
              "      border-bottom-color: var(--fill-color);\n",
              "    }\n",
              "  }\n",
              "</style>\n",
              "\n",
              "  <script>\n",
              "    async function quickchart(key) {\n",
              "      const quickchartButtonEl =\n",
              "        document.querySelector('#' + key + ' button');\n",
              "      quickchartButtonEl.disabled = true;  // To prevent multiple clicks.\n",
              "      quickchartButtonEl.classList.add('colab-df-spinner');\n",
              "      try {\n",
              "        const charts = await google.colab.kernel.invokeFunction(\n",
              "            'suggestCharts', [key], {});\n",
              "      } catch (error) {\n",
              "        console.error('Error during call to suggestCharts:', error);\n",
              "      }\n",
              "      quickchartButtonEl.classList.remove('colab-df-spinner');\n",
              "      quickchartButtonEl.classList.add('colab-df-quickchart-complete');\n",
              "    }\n",
              "    (() => {\n",
              "      let quickchartButtonEl =\n",
              "        document.querySelector('#df-ff60ac82-9db7-4adf-811d-967b59a802b9 button');\n",
              "      quickchartButtonEl.style.display =\n",
              "        google.colab.kernel.accessAllowed ? 'block' : 'none';\n",
              "    })();\n",
              "  </script>\n",
              "</div>\n",
              "    </div>\n",
              "  </div>\n"
            ]
          },
          "metadata": {},
          "execution_count": 189
        }
      ]
    },
    {
      "cell_type": "code",
      "source": [
        "print(df_train['block'].value_counts())"
      ],
      "metadata": {
        "colab": {
          "base_uri": "https://localhost:8080/"
        },
        "id": "uROP_vfevCUr",
        "outputId": "09a540d4-0b15-412c-f95c-2b6181059040"
      },
      "execution_count": null,
      "outputs": [
        {
          "output_type": "stream",
          "name": "stdout",
          "text": [
            "0    143346\n",
            "1     16225\n",
            "Name: block, dtype: int64\n"
          ]
        }
      ]
    },
    {
      "cell_type": "markdown",
      "source": [
        "By executing `print(df_train['block'].value_counts())`, we are displaying the distribution of values within the 'block' column of the `df_train` dataframe. Specifically:\n",
        "\n",
        "- `df_train['block'].value_counts()` counts the occurrences of each unique value in the 'block' column.\n",
        "- The result provides insight into how many entries (or rows) have a value of `0` and how many have a value of `1` in the 'block' column.\n",
        "\n",
        "Given that the 'block' column was transformed into a binary format, the output will show the number of rows labeled as `0` and the number of rows labeled as `1`. This helps us understand the distribution and prevalence of each label in our dataset."
      ],
      "metadata": {
        "id": "eh560iP6u4M6"
      }
    },
    {
      "cell_type": "markdown",
      "source": [
        "**Train Set**:\n",
        "- **0**: There are 143,346 entries in the train set labeled as `0`, implying that these entries are not associated with any toxic labels.\n",
        "- **1**: There are 16,225 entries in the train set labeled as `1`, indicating that these entries have one or more toxic labels.\n"
      ],
      "metadata": {
        "id": "bOBG384DzdcG"
      }
    },
    {
      "cell_type": "markdown",
      "source": [
        "know we will do the same for the test set:"
      ],
      "metadata": {
        "id": "Ol7sFStSvVqH"
      }
    },
    {
      "cell_type": "code",
      "source": [
        "df_test_labels.head()"
      ],
      "metadata": {
        "colab": {
          "base_uri": "https://localhost:8080/",
          "height": 206
        },
        "id": "G_pao11OkV3q",
        "outputId": "25c4961c-2bd0-49fd-8e27-2c4630ed99ae"
      },
      "execution_count": null,
      "outputs": [
        {
          "output_type": "execute_result",
          "data": {
            "text/plain": [
              "                 id  toxic  severe_toxic  obscene  threat  insult  \\\n",
              "0  00001cee341fdb12      0             0        0       0       0   \n",
              "1  0000247867823ef7      0             0        0       0       0   \n",
              "2  00013b17ad220c46      0             0        0       0       0   \n",
              "3  00017563c3f7919a      0             0        0       0       0   \n",
              "4  00017695ad8997eb      0             0        0       0       0   \n",
              "\n",
              "   identity_hate  \n",
              "0              0  \n",
              "1              0  \n",
              "2              0  \n",
              "3              0  \n",
              "4              0  "
            ],
            "text/html": [
              "\n",
              "  <div id=\"df-678e4054-2773-4952-a2cd-93a6bf3a32f2\" class=\"colab-df-container\">\n",
              "    <div>\n",
              "<style scoped>\n",
              "    .dataframe tbody tr th:only-of-type {\n",
              "        vertical-align: middle;\n",
              "    }\n",
              "\n",
              "    .dataframe tbody tr th {\n",
              "        vertical-align: top;\n",
              "    }\n",
              "\n",
              "    .dataframe thead th {\n",
              "        text-align: right;\n",
              "    }\n",
              "</style>\n",
              "<table border=\"1\" class=\"dataframe\">\n",
              "  <thead>\n",
              "    <tr style=\"text-align: right;\">\n",
              "      <th></th>\n",
              "      <th>id</th>\n",
              "      <th>toxic</th>\n",
              "      <th>severe_toxic</th>\n",
              "      <th>obscene</th>\n",
              "      <th>threat</th>\n",
              "      <th>insult</th>\n",
              "      <th>identity_hate</th>\n",
              "    </tr>\n",
              "  </thead>\n",
              "  <tbody>\n",
              "    <tr>\n",
              "      <th>0</th>\n",
              "      <td>00001cee341fdb12</td>\n",
              "      <td>0</td>\n",
              "      <td>0</td>\n",
              "      <td>0</td>\n",
              "      <td>0</td>\n",
              "      <td>0</td>\n",
              "      <td>0</td>\n",
              "    </tr>\n",
              "    <tr>\n",
              "      <th>1</th>\n",
              "      <td>0000247867823ef7</td>\n",
              "      <td>0</td>\n",
              "      <td>0</td>\n",
              "      <td>0</td>\n",
              "      <td>0</td>\n",
              "      <td>0</td>\n",
              "      <td>0</td>\n",
              "    </tr>\n",
              "    <tr>\n",
              "      <th>2</th>\n",
              "      <td>00013b17ad220c46</td>\n",
              "      <td>0</td>\n",
              "      <td>0</td>\n",
              "      <td>0</td>\n",
              "      <td>0</td>\n",
              "      <td>0</td>\n",
              "      <td>0</td>\n",
              "    </tr>\n",
              "    <tr>\n",
              "      <th>3</th>\n",
              "      <td>00017563c3f7919a</td>\n",
              "      <td>0</td>\n",
              "      <td>0</td>\n",
              "      <td>0</td>\n",
              "      <td>0</td>\n",
              "      <td>0</td>\n",
              "      <td>0</td>\n",
              "    </tr>\n",
              "    <tr>\n",
              "      <th>4</th>\n",
              "      <td>00017695ad8997eb</td>\n",
              "      <td>0</td>\n",
              "      <td>0</td>\n",
              "      <td>0</td>\n",
              "      <td>0</td>\n",
              "      <td>0</td>\n",
              "      <td>0</td>\n",
              "    </tr>\n",
              "  </tbody>\n",
              "</table>\n",
              "</div>\n",
              "    <div class=\"colab-df-buttons\">\n",
              "\n",
              "  <div class=\"colab-df-container\">\n",
              "    <button class=\"colab-df-convert\" onclick=\"convertToInteractive('df-678e4054-2773-4952-a2cd-93a6bf3a32f2')\"\n",
              "            title=\"Convert this dataframe to an interactive table.\"\n",
              "            style=\"display:none;\">\n",
              "\n",
              "  <svg xmlns=\"http://www.w3.org/2000/svg\" height=\"24px\" viewBox=\"0 -960 960 960\">\n",
              "    <path d=\"M120-120v-720h720v720H120Zm60-500h600v-160H180v160Zm220 220h160v-160H400v160Zm0 220h160v-160H400v160ZM180-400h160v-160H180v160Zm440 0h160v-160H620v160ZM180-180h160v-160H180v160Zm440 0h160v-160H620v160Z\"/>\n",
              "  </svg>\n",
              "    </button>\n",
              "\n",
              "  <style>\n",
              "    .colab-df-container {\n",
              "      display:flex;\n",
              "      gap: 12px;\n",
              "    }\n",
              "\n",
              "    .colab-df-convert {\n",
              "      background-color: #E8F0FE;\n",
              "      border: none;\n",
              "      border-radius: 50%;\n",
              "      cursor: pointer;\n",
              "      display: none;\n",
              "      fill: #1967D2;\n",
              "      height: 32px;\n",
              "      padding: 0 0 0 0;\n",
              "      width: 32px;\n",
              "    }\n",
              "\n",
              "    .colab-df-convert:hover {\n",
              "      background-color: #E2EBFA;\n",
              "      box-shadow: 0px 1px 2px rgba(60, 64, 67, 0.3), 0px 1px 3px 1px rgba(60, 64, 67, 0.15);\n",
              "      fill: #174EA6;\n",
              "    }\n",
              "\n",
              "    .colab-df-buttons div {\n",
              "      margin-bottom: 4px;\n",
              "    }\n",
              "\n",
              "    [theme=dark] .colab-df-convert {\n",
              "      background-color: #3B4455;\n",
              "      fill: #D2E3FC;\n",
              "    }\n",
              "\n",
              "    [theme=dark] .colab-df-convert:hover {\n",
              "      background-color: #434B5C;\n",
              "      box-shadow: 0px 1px 3px 1px rgba(0, 0, 0, 0.15);\n",
              "      filter: drop-shadow(0px 1px 2px rgba(0, 0, 0, 0.3));\n",
              "      fill: #FFFFFF;\n",
              "    }\n",
              "  </style>\n",
              "\n",
              "    <script>\n",
              "      const buttonEl =\n",
              "        document.querySelector('#df-678e4054-2773-4952-a2cd-93a6bf3a32f2 button.colab-df-convert');\n",
              "      buttonEl.style.display =\n",
              "        google.colab.kernel.accessAllowed ? 'block' : 'none';\n",
              "\n",
              "      async function convertToInteractive(key) {\n",
              "        const element = document.querySelector('#df-678e4054-2773-4952-a2cd-93a6bf3a32f2');\n",
              "        const dataTable =\n",
              "          await google.colab.kernel.invokeFunction('convertToInteractive',\n",
              "                                                    [key], {});\n",
              "        if (!dataTable) return;\n",
              "\n",
              "        const docLinkHtml = 'Like what you see? Visit the ' +\n",
              "          '<a target=\"_blank\" href=https://colab.research.google.com/notebooks/data_table.ipynb>data table notebook</a>'\n",
              "          + ' to learn more about interactive tables.';\n",
              "        element.innerHTML = '';\n",
              "        dataTable['output_type'] = 'display_data';\n",
              "        await google.colab.output.renderOutput(dataTable, element);\n",
              "        const docLink = document.createElement('div');\n",
              "        docLink.innerHTML = docLinkHtml;\n",
              "        element.appendChild(docLink);\n",
              "      }\n",
              "    </script>\n",
              "  </div>\n",
              "\n",
              "\n",
              "<div id=\"df-b4ef3d51-46f2-423a-9112-040f71429e27\">\n",
              "  <button class=\"colab-df-quickchart\" onclick=\"quickchart('df-b4ef3d51-46f2-423a-9112-040f71429e27')\"\n",
              "            title=\"Suggest charts.\"\n",
              "            style=\"display:none;\">\n",
              "\n",
              "<svg xmlns=\"http://www.w3.org/2000/svg\" height=\"24px\"viewBox=\"0 0 24 24\"\n",
              "     width=\"24px\">\n",
              "    <g>\n",
              "        <path d=\"M19 3H5c-1.1 0-2 .9-2 2v14c0 1.1.9 2 2 2h14c1.1 0 2-.9 2-2V5c0-1.1-.9-2-2-2zM9 17H7v-7h2v7zm4 0h-2V7h2v10zm4 0h-2v-4h2v4z\"/>\n",
              "    </g>\n",
              "</svg>\n",
              "  </button>\n",
              "\n",
              "<style>\n",
              "  .colab-df-quickchart {\n",
              "      --bg-color: #E8F0FE;\n",
              "      --fill-color: #1967D2;\n",
              "      --hover-bg-color: #E2EBFA;\n",
              "      --hover-fill-color: #174EA6;\n",
              "      --disabled-fill-color: #AAA;\n",
              "      --disabled-bg-color: #DDD;\n",
              "  }\n",
              "\n",
              "  [theme=dark] .colab-df-quickchart {\n",
              "      --bg-color: #3B4455;\n",
              "      --fill-color: #D2E3FC;\n",
              "      --hover-bg-color: #434B5C;\n",
              "      --hover-fill-color: #FFFFFF;\n",
              "      --disabled-bg-color: #3B4455;\n",
              "      --disabled-fill-color: #666;\n",
              "  }\n",
              "\n",
              "  .colab-df-quickchart {\n",
              "    background-color: var(--bg-color);\n",
              "    border: none;\n",
              "    border-radius: 50%;\n",
              "    cursor: pointer;\n",
              "    display: none;\n",
              "    fill: var(--fill-color);\n",
              "    height: 32px;\n",
              "    padding: 0;\n",
              "    width: 32px;\n",
              "  }\n",
              "\n",
              "  .colab-df-quickchart:hover {\n",
              "    background-color: var(--hover-bg-color);\n",
              "    box-shadow: 0 1px 2px rgba(60, 64, 67, 0.3), 0 1px 3px 1px rgba(60, 64, 67, 0.15);\n",
              "    fill: var(--button-hover-fill-color);\n",
              "  }\n",
              "\n",
              "  .colab-df-quickchart-complete:disabled,\n",
              "  .colab-df-quickchart-complete:disabled:hover {\n",
              "    background-color: var(--disabled-bg-color);\n",
              "    fill: var(--disabled-fill-color);\n",
              "    box-shadow: none;\n",
              "  }\n",
              "\n",
              "  .colab-df-spinner {\n",
              "    border: 2px solid var(--fill-color);\n",
              "    border-color: transparent;\n",
              "    border-bottom-color: var(--fill-color);\n",
              "    animation:\n",
              "      spin 1s steps(1) infinite;\n",
              "  }\n",
              "\n",
              "  @keyframes spin {\n",
              "    0% {\n",
              "      border-color: transparent;\n",
              "      border-bottom-color: var(--fill-color);\n",
              "      border-left-color: var(--fill-color);\n",
              "    }\n",
              "    20% {\n",
              "      border-color: transparent;\n",
              "      border-left-color: var(--fill-color);\n",
              "      border-top-color: var(--fill-color);\n",
              "    }\n",
              "    30% {\n",
              "      border-color: transparent;\n",
              "      border-left-color: var(--fill-color);\n",
              "      border-top-color: var(--fill-color);\n",
              "      border-right-color: var(--fill-color);\n",
              "    }\n",
              "    40% {\n",
              "      border-color: transparent;\n",
              "      border-right-color: var(--fill-color);\n",
              "      border-top-color: var(--fill-color);\n",
              "    }\n",
              "    60% {\n",
              "      border-color: transparent;\n",
              "      border-right-color: var(--fill-color);\n",
              "    }\n",
              "    80% {\n",
              "      border-color: transparent;\n",
              "      border-right-color: var(--fill-color);\n",
              "      border-bottom-color: var(--fill-color);\n",
              "    }\n",
              "    90% {\n",
              "      border-color: transparent;\n",
              "      border-bottom-color: var(--fill-color);\n",
              "    }\n",
              "  }\n",
              "</style>\n",
              "\n",
              "  <script>\n",
              "    async function quickchart(key) {\n",
              "      const quickchartButtonEl =\n",
              "        document.querySelector('#' + key + ' button');\n",
              "      quickchartButtonEl.disabled = true;  // To prevent multiple clicks.\n",
              "      quickchartButtonEl.classList.add('colab-df-spinner');\n",
              "      try {\n",
              "        const charts = await google.colab.kernel.invokeFunction(\n",
              "            'suggestCharts', [key], {});\n",
              "      } catch (error) {\n",
              "        console.error('Error during call to suggestCharts:', error);\n",
              "      }\n",
              "      quickchartButtonEl.classList.remove('colab-df-spinner');\n",
              "      quickchartButtonEl.classList.add('colab-df-quickchart-complete');\n",
              "    }\n",
              "    (() => {\n",
              "      let quickchartButtonEl =\n",
              "        document.querySelector('#df-b4ef3d51-46f2-423a-9112-040f71429e27 button');\n",
              "      quickchartButtonEl.style.display =\n",
              "        google.colab.kernel.accessAllowed ? 'block' : 'none';\n",
              "    })();\n",
              "  </script>\n",
              "</div>\n",
              "    </div>\n",
              "  </div>\n"
            ]
          },
          "metadata": {},
          "execution_count": 191
        }
      ]
    },
    {
      "cell_type": "code",
      "source": [
        "df_test_labels[test_cols_target]"
      ],
      "metadata": {
        "colab": {
          "base_uri": "https://localhost:8080/",
          "height": 423
        },
        "id": "QsaQdDR-vh9T",
        "outputId": "44e600b6-ea6a-4eb8-94e8-f35543d925c2"
      },
      "execution_count": null,
      "outputs": [
        {
          "output_type": "execute_result",
          "data": {
            "text/plain": [
              "        obscene  insult  toxic  severe_toxic  identity_hate  threat\n",
              "0             0       0      0             0              0       0\n",
              "1             0       0      0             0              0       0\n",
              "2             0       0      0             0              0       0\n",
              "3             0       0      0             0              0       0\n",
              "4             0       0      0             0              0       0\n",
              "...         ...     ...    ...           ...            ...     ...\n",
              "153159        0       0      0             0              0       0\n",
              "153160        0       0      0             0              0       0\n",
              "153161        0       0      0             0              0       0\n",
              "153162        0       0      0             0              0       0\n",
              "153163        0       0      0             0              0       0\n",
              "\n",
              "[153164 rows x 6 columns]"
            ],
            "text/html": [
              "\n",
              "  <div id=\"df-c3838a50-1e75-4f4d-8f47-5471396452d5\" class=\"colab-df-container\">\n",
              "    <div>\n",
              "<style scoped>\n",
              "    .dataframe tbody tr th:only-of-type {\n",
              "        vertical-align: middle;\n",
              "    }\n",
              "\n",
              "    .dataframe tbody tr th {\n",
              "        vertical-align: top;\n",
              "    }\n",
              "\n",
              "    .dataframe thead th {\n",
              "        text-align: right;\n",
              "    }\n",
              "</style>\n",
              "<table border=\"1\" class=\"dataframe\">\n",
              "  <thead>\n",
              "    <tr style=\"text-align: right;\">\n",
              "      <th></th>\n",
              "      <th>obscene</th>\n",
              "      <th>insult</th>\n",
              "      <th>toxic</th>\n",
              "      <th>severe_toxic</th>\n",
              "      <th>identity_hate</th>\n",
              "      <th>threat</th>\n",
              "    </tr>\n",
              "  </thead>\n",
              "  <tbody>\n",
              "    <tr>\n",
              "      <th>0</th>\n",
              "      <td>0</td>\n",
              "      <td>0</td>\n",
              "      <td>0</td>\n",
              "      <td>0</td>\n",
              "      <td>0</td>\n",
              "      <td>0</td>\n",
              "    </tr>\n",
              "    <tr>\n",
              "      <th>1</th>\n",
              "      <td>0</td>\n",
              "      <td>0</td>\n",
              "      <td>0</td>\n",
              "      <td>0</td>\n",
              "      <td>0</td>\n",
              "      <td>0</td>\n",
              "    </tr>\n",
              "    <tr>\n",
              "      <th>2</th>\n",
              "      <td>0</td>\n",
              "      <td>0</td>\n",
              "      <td>0</td>\n",
              "      <td>0</td>\n",
              "      <td>0</td>\n",
              "      <td>0</td>\n",
              "    </tr>\n",
              "    <tr>\n",
              "      <th>3</th>\n",
              "      <td>0</td>\n",
              "      <td>0</td>\n",
              "      <td>0</td>\n",
              "      <td>0</td>\n",
              "      <td>0</td>\n",
              "      <td>0</td>\n",
              "    </tr>\n",
              "    <tr>\n",
              "      <th>4</th>\n",
              "      <td>0</td>\n",
              "      <td>0</td>\n",
              "      <td>0</td>\n",
              "      <td>0</td>\n",
              "      <td>0</td>\n",
              "      <td>0</td>\n",
              "    </tr>\n",
              "    <tr>\n",
              "      <th>...</th>\n",
              "      <td>...</td>\n",
              "      <td>...</td>\n",
              "      <td>...</td>\n",
              "      <td>...</td>\n",
              "      <td>...</td>\n",
              "      <td>...</td>\n",
              "    </tr>\n",
              "    <tr>\n",
              "      <th>153159</th>\n",
              "      <td>0</td>\n",
              "      <td>0</td>\n",
              "      <td>0</td>\n",
              "      <td>0</td>\n",
              "      <td>0</td>\n",
              "      <td>0</td>\n",
              "    </tr>\n",
              "    <tr>\n",
              "      <th>153160</th>\n",
              "      <td>0</td>\n",
              "      <td>0</td>\n",
              "      <td>0</td>\n",
              "      <td>0</td>\n",
              "      <td>0</td>\n",
              "      <td>0</td>\n",
              "    </tr>\n",
              "    <tr>\n",
              "      <th>153161</th>\n",
              "      <td>0</td>\n",
              "      <td>0</td>\n",
              "      <td>0</td>\n",
              "      <td>0</td>\n",
              "      <td>0</td>\n",
              "      <td>0</td>\n",
              "    </tr>\n",
              "    <tr>\n",
              "      <th>153162</th>\n",
              "      <td>0</td>\n",
              "      <td>0</td>\n",
              "      <td>0</td>\n",
              "      <td>0</td>\n",
              "      <td>0</td>\n",
              "      <td>0</td>\n",
              "    </tr>\n",
              "    <tr>\n",
              "      <th>153163</th>\n",
              "      <td>0</td>\n",
              "      <td>0</td>\n",
              "      <td>0</td>\n",
              "      <td>0</td>\n",
              "      <td>0</td>\n",
              "      <td>0</td>\n",
              "    </tr>\n",
              "  </tbody>\n",
              "</table>\n",
              "<p>153164 rows × 6 columns</p>\n",
              "</div>\n",
              "    <div class=\"colab-df-buttons\">\n",
              "\n",
              "  <div class=\"colab-df-container\">\n",
              "    <button class=\"colab-df-convert\" onclick=\"convertToInteractive('df-c3838a50-1e75-4f4d-8f47-5471396452d5')\"\n",
              "            title=\"Convert this dataframe to an interactive table.\"\n",
              "            style=\"display:none;\">\n",
              "\n",
              "  <svg xmlns=\"http://www.w3.org/2000/svg\" height=\"24px\" viewBox=\"0 -960 960 960\">\n",
              "    <path d=\"M120-120v-720h720v720H120Zm60-500h600v-160H180v160Zm220 220h160v-160H400v160Zm0 220h160v-160H400v160ZM180-400h160v-160H180v160Zm440 0h160v-160H620v160ZM180-180h160v-160H180v160Zm440 0h160v-160H620v160Z\"/>\n",
              "  </svg>\n",
              "    </button>\n",
              "\n",
              "  <style>\n",
              "    .colab-df-container {\n",
              "      display:flex;\n",
              "      gap: 12px;\n",
              "    }\n",
              "\n",
              "    .colab-df-convert {\n",
              "      background-color: #E8F0FE;\n",
              "      border: none;\n",
              "      border-radius: 50%;\n",
              "      cursor: pointer;\n",
              "      display: none;\n",
              "      fill: #1967D2;\n",
              "      height: 32px;\n",
              "      padding: 0 0 0 0;\n",
              "      width: 32px;\n",
              "    }\n",
              "\n",
              "    .colab-df-convert:hover {\n",
              "      background-color: #E2EBFA;\n",
              "      box-shadow: 0px 1px 2px rgba(60, 64, 67, 0.3), 0px 1px 3px 1px rgba(60, 64, 67, 0.15);\n",
              "      fill: #174EA6;\n",
              "    }\n",
              "\n",
              "    .colab-df-buttons div {\n",
              "      margin-bottom: 4px;\n",
              "    }\n",
              "\n",
              "    [theme=dark] .colab-df-convert {\n",
              "      background-color: #3B4455;\n",
              "      fill: #D2E3FC;\n",
              "    }\n",
              "\n",
              "    [theme=dark] .colab-df-convert:hover {\n",
              "      background-color: #434B5C;\n",
              "      box-shadow: 0px 1px 3px 1px rgba(0, 0, 0, 0.15);\n",
              "      filter: drop-shadow(0px 1px 2px rgba(0, 0, 0, 0.3));\n",
              "      fill: #FFFFFF;\n",
              "    }\n",
              "  </style>\n",
              "\n",
              "    <script>\n",
              "      const buttonEl =\n",
              "        document.querySelector('#df-c3838a50-1e75-4f4d-8f47-5471396452d5 button.colab-df-convert');\n",
              "      buttonEl.style.display =\n",
              "        google.colab.kernel.accessAllowed ? 'block' : 'none';\n",
              "\n",
              "      async function convertToInteractive(key) {\n",
              "        const element = document.querySelector('#df-c3838a50-1e75-4f4d-8f47-5471396452d5');\n",
              "        const dataTable =\n",
              "          await google.colab.kernel.invokeFunction('convertToInteractive',\n",
              "                                                    [key], {});\n",
              "        if (!dataTable) return;\n",
              "\n",
              "        const docLinkHtml = 'Like what you see? Visit the ' +\n",
              "          '<a target=\"_blank\" href=https://colab.research.google.com/notebooks/data_table.ipynb>data table notebook</a>'\n",
              "          + ' to learn more about interactive tables.';\n",
              "        element.innerHTML = '';\n",
              "        dataTable['output_type'] = 'display_data';\n",
              "        await google.colab.output.renderOutput(dataTable, element);\n",
              "        const docLink = document.createElement('div');\n",
              "        docLink.innerHTML = docLinkHtml;\n",
              "        element.appendChild(docLink);\n",
              "      }\n",
              "    </script>\n",
              "  </div>\n",
              "\n",
              "\n",
              "<div id=\"df-fc295f8a-64ad-4a45-a97c-b95e9d6b16ee\">\n",
              "  <button class=\"colab-df-quickchart\" onclick=\"quickchart('df-fc295f8a-64ad-4a45-a97c-b95e9d6b16ee')\"\n",
              "            title=\"Suggest charts.\"\n",
              "            style=\"display:none;\">\n",
              "\n",
              "<svg xmlns=\"http://www.w3.org/2000/svg\" height=\"24px\"viewBox=\"0 0 24 24\"\n",
              "     width=\"24px\">\n",
              "    <g>\n",
              "        <path d=\"M19 3H5c-1.1 0-2 .9-2 2v14c0 1.1.9 2 2 2h14c1.1 0 2-.9 2-2V5c0-1.1-.9-2-2-2zM9 17H7v-7h2v7zm4 0h-2V7h2v10zm4 0h-2v-4h2v4z\"/>\n",
              "    </g>\n",
              "</svg>\n",
              "  </button>\n",
              "\n",
              "<style>\n",
              "  .colab-df-quickchart {\n",
              "      --bg-color: #E8F0FE;\n",
              "      --fill-color: #1967D2;\n",
              "      --hover-bg-color: #E2EBFA;\n",
              "      --hover-fill-color: #174EA6;\n",
              "      --disabled-fill-color: #AAA;\n",
              "      --disabled-bg-color: #DDD;\n",
              "  }\n",
              "\n",
              "  [theme=dark] .colab-df-quickchart {\n",
              "      --bg-color: #3B4455;\n",
              "      --fill-color: #D2E3FC;\n",
              "      --hover-bg-color: #434B5C;\n",
              "      --hover-fill-color: #FFFFFF;\n",
              "      --disabled-bg-color: #3B4455;\n",
              "      --disabled-fill-color: #666;\n",
              "  }\n",
              "\n",
              "  .colab-df-quickchart {\n",
              "    background-color: var(--bg-color);\n",
              "    border: none;\n",
              "    border-radius: 50%;\n",
              "    cursor: pointer;\n",
              "    display: none;\n",
              "    fill: var(--fill-color);\n",
              "    height: 32px;\n",
              "    padding: 0;\n",
              "    width: 32px;\n",
              "  }\n",
              "\n",
              "  .colab-df-quickchart:hover {\n",
              "    background-color: var(--hover-bg-color);\n",
              "    box-shadow: 0 1px 2px rgba(60, 64, 67, 0.3), 0 1px 3px 1px rgba(60, 64, 67, 0.15);\n",
              "    fill: var(--button-hover-fill-color);\n",
              "  }\n",
              "\n",
              "  .colab-df-quickchart-complete:disabled,\n",
              "  .colab-df-quickchart-complete:disabled:hover {\n",
              "    background-color: var(--disabled-bg-color);\n",
              "    fill: var(--disabled-fill-color);\n",
              "    box-shadow: none;\n",
              "  }\n",
              "\n",
              "  .colab-df-spinner {\n",
              "    border: 2px solid var(--fill-color);\n",
              "    border-color: transparent;\n",
              "    border-bottom-color: var(--fill-color);\n",
              "    animation:\n",
              "      spin 1s steps(1) infinite;\n",
              "  }\n",
              "\n",
              "  @keyframes spin {\n",
              "    0% {\n",
              "      border-color: transparent;\n",
              "      border-bottom-color: var(--fill-color);\n",
              "      border-left-color: var(--fill-color);\n",
              "    }\n",
              "    20% {\n",
              "      border-color: transparent;\n",
              "      border-left-color: var(--fill-color);\n",
              "      border-top-color: var(--fill-color);\n",
              "    }\n",
              "    30% {\n",
              "      border-color: transparent;\n",
              "      border-left-color: var(--fill-color);\n",
              "      border-top-color: var(--fill-color);\n",
              "      border-right-color: var(--fill-color);\n",
              "    }\n",
              "    40% {\n",
              "      border-color: transparent;\n",
              "      border-right-color: var(--fill-color);\n",
              "      border-top-color: var(--fill-color);\n",
              "    }\n",
              "    60% {\n",
              "      border-color: transparent;\n",
              "      border-right-color: var(--fill-color);\n",
              "    }\n",
              "    80% {\n",
              "      border-color: transparent;\n",
              "      border-right-color: var(--fill-color);\n",
              "      border-bottom-color: var(--fill-color);\n",
              "    }\n",
              "    90% {\n",
              "      border-color: transparent;\n",
              "      border-bottom-color: var(--fill-color);\n",
              "    }\n",
              "  }\n",
              "</style>\n",
              "\n",
              "  <script>\n",
              "    async function quickchart(key) {\n",
              "      const quickchartButtonEl =\n",
              "        document.querySelector('#' + key + ' button');\n",
              "      quickchartButtonEl.disabled = true;  // To prevent multiple clicks.\n",
              "      quickchartButtonEl.classList.add('colab-df-spinner');\n",
              "      try {\n",
              "        const charts = await google.colab.kernel.invokeFunction(\n",
              "            'suggestCharts', [key], {});\n",
              "      } catch (error) {\n",
              "        console.error('Error during call to suggestCharts:', error);\n",
              "      }\n",
              "      quickchartButtonEl.classList.remove('colab-df-spinner');\n",
              "      quickchartButtonEl.classList.add('colab-df-quickchart-complete');\n",
              "    }\n",
              "    (() => {\n",
              "      let quickchartButtonEl =\n",
              "        document.querySelector('#df-fc295f8a-64ad-4a45-a97c-b95e9d6b16ee button');\n",
              "      quickchartButtonEl.style.display =\n",
              "        google.colab.kernel.accessAllowed ? 'block' : 'none';\n",
              "    })();\n",
              "  </script>\n",
              "</div>\n",
              "    </div>\n",
              "  </div>\n"
            ]
          },
          "metadata": {},
          "execution_count": 192
        }
      ]
    },
    {
      "cell_type": "code",
      "source": [
        "df_test_labels['block'] =df_test_labels[test_cols_target].sum(axis =1)\n",
        "df_test_labels.head()"
      ],
      "metadata": {
        "colab": {
          "base_uri": "https://localhost:8080/",
          "height": 206
        },
        "id": "YHXhQOM4v8W6",
        "outputId": "7363c4e0-06d0-445d-d5ab-fb6415414b6a"
      },
      "execution_count": null,
      "outputs": [
        {
          "output_type": "execute_result",
          "data": {
            "text/plain": [
              "                 id  toxic  severe_toxic  obscene  threat  insult  \\\n",
              "0  00001cee341fdb12      0             0        0       0       0   \n",
              "1  0000247867823ef7      0             0        0       0       0   \n",
              "2  00013b17ad220c46      0             0        0       0       0   \n",
              "3  00017563c3f7919a      0             0        0       0       0   \n",
              "4  00017695ad8997eb      0             0        0       0       0   \n",
              "\n",
              "   identity_hate  block  \n",
              "0              0      0  \n",
              "1              0      0  \n",
              "2              0      0  \n",
              "3              0      0  \n",
              "4              0      0  "
            ],
            "text/html": [
              "\n",
              "  <div id=\"df-91ea48dd-0129-470c-bb2b-260adc9589a4\" class=\"colab-df-container\">\n",
              "    <div>\n",
              "<style scoped>\n",
              "    .dataframe tbody tr th:only-of-type {\n",
              "        vertical-align: middle;\n",
              "    }\n",
              "\n",
              "    .dataframe tbody tr th {\n",
              "        vertical-align: top;\n",
              "    }\n",
              "\n",
              "    .dataframe thead th {\n",
              "        text-align: right;\n",
              "    }\n",
              "</style>\n",
              "<table border=\"1\" class=\"dataframe\">\n",
              "  <thead>\n",
              "    <tr style=\"text-align: right;\">\n",
              "      <th></th>\n",
              "      <th>id</th>\n",
              "      <th>toxic</th>\n",
              "      <th>severe_toxic</th>\n",
              "      <th>obscene</th>\n",
              "      <th>threat</th>\n",
              "      <th>insult</th>\n",
              "      <th>identity_hate</th>\n",
              "      <th>block</th>\n",
              "    </tr>\n",
              "  </thead>\n",
              "  <tbody>\n",
              "    <tr>\n",
              "      <th>0</th>\n",
              "      <td>00001cee341fdb12</td>\n",
              "      <td>0</td>\n",
              "      <td>0</td>\n",
              "      <td>0</td>\n",
              "      <td>0</td>\n",
              "      <td>0</td>\n",
              "      <td>0</td>\n",
              "      <td>0</td>\n",
              "    </tr>\n",
              "    <tr>\n",
              "      <th>1</th>\n",
              "      <td>0000247867823ef7</td>\n",
              "      <td>0</td>\n",
              "      <td>0</td>\n",
              "      <td>0</td>\n",
              "      <td>0</td>\n",
              "      <td>0</td>\n",
              "      <td>0</td>\n",
              "      <td>0</td>\n",
              "    </tr>\n",
              "    <tr>\n",
              "      <th>2</th>\n",
              "      <td>00013b17ad220c46</td>\n",
              "      <td>0</td>\n",
              "      <td>0</td>\n",
              "      <td>0</td>\n",
              "      <td>0</td>\n",
              "      <td>0</td>\n",
              "      <td>0</td>\n",
              "      <td>0</td>\n",
              "    </tr>\n",
              "    <tr>\n",
              "      <th>3</th>\n",
              "      <td>00017563c3f7919a</td>\n",
              "      <td>0</td>\n",
              "      <td>0</td>\n",
              "      <td>0</td>\n",
              "      <td>0</td>\n",
              "      <td>0</td>\n",
              "      <td>0</td>\n",
              "      <td>0</td>\n",
              "    </tr>\n",
              "    <tr>\n",
              "      <th>4</th>\n",
              "      <td>00017695ad8997eb</td>\n",
              "      <td>0</td>\n",
              "      <td>0</td>\n",
              "      <td>0</td>\n",
              "      <td>0</td>\n",
              "      <td>0</td>\n",
              "      <td>0</td>\n",
              "      <td>0</td>\n",
              "    </tr>\n",
              "  </tbody>\n",
              "</table>\n",
              "</div>\n",
              "    <div class=\"colab-df-buttons\">\n",
              "\n",
              "  <div class=\"colab-df-container\">\n",
              "    <button class=\"colab-df-convert\" onclick=\"convertToInteractive('df-91ea48dd-0129-470c-bb2b-260adc9589a4')\"\n",
              "            title=\"Convert this dataframe to an interactive table.\"\n",
              "            style=\"display:none;\">\n",
              "\n",
              "  <svg xmlns=\"http://www.w3.org/2000/svg\" height=\"24px\" viewBox=\"0 -960 960 960\">\n",
              "    <path d=\"M120-120v-720h720v720H120Zm60-500h600v-160H180v160Zm220 220h160v-160H400v160Zm0 220h160v-160H400v160ZM180-400h160v-160H180v160Zm440 0h160v-160H620v160ZM180-180h160v-160H180v160Zm440 0h160v-160H620v160Z\"/>\n",
              "  </svg>\n",
              "    </button>\n",
              "\n",
              "  <style>\n",
              "    .colab-df-container {\n",
              "      display:flex;\n",
              "      gap: 12px;\n",
              "    }\n",
              "\n",
              "    .colab-df-convert {\n",
              "      background-color: #E8F0FE;\n",
              "      border: none;\n",
              "      border-radius: 50%;\n",
              "      cursor: pointer;\n",
              "      display: none;\n",
              "      fill: #1967D2;\n",
              "      height: 32px;\n",
              "      padding: 0 0 0 0;\n",
              "      width: 32px;\n",
              "    }\n",
              "\n",
              "    .colab-df-convert:hover {\n",
              "      background-color: #E2EBFA;\n",
              "      box-shadow: 0px 1px 2px rgba(60, 64, 67, 0.3), 0px 1px 3px 1px rgba(60, 64, 67, 0.15);\n",
              "      fill: #174EA6;\n",
              "    }\n",
              "\n",
              "    .colab-df-buttons div {\n",
              "      margin-bottom: 4px;\n",
              "    }\n",
              "\n",
              "    [theme=dark] .colab-df-convert {\n",
              "      background-color: #3B4455;\n",
              "      fill: #D2E3FC;\n",
              "    }\n",
              "\n",
              "    [theme=dark] .colab-df-convert:hover {\n",
              "      background-color: #434B5C;\n",
              "      box-shadow: 0px 1px 3px 1px rgba(0, 0, 0, 0.15);\n",
              "      filter: drop-shadow(0px 1px 2px rgba(0, 0, 0, 0.3));\n",
              "      fill: #FFFFFF;\n",
              "    }\n",
              "  </style>\n",
              "\n",
              "    <script>\n",
              "      const buttonEl =\n",
              "        document.querySelector('#df-91ea48dd-0129-470c-bb2b-260adc9589a4 button.colab-df-convert');\n",
              "      buttonEl.style.display =\n",
              "        google.colab.kernel.accessAllowed ? 'block' : 'none';\n",
              "\n",
              "      async function convertToInteractive(key) {\n",
              "        const element = document.querySelector('#df-91ea48dd-0129-470c-bb2b-260adc9589a4');\n",
              "        const dataTable =\n",
              "          await google.colab.kernel.invokeFunction('convertToInteractive',\n",
              "                                                    [key], {});\n",
              "        if (!dataTable) return;\n",
              "\n",
              "        const docLinkHtml = 'Like what you see? Visit the ' +\n",
              "          '<a target=\"_blank\" href=https://colab.research.google.com/notebooks/data_table.ipynb>data table notebook</a>'\n",
              "          + ' to learn more about interactive tables.';\n",
              "        element.innerHTML = '';\n",
              "        dataTable['output_type'] = 'display_data';\n",
              "        await google.colab.output.renderOutput(dataTable, element);\n",
              "        const docLink = document.createElement('div');\n",
              "        docLink.innerHTML = docLinkHtml;\n",
              "        element.appendChild(docLink);\n",
              "      }\n",
              "    </script>\n",
              "  </div>\n",
              "\n",
              "\n",
              "<div id=\"df-7c66ff1c-6ab8-4c59-a444-e1753968af31\">\n",
              "  <button class=\"colab-df-quickchart\" onclick=\"quickchart('df-7c66ff1c-6ab8-4c59-a444-e1753968af31')\"\n",
              "            title=\"Suggest charts.\"\n",
              "            style=\"display:none;\">\n",
              "\n",
              "<svg xmlns=\"http://www.w3.org/2000/svg\" height=\"24px\"viewBox=\"0 0 24 24\"\n",
              "     width=\"24px\">\n",
              "    <g>\n",
              "        <path d=\"M19 3H5c-1.1 0-2 .9-2 2v14c0 1.1.9 2 2 2h14c1.1 0 2-.9 2-2V5c0-1.1-.9-2-2-2zM9 17H7v-7h2v7zm4 0h-2V7h2v10zm4 0h-2v-4h2v4z\"/>\n",
              "    </g>\n",
              "</svg>\n",
              "  </button>\n",
              "\n",
              "<style>\n",
              "  .colab-df-quickchart {\n",
              "      --bg-color: #E8F0FE;\n",
              "      --fill-color: #1967D2;\n",
              "      --hover-bg-color: #E2EBFA;\n",
              "      --hover-fill-color: #174EA6;\n",
              "      --disabled-fill-color: #AAA;\n",
              "      --disabled-bg-color: #DDD;\n",
              "  }\n",
              "\n",
              "  [theme=dark] .colab-df-quickchart {\n",
              "      --bg-color: #3B4455;\n",
              "      --fill-color: #D2E3FC;\n",
              "      --hover-bg-color: #434B5C;\n",
              "      --hover-fill-color: #FFFFFF;\n",
              "      --disabled-bg-color: #3B4455;\n",
              "      --disabled-fill-color: #666;\n",
              "  }\n",
              "\n",
              "  .colab-df-quickchart {\n",
              "    background-color: var(--bg-color);\n",
              "    border: none;\n",
              "    border-radius: 50%;\n",
              "    cursor: pointer;\n",
              "    display: none;\n",
              "    fill: var(--fill-color);\n",
              "    height: 32px;\n",
              "    padding: 0;\n",
              "    width: 32px;\n",
              "  }\n",
              "\n",
              "  .colab-df-quickchart:hover {\n",
              "    background-color: var(--hover-bg-color);\n",
              "    box-shadow: 0 1px 2px rgba(60, 64, 67, 0.3), 0 1px 3px 1px rgba(60, 64, 67, 0.15);\n",
              "    fill: var(--button-hover-fill-color);\n",
              "  }\n",
              "\n",
              "  .colab-df-quickchart-complete:disabled,\n",
              "  .colab-df-quickchart-complete:disabled:hover {\n",
              "    background-color: var(--disabled-bg-color);\n",
              "    fill: var(--disabled-fill-color);\n",
              "    box-shadow: none;\n",
              "  }\n",
              "\n",
              "  .colab-df-spinner {\n",
              "    border: 2px solid var(--fill-color);\n",
              "    border-color: transparent;\n",
              "    border-bottom-color: var(--fill-color);\n",
              "    animation:\n",
              "      spin 1s steps(1) infinite;\n",
              "  }\n",
              "\n",
              "  @keyframes spin {\n",
              "    0% {\n",
              "      border-color: transparent;\n",
              "      border-bottom-color: var(--fill-color);\n",
              "      border-left-color: var(--fill-color);\n",
              "    }\n",
              "    20% {\n",
              "      border-color: transparent;\n",
              "      border-left-color: var(--fill-color);\n",
              "      border-top-color: var(--fill-color);\n",
              "    }\n",
              "    30% {\n",
              "      border-color: transparent;\n",
              "      border-left-color: var(--fill-color);\n",
              "      border-top-color: var(--fill-color);\n",
              "      border-right-color: var(--fill-color);\n",
              "    }\n",
              "    40% {\n",
              "      border-color: transparent;\n",
              "      border-right-color: var(--fill-color);\n",
              "      border-top-color: var(--fill-color);\n",
              "    }\n",
              "    60% {\n",
              "      border-color: transparent;\n",
              "      border-right-color: var(--fill-color);\n",
              "    }\n",
              "    80% {\n",
              "      border-color: transparent;\n",
              "      border-right-color: var(--fill-color);\n",
              "      border-bottom-color: var(--fill-color);\n",
              "    }\n",
              "    90% {\n",
              "      border-color: transparent;\n",
              "      border-bottom-color: var(--fill-color);\n",
              "    }\n",
              "  }\n",
              "</style>\n",
              "\n",
              "  <script>\n",
              "    async function quickchart(key) {\n",
              "      const quickchartButtonEl =\n",
              "        document.querySelector('#' + key + ' button');\n",
              "      quickchartButtonEl.disabled = true;  // To prevent multiple clicks.\n",
              "      quickchartButtonEl.classList.add('colab-df-spinner');\n",
              "      try {\n",
              "        const charts = await google.colab.kernel.invokeFunction(\n",
              "            'suggestCharts', [key], {});\n",
              "      } catch (error) {\n",
              "        console.error('Error during call to suggestCharts:', error);\n",
              "      }\n",
              "      quickchartButtonEl.classList.remove('colab-df-spinner');\n",
              "      quickchartButtonEl.classList.add('colab-df-quickchart-complete');\n",
              "    }\n",
              "    (() => {\n",
              "      let quickchartButtonEl =\n",
              "        document.querySelector('#df-7c66ff1c-6ab8-4c59-a444-e1753968af31 button');\n",
              "      quickchartButtonEl.style.display =\n",
              "        google.colab.kernel.accessAllowed ? 'block' : 'none';\n",
              "    })();\n",
              "  </script>\n",
              "</div>\n",
              "    </div>\n",
              "  </div>\n"
            ]
          },
          "metadata": {},
          "execution_count": 193
        }
      ]
    },
    {
      "cell_type": "code",
      "source": [
        "print(\"the distribution of labels across the test dataset\")\n",
        "print(df_test_labels['block'].value_counts())"
      ],
      "metadata": {
        "colab": {
          "base_uri": "https://localhost:8080/"
        },
        "id": "HHYCRvcxwIKq",
        "outputId": "6be8a26b-a38d-4a17-93a3-4ecaa53c5a64"
      },
      "execution_count": null,
      "outputs": [
        {
          "output_type": "stream",
          "name": "stdout",
          "text": [
            "the distribution of labels across the test dataset\n",
            "0    146921\n",
            "3      2081\n",
            "1      1842\n",
            "2      1530\n",
            "4       611\n",
            "5       165\n",
            "6        14\n",
            "Name: block, dtype: int64\n"
          ]
        }
      ]
    },
    {
      "cell_type": "code",
      "source": [
        "df_test_labels['block'] = np.where(df_test_labels['block'] > 0, 1, 0)\n",
        "print(df_test_labels['block'].value_counts())"
      ],
      "metadata": {
        "colab": {
          "base_uri": "https://localhost:8080/"
        },
        "id": "pJLG8ZIrwRui",
        "outputId": "e4104293-95d1-4d6c-e040-9309490c340f"
      },
      "execution_count": null,
      "outputs": [
        {
          "output_type": "stream",
          "name": "stdout",
          "text": [
            "0    146921\n",
            "1      6243\n",
            "Name: block, dtype: int64\n"
          ]
        }
      ]
    },
    {
      "cell_type": "markdown",
      "source": [
        "#### Visualizing the distribution of labels:"
      ],
      "metadata": {
        "id": "1Q6GIUtfxfMZ"
      }
    },
    {
      "cell_type": "markdown",
      "source": [
        "##### Bar Plot Comparison\n",
        "Compare the distribution of the 'block' column between df_train and df_test_labels side by side. This can help in understanding if the distribution in the test set mirrors the training set."
      ],
      "metadata": {
        "id": "wNf11vJnxnPm"
      }
    },
    {
      "cell_type": "code",
      "source": [
        "plt.figure(figsize=(6, 4))\n",
        "plt.subplot(1, 2, 1)\n",
        "sns.countplot(x=\"block\", data=df_train)\n",
        "plt.title('Train Set Distribution')\n",
        "\n",
        "plt.subplot(1, 2, 2)\n",
        "sns.countplot(x=\"block\", data=df_test_labels)\n",
        "plt.title('Test Set Distribution')\n",
        "\n",
        "plt.tight_layout()\n",
        "plt.show()"
      ],
      "metadata": {
        "colab": {
          "base_uri": "https://localhost:8080/",
          "height": 407
        },
        "id": "YcBFhoKNxtEI",
        "outputId": "72b38083-1810-44d6-ddc1-ffdfb759df9f"
      },
      "execution_count": null,
      "outputs": [
        {
          "output_type": "display_data",
          "data": {
            "text/plain": [
              "<Figure size 600x400 with 2 Axes>"
            ],
            "image/png": "[encoded data removed]"
          },
          "metadata": {}
        }
      ]
    },
    {
      "cell_type": "markdown",
      "source": [
        "**Graph Interpretation**:\n",
        "- The bar plot visually represents the distribution of the 'block' column for both datasets.\n",
        "- For both the train and test sets, the majority of entries are labeled as `0`, indicating that most entries are non-toxic. This is evident from the significantly taller bars for the `0` label in both datasets.\n",
        "- The train set has a higher number of `1` labeled entries compared to the test set, suggesting that the train set contains more toxic labeled data points.\n",
        "- The difference in the number of `1` labeled entries between the train and test sets might indicate a difference in distribution between them. This could have implications for model performance, as the model might be exposed to a different proportion of toxic to non-toxic data during training compared to testing.\n",
        "- Overall, the bar plot provides a clear visual representation of the imbalance in the data, with non-toxic entries significantly outnumbering the toxic ones in both sets.\n",
        "\n",
        "When interpreting these results, it's crucial to consider the potential implications on the model's performance, especially when there's a class imbalance. Models trained on imbalanced datasets might be biased towards predicting the majority class, in this case, the non-toxic label (`0`)."
      ],
      "metadata": {
        "id": "y4ftmofWzyVk"
      }
    },
    {
      "cell_type": "markdown",
      "source": [
        "####  visualize the distribution of the length of the messages\n",
        "To visualize the distribution of the length of the messages, you can use a histogram or a KDE (Kernel Density Estimation) plot. Here's how you can do it for both the train and test sets:\n",
        "\n",
        "1. **Compute the length of each message**:\n",
        "   First, you'd need to compute the length of each message. Assuming the column containing the messages in both datasets is named `message`, you can create a new column for the length:"
      ],
      "metadata": {
        "id": "vjw39vR20-Qa"
      }
    },
    {
      "cell_type": "code",
      "source": [
        "df_train.columns"
      ],
      "metadata": {
        "colab": {
          "base_uri": "https://localhost:8080/"
        },
        "id": "CA5_V_720_Hh",
        "outputId": "5107c3f9-1fc2-4a1b-e1ff-ff5c339d0bd0"
      },
      "execution_count": null,
      "outputs": [
        {
          "output_type": "execute_result",
          "data": {
            "text/plain": [
              "Index(['id', 'comment_text', 'toxic', 'severe_toxic', 'obscene', 'threat',\n",
              "       'insult', 'identity_hate', 'block'],\n",
              "      dtype='object')"
            ]
          },
          "metadata": {},
          "execution_count": 197
        }
      ]
    },
    {
      "cell_type": "code",
      "source": [
        "df_test_labels.columns"
      ],
      "metadata": {
        "colab": {
          "base_uri": "https://localhost:8080/"
        },
        "id": "1FxM6JZg1hvx",
        "outputId": "cdaea8a0-4e8b-4776-f6dc-f7dbc4b58c8d"
      },
      "execution_count": null,
      "outputs": [
        {
          "output_type": "execute_result",
          "data": {
            "text/plain": [
              "Index(['id', 'toxic', 'severe_toxic', 'obscene', 'threat', 'insult',\n",
              "       'identity_hate', 'block'],\n",
              "      dtype='object')"
            ]
          },
          "metadata": {},
          "execution_count": 198
        }
      ]
    },
    {
      "cell_type": "code",
      "source": [
        "df_test.head()"
      ],
      "metadata": {
        "colab": {
          "base_uri": "https://localhost:8080/",
          "height": 206
        },
        "id": "gSHFJX1b2Ru8",
        "outputId": "b8601298-40fa-4bad-cdad-a07eed73a4a1"
      },
      "execution_count": null,
      "outputs": [
        {
          "output_type": "execute_result",
          "data": {
            "text/plain": [
              "                 id                                       comment_text\n",
              "0  00001cee341fdb12  Yo bitch Ja Rule is more succesful then you'll...\n",
              "1  0000247867823ef7  == From RfC == \\n\\n The title is fine as it is...\n",
              "2  00013b17ad220c46  \" \\n\\n == Sources == \\n\\n * Zawe Ashton on Lap...\n",
              "3  00017563c3f7919a  :If you have a look back at the source, the in...\n",
              "4  00017695ad8997eb          I don't anonymously edit articles at all."
            ],
            "text/html": [
              "\n",
              "  <div id=\"df-da2bb1eb-6664-4a9d-977b-fc3d0f3a4961\" class=\"colab-df-container\">\n",
              "    <div>\n",
              "<style scoped>\n",
              "    .dataframe tbody tr th:only-of-type {\n",
              "        vertical-align: middle;\n",
              "    }\n",
              "\n",
              "    .dataframe tbody tr th {\n",
              "        vertical-align: top;\n",
              "    }\n",
              "\n",
              "    .dataframe thead th {\n",
              "        text-align: right;\n",
              "    }\n",
              "</style>\n",
              "<table border=\"1\" class=\"dataframe\">\n",
              "  <thead>\n",
              "    <tr style=\"text-align: right;\">\n",
              "      <th></th>\n",
              "      <th>id</th>\n",
              "      <th>comment_text</th>\n",
              "    </tr>\n",
              "  </thead>\n",
              "  <tbody>\n",
              "    <tr>\n",
              "      <th>0</th>\n",
              "      <td>00001cee341fdb12</td>\n",
              "      <td>Yo bitch Ja Rule is more succesful then you'll...</td>\n",
              "    </tr>\n",
              "    <tr>\n",
              "      <th>1</th>\n",
              "      <td>0000247867823ef7</td>\n",
              "      <td>== From RfC == \\n\\n The title is fine as it is...</td>\n",
              "    </tr>\n",
              "    <tr>\n",
              "      <th>2</th>\n",
              "      <td>00013b17ad220c46</td>\n",
              "      <td>\" \\n\\n == Sources == \\n\\n * Zawe Ashton on Lap...</td>\n",
              "    </tr>\n",
              "    <tr>\n",
              "      <th>3</th>\n",
              "      <td>00017563c3f7919a</td>\n",
              "      <td>:If you have a look back at the source, the in...</td>\n",
              "    </tr>\n",
              "    <tr>\n",
              "      <th>4</th>\n",
              "      <td>00017695ad8997eb</td>\n",
              "      <td>I don't anonymously edit articles at all.</td>\n",
              "    </tr>\n",
              "  </tbody>\n",
              "</table>\n",
              "</div>\n",
              "    <div class=\"colab-df-buttons\">\n",
              "\n",
              "  <div class=\"colab-df-container\">\n",
              "    <button class=\"colab-df-convert\" onclick=\"convertToInteractive('df-da2bb1eb-6664-4a9d-977b-fc3d0f3a4961')\"\n",
              "            title=\"Convert this dataframe to an interactive table.\"\n",
              "            style=\"display:none;\">\n",
              "\n",
              "  <svg xmlns=\"http://www.w3.org/2000/svg\" height=\"24px\" viewBox=\"0 -960 960 960\">\n",
              "    <path d=\"M120-120v-720h720v720H120Zm60-500h600v-160H180v160Zm220 220h160v-160H400v160Zm0 220h160v-160H400v160ZM180-400h160v-160H180v160Zm440 0h160v-160H620v160ZM180-180h160v-160H180v160Zm440 0h160v-160H620v160Z\"/>\n",
              "  </svg>\n",
              "    </button>\n",
              "\n",
              "  <style>\n",
              "    .colab-df-container {\n",
              "      display:flex;\n",
              "      gap: 12px;\n",
              "    }\n",
              "\n",
              "    .colab-df-convert {\n",
              "      background-color: #E8F0FE;\n",
              "      border: none;\n",
              "      border-radius: 50%;\n",
              "      cursor: pointer;\n",
              "      display: none;\n",
              "      fill: #1967D2;\n",
              "      height: 32px;\n",
              "      padding: 0 0 0 0;\n",
              "      width: 32px;\n",
              "    }\n",
              "\n",
              "    .colab-df-convert:hover {\n",
              "      background-color: #E2EBFA;\n",
              "      box-shadow: 0px 1px 2px rgba(60, 64, 67, 0.3), 0px 1px 3px 1px rgba(60, 64, 67, 0.15);\n",
              "      fill: #174EA6;\n",
              "    }\n",
              "\n",
              "    .colab-df-buttons div {\n",
              "      margin-bottom: 4px;\n",
              "    }\n",
              "\n",
              "    [theme=dark] .colab-df-convert {\n",
              "      background-color: #3B4455;\n",
              "      fill: #D2E3FC;\n",
              "    }\n",
              "\n",
              "    [theme=dark] .colab-df-convert:hover {\n",
              "      background-color: #434B5C;\n",
              "      box-shadow: 0px 1px 3px 1px rgba(0, 0, 0, 0.15);\n",
              "      filter: drop-shadow(0px 1px 2px rgba(0, 0, 0, 0.3));\n",
              "      fill: #FFFFFF;\n",
              "    }\n",
              "  </style>\n",
              "\n",
              "    <script>\n",
              "      const buttonEl =\n",
              "        document.querySelector('#df-da2bb1eb-6664-4a9d-977b-fc3d0f3a4961 button.colab-df-convert');\n",
              "      buttonEl.style.display =\n",
              "        google.colab.kernel.accessAllowed ? 'block' : 'none';\n",
              "\n",
              "      async function convertToInteractive(key) {\n",
              "        const element = document.querySelector('#df-da2bb1eb-6664-4a9d-977b-fc3d0f3a4961');\n",
              "        const dataTable =\n",
              "          await google.colab.kernel.invokeFunction('convertToInteractive',\n",
              "                                                    [key], {});\n",
              "        if (!dataTable) return;\n",
              "\n",
              "        const docLinkHtml = 'Like what you see? Visit the ' +\n",
              "          '<a target=\"_blank\" href=https://colab.research.google.com/notebooks/data_table.ipynb>data table notebook</a>'\n",
              "          + ' to learn more about interactive tables.';\n",
              "        element.innerHTML = '';\n",
              "        dataTable['output_type'] = 'display_data';\n",
              "        await google.colab.output.renderOutput(dataTable, element);\n",
              "        const docLink = document.createElement('div');\n",
              "        docLink.innerHTML = docLinkHtml;\n",
              "        element.appendChild(docLink);\n",
              "      }\n",
              "    </script>\n",
              "  </div>\n",
              "\n",
              "\n",
              "<div id=\"df-12253515-8e04-4619-a003-1a41f9c6d8c2\">\n",
              "  <button class=\"colab-df-quickchart\" onclick=\"quickchart('df-12253515-8e04-4619-a003-1a41f9c6d8c2')\"\n",
              "            title=\"Suggest charts.\"\n",
              "            style=\"display:none;\">\n",
              "\n",
              "<svg xmlns=\"http://www.w3.org/2000/svg\" height=\"24px\"viewBox=\"0 0 24 24\"\n",
              "     width=\"24px\">\n",
              "    <g>\n",
              "        <path d=\"M19 3H5c-1.1 0-2 .9-2 2v14c0 1.1.9 2 2 2h14c1.1 0 2-.9 2-2V5c0-1.1-.9-2-2-2zM9 17H7v-7h2v7zm4 0h-2V7h2v10zm4 0h-2v-4h2v4z\"/>\n",
              "    </g>\n",
              "</svg>\n",
              "  </button>\n",
              "\n",
              "<style>\n",
              "  .colab-df-quickchart {\n",
              "      --bg-color: #E8F0FE;\n",
              "      --fill-color: #1967D2;\n",
              "      --hover-bg-color: #E2EBFA;\n",
              "      --hover-fill-color: #174EA6;\n",
              "      --disabled-fill-color: #AAA;\n",
              "      --disabled-bg-color: #DDD;\n",
              "  }\n",
              "\n",
              "  [theme=dark] .colab-df-quickchart {\n",
              "      --bg-color: #3B4455;\n",
              "      --fill-color: #D2E3FC;\n",
              "      --hover-bg-color: #434B5C;\n",
              "      --hover-fill-color: #FFFFFF;\n",
              "      --disabled-bg-color: #3B4455;\n",
              "      --disabled-fill-color: #666;\n",
              "  }\n",
              "\n",
              "  .colab-df-quickchart {\n",
              "    background-color: var(--bg-color);\n",
              "    border: none;\n",
              "    border-radius: 50%;\n",
              "    cursor: pointer;\n",
              "    display: none;\n",
              "    fill: var(--fill-color);\n",
              "    height: 32px;\n",
              "    padding: 0;\n",
              "    width: 32px;\n",
              "  }\n",
              "\n",
              "  .colab-df-quickchart:hover {\n",
              "    background-color: var(--hover-bg-color);\n",
              "    box-shadow: 0 1px 2px rgba(60, 64, 67, 0.3), 0 1px 3px 1px rgba(60, 64, 67, 0.15);\n",
              "    fill: var(--button-hover-fill-color);\n",
              "  }\n",
              "\n",
              "  .colab-df-quickchart-complete:disabled,\n",
              "  .colab-df-quickchart-complete:disabled:hover {\n",
              "    background-color: var(--disabled-bg-color);\n",
              "    fill: var(--disabled-fill-color);\n",
              "    box-shadow: none;\n",
              "  }\n",
              "\n",
              "  .colab-df-spinner {\n",
              "    border: 2px solid var(--fill-color);\n",
              "    border-color: transparent;\n",
              "    border-bottom-color: var(--fill-color);\n",
              "    animation:\n",
              "      spin 1s steps(1) infinite;\n",
              "  }\n",
              "\n",
              "  @keyframes spin {\n",
              "    0% {\n",
              "      border-color: transparent;\n",
              "      border-bottom-color: var(--fill-color);\n",
              "      border-left-color: var(--fill-color);\n",
              "    }\n",
              "    20% {\n",
              "      border-color: transparent;\n",
              "      border-left-color: var(--fill-color);\n",
              "      border-top-color: var(--fill-color);\n",
              "    }\n",
              "    30% {\n",
              "      border-color: transparent;\n",
              "      border-left-color: var(--fill-color);\n",
              "      border-top-color: var(--fill-color);\n",
              "      border-right-color: var(--fill-color);\n",
              "    }\n",
              "    40% {\n",
              "      border-color: transparent;\n",
              "      border-right-color: var(--fill-color);\n",
              "      border-top-color: var(--fill-color);\n",
              "    }\n",
              "    60% {\n",
              "      border-color: transparent;\n",
              "      border-right-color: var(--fill-color);\n",
              "    }\n",
              "    80% {\n",
              "      border-color: transparent;\n",
              "      border-right-color: var(--fill-color);\n",
              "      border-bottom-color: var(--fill-color);\n",
              "    }\n",
              "    90% {\n",
              "      border-color: transparent;\n",
              "      border-bottom-color: var(--fill-color);\n",
              "    }\n",
              "  }\n",
              "</style>\n",
              "\n",
              "  <script>\n",
              "    async function quickchart(key) {\n",
              "      const quickchartButtonEl =\n",
              "        document.querySelector('#' + key + ' button');\n",
              "      quickchartButtonEl.disabled = true;  // To prevent multiple clicks.\n",
              "      quickchartButtonEl.classList.add('colab-df-spinner');\n",
              "      try {\n",
              "        const charts = await google.colab.kernel.invokeFunction(\n",
              "            'suggestCharts', [key], {});\n",
              "      } catch (error) {\n",
              "        console.error('Error during call to suggestCharts:', error);\n",
              "      }\n",
              "      quickchartButtonEl.classList.remove('colab-df-spinner');\n",
              "      quickchartButtonEl.classList.add('colab-df-quickchart-complete');\n",
              "    }\n",
              "    (() => {\n",
              "      let quickchartButtonEl =\n",
              "        document.querySelector('#df-12253515-8e04-4619-a003-1a41f9c6d8c2 button');\n",
              "      quickchartButtonEl.style.display =\n",
              "        google.colab.kernel.accessAllowed ? 'block' : 'none';\n",
              "    })();\n",
              "  </script>\n",
              "</div>\n",
              "    </div>\n",
              "  </div>\n"
            ]
          },
          "metadata": {},
          "execution_count": 199
        }
      ]
    },
    {
      "cell_type": "code",
      "source": [
        "df_train['message_length'] = df_train['comment_text'].apply(len)\n",
        "df_test['message_length'] = df_test['comment_text'].apply(len)"
      ],
      "metadata": {
        "id": "3yOvpu5J1HCn"
      },
      "execution_count": null,
      "outputs": []
    },
    {
      "cell_type": "markdown",
      "source": [
        "2. **Histogram**:\n",
        "   A histogram provides a visual representation of the distribution of a continuous feature."
      ],
      "metadata": {
        "id": "Blx9qAXG1WET"
      }
    },
    {
      "cell_type": "code",
      "source": [
        "plt.figure(figsize=(8, 4))\n",
        "\n",
        "plt.subplot(1, 2, 1)\n",
        "plt.hist(df_train['message_length'], bins=50, color='blue', alpha=0.7)\n",
        "plt.title('Message Length Distribution in Train Set')\n",
        "plt.xlabel('Message Length')\n",
        "plt.ylabel('Frequency')\n",
        "\n",
        "plt.subplot(1, 2, 2)\n",
        "plt.hist(df_test['message_length'], bins=50, color='green', alpha=0.7)\n",
        "plt.title('Message Length Distribution in Test Set')\n",
        "plt.xlabel('Message Length')\n",
        "plt.ylabel('Frequency')\n",
        "\n",
        "plt.tight_layout()\n",
        "plt.show()"
      ],
      "metadata": {
        "colab": {
          "base_uri": "https://localhost:8080/",
          "height": 407
        },
        "id": "UhA7SSoJ1Za_",
        "outputId": "2e953a8c-a73e-44f3-8db3-307d51c586d1"
      },
      "execution_count": null,
      "outputs": [
        {
          "output_type": "display_data",
          "data": {
            "text/plain": [
              "<Figure size 800x400 with 2 Axes>"
            ],
            "image/png": "[encoded data removed]"
          },
          "metadata": {}
        }
      ]
    },
    {
      "cell_type": "code",
      "source": [
        "plt.figure(figsize=(6, 4))\n",
        "\n",
        "plt.hist(df_train['message_length'], bins=50, color='blue', alpha=0.5, label='Train Set')\n",
        "plt.hist(df_test['message_length'], bins=50, color='green', alpha=0.5, label='Test Set')\n",
        "\n",
        "plt.title('Message Length Distribution in Train and Test Sets')\n",
        "plt.xlabel('Message Length')\n",
        "plt.ylabel('Frequency')\n",
        "plt.legend()\n",
        "\n",
        "plt.tight_layout()\n",
        "plt.show()\n"
      ],
      "metadata": {
        "colab": {
          "base_uri": "https://localhost:8080/",
          "height": 407
        },
        "id": "PBl8gSaN2yB2",
        "outputId": "bece6d46-654d-4170-dcfc-e01851e70478"
      },
      "execution_count": null,
      "outputs": [
        {
          "output_type": "display_data",
          "data": {
            "text/plain": [
              "<Figure size 600x400 with 1 Axes>"
            ],
            "image/png": "[encoded data removed]"
          },
          "metadata": {}
        }
      ]
    },
    {
      "cell_type": "markdown",
      "source": [
        "3. **KDE Plot**:\n",
        "   A KDE plot provides a smoothed version of the histogram, which can be helpful in identifying the distribution shape more clearly."
      ],
      "metadata": {
        "id": "x0mqiJ7D3g4r"
      }
    },
    {
      "cell_type": "code",
      "source": [
        "import seaborn as sns\n",
        "\n",
        "plt.figure(figsize=(8, 4))\n",
        "\n",
        "plt.subplot(1, 2, 1)\n",
        "sns.kdeplot(df_train['message_length'], color='blue', shade=True)\n",
        "plt.title('Message Length KDE in Train Set')\n",
        "plt.xlabel('Message Length')\n",
        "plt.ylabel('Density')\n",
        "\n",
        "plt.subplot(1, 2, 2)\n",
        "sns.kdeplot(df_test['message_length'], color='green', shade=True)\n",
        "plt.title('Message Length KDE in Test Set')\n",
        "plt.xlabel('Message Length')\n",
        "plt.ylabel('Density')\n",
        "\n",
        "plt.tight_layout()\n",
        "plt.show()\n"
      ],
      "metadata": {
        "colab": {
          "base_uri": "https://localhost:8080/",
          "height": 615
        },
        "id": "lsdrWPH92iRN",
        "outputId": "67a9adbf-30c1-42ad-ff1c-e4a0973e966d"
      },
      "execution_count": null,
      "outputs": [
        {
          "output_type": "stream",
          "name": "stderr",
          "text": [
            "<ipython-input-203-2595fe473793>:6: FutureWarning: \n",
            "\n",
            "`shade` is now deprecated in favor of `fill`; setting `fill=True`.\n",
            "This will become an error in seaborn v0.14.0; please update your code.\n",
            "\n",
            "  sns.kdeplot(df_train['message_length'], color='blue', shade=True)\n",
            "<ipython-input-203-2595fe473793>:12: FutureWarning: \n",
            "\n",
            "`shade` is now deprecated in favor of `fill`; setting `fill=True`.\n",
            "This will become an error in seaborn v0.14.0; please update your code.\n",
            "\n",
            "  sns.kdeplot(df_test['message_length'], color='green', shade=True)\n"
          ]
        },
        {
          "output_type": "display_data",
          "data": {
            "text/plain": [
              "<Figure size 800x400 with 2 Axes>"
            ],
            "image/png": "[encoded data removed]"
          },
          "metadata": {}
        }
      ]
    },
    {
      "cell_type": "code",
      "source": [
        "plt.figure(figsize=(6, 4))\n",
        "\n",
        "sns.kdeplot(df_train['message_length'], color='blue', shade=True, label='Train Set')\n",
        "sns.kdeplot(df_test['message_length'], color='green', shade=True, label='Test Set')\n",
        "\n",
        "plt.title('Message Length KDE in Train and Test Sets')\n",
        "plt.xlabel('Message Length')\n",
        "plt.ylabel('Density')\n",
        "plt.legend()\n",
        "\n",
        "plt.tight_layout()\n",
        "plt.show()\n"
      ],
      "metadata": {
        "colab": {
          "base_uri": "https://localhost:8080/",
          "height": 615
        },
        "id": "ggVYdZJK2-FI",
        "outputId": "6fb0714d-029f-40f5-d4e0-42f0ad778139"
      },
      "execution_count": null,
      "outputs": [
        {
          "output_type": "stream",
          "name": "stderr",
          "text": [
            "<ipython-input-204-c0c4936637fa>:3: FutureWarning: \n",
            "\n",
            "`shade` is now deprecated in favor of `fill`; setting `fill=True`.\n",
            "This will become an error in seaborn v0.14.0; please update your code.\n",
            "\n",
            "  sns.kdeplot(df_train['message_length'], color='blue', shade=True, label='Train Set')\n",
            "<ipython-input-204-c0c4936637fa>:4: FutureWarning: \n",
            "\n",
            "`shade` is now deprecated in favor of `fill`; setting `fill=True`.\n",
            "This will become an error in seaborn v0.14.0; please update your code.\n",
            "\n",
            "  sns.kdeplot(df_test['message_length'], color='green', shade=True, label='Test Set')\n"
          ]
        },
        {
          "output_type": "display_data",
          "data": {
            "text/plain": [
              "<Figure size 600x400 with 1 Axes>"
            ],
            "image/png": "[encoded data removed]"
          },
          "metadata": {}
        }
      ]
    },
    {
      "cell_type": "markdown",
      "source": [
        "## Data preparation\n",
        "Data preparation is crucial for any machine learning task, especially for NLP problems. Given your objective to detect toxicity in tweets, here's a structured approach to data preprocessing and feature engineering:\n",
        "\n"
      ],
      "metadata": {
        "id": "3mc5lFa2lr7W"
      }
    },
    {
      "cell_type": "markdown",
      "source": [
        "\n",
        "1. **Lowercasing**: The entire text is converted to lowercase. This ensures uniformity and prevents the model from treating words like \"The\" and \"the\" as different due to case differences.\n",
        "\n",
        "2. **Handling Contractions**: Contractions are expanded to their full forms. For instance, \"what's\" is replaced with \"what is\". This step helps in standardizing the text and avoiding multiple forms of the same word.\n",
        "\n",
        "3. **Removing Possessives**: Possessive forms (ending in 's) are replaced with a space.\n",
        "\n",
        "4. **Removing Punctuation and Special Characters**: All punctuation marks and special characters are removed from the text. This simplifies the text and makes it easier for models to process.\n",
        "\n",
        "5. **Removing Extra Spaces**: Multiple spaces between words or characters are reduced to a single space.\n",
        "\n",
        "6. **Trimming**: Any leading or trailing spaces from the text are removed to ensure cleanliness.\n",
        "\n",
        "The primary goal of these steps is to standardize and simplify the text, making it easier to process by downstream natural language processing tasks or models. By performing these data preparation steps, the text becomes more consistent and can be more effectively used for modeling purposes."
      ],
      "metadata": {
        "id": "uT3peLUpluNg"
      }
    },
    {
      "cell_type": "code",
      "source": [
        "import re\n",
        "def preprocess_text(text):\n",
        "    # Convert the entire text to lowercase to ensure uniformity.\n",
        "    text = text.lower()\n",
        "\n",
        "    # Expand common contractions for consistency in text.\n",
        "    text = re.sub(r\"what's\", \"what is \", text)  # Replace \"what's\" with \"what is\"\n",
        "    text = re.sub(r\"\\'s\", \" \", text)            # Replace possessive 's with space\n",
        "    text = re.sub(r\"\\'ve\", \" have \", text)      # Replace \"'ve\" with \"have\"\n",
        "    text = re.sub(r\"can't\", \"cannot \", text)    # Replace \"can't\" with \"cannot\"\n",
        "    text = re.sub(r\"n't\", \" not \", text)        # Replace \"n't\" with \"not\" for all words (like don't, isn't)\n",
        "    text = re.sub(r\"i'm\", \"i am \", text)        # Replace \"i'm\" with \"i am\"\n",
        "    text = re.sub(r\"\\'re\", \" are \", text)       # Replace \"'re\" with \"are\"\n",
        "    text = re.sub(r\"\\'d\", \" would \", text)      # Replace \"'d\" with \"would\"\n",
        "    text = re.sub(r\"\\'ll\", \" will \", text)      # Replace \"'ll\" with \"will\"\n",
        "    text = re.sub(r\"\\'scuse\", \" excuse \", text) # Replace \"'scuse\" with \"excuse\"\n",
        "\n",
        "    # Remove punctuation and special characters to simplify text.\n",
        "    text = re.sub('\\W', ' ', text)              # Replace all non-word characters with spaces\n",
        "\n",
        "    # Remove any extra spaces to ensure well-structured text.\n",
        "    text = re.sub('\\s+', ' ', text)             # Replace multiple spaces with a single space\n",
        "\n",
        "    # Remove any leading and trailing spaces for cleanliness.\n",
        "    text = text.strip(' ')\n",
        "\n",
        "    return text\n"
      ],
      "metadata": {
        "id": "tlNRlyBloN9t"
      },
      "execution_count": null,
      "outputs": []
    },
    {
      "cell_type": "code",
      "source": [
        "# clean the 'comment_text' in train set\n",
        "df_train['comment_text'] = df_train['comment_text'].map(lambda com : preprocess_text(com))"
      ],
      "metadata": {
        "id": "R3Qb-CA_kjOa"
      },
      "execution_count": null,
      "outputs": []
    },
    {
      "cell_type": "code",
      "source": [
        "# clean the 'comment_text' in test set\n",
        "df_test['comment_text'] = df_test['comment_text'].map(lambda com : preprocess_text(com))"
      ],
      "metadata": {
        "id": "uZqPH2wHppCS"
      },
      "execution_count": null,
      "outputs": []
    },
    {
      "cell_type": "code",
      "source": [
        "# redefine the train set and the test set to X and y for training after cleaning\n",
        "X_train = df_train['comment_text']\n",
        "y_train = df_train['block']\n",
        "X_test = df_test['comment_text']\n",
        "y_test = df_test_labels['block']"
      ],
      "metadata": {
        "id": "AftLOfm3p4Dl"
      },
      "execution_count": null,
      "outputs": []
    },
    {
      "cell_type": "code",
      "source": [
        "X_train.info()"
      ],
      "metadata": {
        "colab": {
          "base_uri": "https://localhost:8080/"
        },
        "id": "6nd7Uc6mrjwC",
        "outputId": "c448c9cc-3f63-4cae-b10a-9d23467706dd"
      },
      "execution_count": null,
      "outputs": [
        {
          "output_type": "stream",
          "name": "stdout",
          "text": [
            "<class 'pandas.core.series.Series'>\n",
            "RangeIndex: 159571 entries, 0 to 159570\n",
            "Series name: comment_text\n",
            "Non-Null Count   Dtype \n",
            "--------------   ----- \n",
            "159571 non-null  object\n",
            "dtypes: object(1)\n",
            "memory usage: 1.2+ MB\n"
          ]
        }
      ]
    },
    {
      "cell_type": "code",
      "source": [
        "X_test.info()"
      ],
      "metadata": {
        "colab": {
          "base_uri": "https://localhost:8080/"
        },
        "id": "tkPWgAcsrsrM",
        "outputId": "50f11457-1fe3-4dc2-e08b-2643a723f266"
      },
      "execution_count": null,
      "outputs": [
        {
          "output_type": "stream",
          "name": "stdout",
          "text": [
            "<class 'pandas.core.series.Series'>\n",
            "RangeIndex: 153164 entries, 0 to 153163\n",
            "Series name: comment_text\n",
            "Non-Null Count   Dtype \n",
            "--------------   ----- \n",
            "153164 non-null  object\n",
            "dtypes: object(1)\n",
            "memory usage: 1.2+ MB\n"
          ]
        }
      ]
    },
    {
      "cell_type": "code",
      "source": [
        "y_train.info()"
      ],
      "metadata": {
        "colab": {
          "base_uri": "https://localhost:8080/"
        },
        "id": "MtOYxQItrp97",
        "outputId": "8bebf4f0-4715-4646-b7d7-5b0d2b49fa01"
      },
      "execution_count": null,
      "outputs": [
        {
          "output_type": "stream",
          "name": "stdout",
          "text": [
            "<class 'pandas.core.series.Series'>\n",
            "RangeIndex: 159571 entries, 0 to 159570\n",
            "Series name: block\n",
            "Non-Null Count   Dtype\n",
            "--------------   -----\n",
            "159571 non-null  int64\n",
            "dtypes: int64(1)\n",
            "memory usage: 1.2 MB\n"
          ]
        }
      ]
    },
    {
      "cell_type": "code",
      "source": [
        "y_test.info()"
      ],
      "metadata": {
        "colab": {
          "base_uri": "https://localhost:8080/"
        },
        "id": "u99HpRNdr00t",
        "outputId": "517808f9-8f41-4dce-f2e0-1f60755e9298"
      },
      "execution_count": null,
      "outputs": [
        {
          "output_type": "stream",
          "name": "stdout",
          "text": [
            "<class 'pandas.core.series.Series'>\n",
            "RangeIndex: 153164 entries, 0 to 153163\n",
            "Series name: block\n",
            "Non-Null Count   Dtype\n",
            "--------------   -----\n",
            "153164 non-null  int64\n",
            "dtypes: int64(1)\n",
            "memory usage: 1.2 MB\n"
          ]
        }
      ]
    },
    {
      "cell_type": "code",
      "source": [
        "print(f'the shape of the test set : x shape is {X_test.shape} and y shape is {y_test.shape}')\n",
        "print(f'the shape of the train set : x shape is {X_train.shape} and y shape is {y_train.shape}')"
      ],
      "metadata": {
        "colab": {
          "base_uri": "https://localhost:8080/"
        },
        "id": "vaXqWz9asAZJ",
        "outputId": "b10f5a03-3a6c-4267-8558-01d5703bd596"
      },
      "execution_count": null,
      "outputs": [
        {
          "output_type": "stream",
          "name": "stdout",
          "text": [
            "the shape of the test set : x shape is (153164,) and y shape is (153164,)\n",
            "the shape of the train set : x shape is (159571,) and y shape is (159571,)\n"
          ]
        }
      ]
    },
    {
      "cell_type": "markdown",
      "source": [
        "**TF-IDF (Term Frequency-Inverse Document Frequency):**\n",
        "\n",
        "TF-IDF is a statistical measure used to evaluate the importance of a word in a document relative to a collection of documents or corpus. It's a combination of two metrics:\n",
        "\n",
        "1. **Term Frequency (TF)**: This represents how frequently a term occurs in a document. It's computed as:\n",
        "\\[ \\text{TF}(t) = \\frac{\\text{Number of times term t appears in a document}}{\\text{Total number of terms in the document}} \\]\n",
        "\n",
        "2. **Inverse Document Frequency (IDF)**: This measures the importance of a term. While some terms might appear many times in a single document, they may also appear many times in many documents. Such terms (e.g., 'and', 'is', 'the') are less informative and are termed as stop words. The IDF of a term is calculated as:\n",
        "\\[ \\text{IDF}(t) = \\log_e\\left(\\frac{\\text{Total number of documents}}{\\text{Number of documents with term t in it}}\\right) \\]\n",
        "\n",
        "The TF-IDF score for a term in a document is the product of its TF and IDF scores:\n",
        "\\[ \\text{TF-IDF} = \\text{TF} \\times \\text{IDF} \\]\n",
        "\n",
        "Higher TF-IDF scores indicate that a term is important in a given document relative to the corpus."
      ],
      "metadata": {
        "id": "YO-alCiAwe2r"
      }
    },
    {
      "cell_type": "markdown",
      "source": [
        "The following code takes raw text data, preprocesses it to remove stop words, and then converts it into a numerical format suitable for machine learning using the TF-IDF methodology."
      ],
      "metadata": {
        "id": "_dIZ2j1jxp-A"
      }
    },
    {
      "cell_type": "markdown",
      "source": [
        "1. **Import Libraries**:\n",
        "Importing the necessary libraries for text vectorization."
      ],
      "metadata": {
        "id": "w_26hA1JwlAo"
      }
    },
    {
      "cell_type": "code",
      "source": [
        "from sklearn.feature_extraction.text import CountVectorizer\n",
        "from sklearn.feature_extraction.text import TfidfVectorizer"
      ],
      "metadata": {
        "id": "-s6KhZpMwhf8"
      },
      "execution_count": null,
      "outputs": []
    },
    {
      "cell_type": "markdown",
      "source": [
        "2. **Initialize TfidfVectorizer**:\n",
        "Initializes a TfidfVectorizer with a maximum of 10,000 features and removes common English stop words."
      ],
      "metadata": {
        "id": "IV4UXliGwn7h"
      }
    },
    {
      "cell_type": "code",
      "source": [
        "vect = TfidfVectorizer(max_features = 10000, stop_words='english')"
      ],
      "metadata": {
        "id": "fBSs0tV0wuik"
      },
      "execution_count": null,
      "outputs": []
    },
    {
      "cell_type": "markdown",
      "source": [
        "3. **Fit and Transform Train Data**:\n",
        "- `fit_transform` learns the vocabulary of the training data (`X_train`) and then converts it into a document-term matrix. Each row of this matrix represents a document, and each column corresponds to a term in the vocabulary."
      ],
      "metadata": {
        "id": "7_A4hf6gw44S"
      }
    },
    {
      "cell_type": "code",
      "source": [
        "X_train_dtm = vect.fit_transform(X_train)"
      ],
      "metadata": {
        "id": "A8NfY9p2w6ta"
      },
      "execution_count": null,
      "outputs": []
    },
    {
      "cell_type": "markdown",
      "source": [
        "4. **Display the Resultant Train Matrix**:\n",
        "\n",
        "Printing the transformed training data and its shape."
      ],
      "metadata": {
        "id": "NuzGmsz8xAFb"
      }
    },
    {
      "cell_type": "code",
      "source": [
        "print(\"The updated X_train is: \")\n",
        "print(X_train_dtm)\n",
        "print(\"The shape of the updated X_train is: \")\n",
        "print(X_train_dtm.shape)"
      ],
      "metadata": {
        "colab": {
          "base_uri": "https://localhost:8080/"
        },
        "id": "_kucG9vBxFiq",
        "outputId": "0472215e-78e1-4b7e-b479-89b90d4e89f7"
      },
      "execution_count": null,
      "outputs": [
        {
          "output_type": "stream",
          "name": "stdout",
          "text": [
            "The updated X_train is: \n",
            "  (0, 303)\t0.2109574467884258\n",
            "  (0, 322)\t0.24086950588680364\n",
            "  (0, 244)\t0.27143210926167327\n",
            "  (0, 396)\t0.2532962185172508\n",
            "  (0, 7680)\t0.26175061830770074\n",
            "  (0, 6484)\t0.09404538489627494\n",
            "  (0, 8865)\t0.09515679950982321\n",
            "  (0, 8936)\t0.17770693294814224\n",
            "  (0, 7545)\t0.15615006417412863\n",
            "  (0, 3561)\t0.25408007286194756\n",
            "  (0, 9976)\t0.22064182157864112\n",
            "  (0, 6112)\t0.13667377027107336\n",
            "  (0, 9654)\t0.2525299146333683\n",
            "  (0, 3995)\t0.26093371054621256\n",
            "  (0, 1971)\t0.29428977859476985\n",
            "  (0, 5092)\t0.10200830103291318\n",
            "  (0, 7704)\t0.16841843474405782\n",
            "  (0, 3616)\t0.21787161435979185\n",
            "  (0, 4277)\t0.2876948080861607\n",
            "  (0, 9477)\t0.20045197554113273\n",
            "  (0, 3197)\t0.13908441880122704\n",
            "  (0, 3519)\t0.19584027682477687\n",
            "  (1, 9489)\t0.1823833995261269\n",
            "  (1, 240)\t0.3833473171396401\n",
            "  (1, 27)\t0.23857998019077528\n",
            "  :\t:\n",
            "  (159568, 7760)\t0.3952194657495966\n",
            "  (159568, 938)\t0.13202447465884334\n",
            "  (159568, 517)\t0.2874404047946888\n",
            "  (159569, 5475)\t0.44457913835574003\n",
            "  (159569, 518)\t0.36451412681046896\n",
            "  (159569, 9572)\t0.4265218873799807\n",
            "  (159569, 5380)\t0.25041638810093825\n",
            "  (159569, 5472)\t0.33690734369527725\n",
            "  (159569, 8464)\t0.4348051626850428\n",
            "  (159569, 2695)\t0.34969624750259237\n",
            "  (159570, 4357)\t0.2723929485739983\n",
            "  (159570, 7730)\t0.28848102785929886\n",
            "  (159570, 4558)\t0.2631815280979145\n",
            "  (159570, 4554)\t0.21017486166558746\n",
            "  (159570, 5154)\t0.21223073276094298\n",
            "  (159570, 1096)\t0.4398091009581666\n",
            "  (159570, 2095)\t0.22526360870732687\n",
            "  (159570, 7755)\t0.17133868635781416\n",
            "  (159570, 4099)\t0.24040439105641806\n",
            "  (159570, 9347)\t0.1922898437284966\n",
            "  (159570, 1125)\t0.42008268342366273\n",
            "  (159570, 1607)\t0.22619140739681015\n",
            "  (159570, 9020)\t0.13758009943790112\n",
            "  (159570, 4805)\t0.20304863913500537\n",
            "  (159570, 7359)\t0.1673604442839596\n",
            "The shape of the updated X_train is: \n",
            "(159571, 10000)\n"
          ]
        }
      ]
    },
    {
      "cell_type": "markdown",
      "source": [
        "5. **Transform Test Data**:\n",
        "\n",
        "Using the learned vocabulary from the training set, the test data (`X_test`) is transformed into its respective document-term matrix."
      ],
      "metadata": {
        "id": "ttboyWuBxKfK"
      }
    },
    {
      "cell_type": "code",
      "source": [
        "X_test_dtm = vect.transform(X_test)"
      ],
      "metadata": {
        "id": "UAp5dm9wxJw0"
      },
      "execution_count": null,
      "outputs": []
    },
    {
      "cell_type": "markdown",
      "source": [
        "6. **Display the Resultant Test Matrix**:\n",
        "\n",
        "Printing the transformed test data and its shape."
      ],
      "metadata": {
        "id": "1bnDiqfIxXVA"
      }
    },
    {
      "cell_type": "code",
      "source": [
        "print(\"The updated X_test is: \")\n",
        "print(X_test_dtm)\n",
        "print(\"The shape of the updated X_test is: \")\n",
        "print(X_test_dtm.shape)"
      ],
      "metadata": {
        "colab": {
          "base_uri": "https://localhost:8080/"
        },
        "id": "0f3t2txCxYg4",
        "outputId": "c697937e-84b1-4862-b767-2ee8b942bb40"
      },
      "execution_count": null,
      "outputs": [
        {
          "output_type": "stream",
          "name": "stdout",
          "text": [
            "The updated X_test is: \n",
            "  (0, 9973)\t0.1705754406138041\n",
            "  (0, 9931)\t0.1073099845777051\n",
            "  (0, 9781)\t0.2770797330530159\n",
            "  (0, 9771)\t0.17501822058926783\n",
            "  (0, 9456)\t0.16690510403414038\n",
            "  (0, 9073)\t0.08320750756987814\n",
            "  (0, 9019)\t0.1051304449603063\n",
            "  (0, 8299)\t0.2044460861876251\n",
            "  (0, 8174)\t0.13320396750851524\n",
            "  (0, 7885)\t0.15438251771525982\n",
            "  (0, 7855)\t0.26563425241596433\n",
            "  (0, 7755)\t0.09668030613131877\n",
            "  (0, 6984)\t0.1865796433038566\n",
            "  (0, 6007)\t0.14032862915307204\n",
            "  (0, 5574)\t0.12157582807716205\n",
            "  (0, 5380)\t0.07109662552597328\n",
            "  (0, 5164)\t0.19105082914797245\n",
            "  (0, 4976)\t0.42669923989636455\n",
            "  (0, 4305)\t0.20229177037138496\n",
            "  (0, 4222)\t0.13887498881049767\n",
            "  (0, 3928)\t0.1832128871666098\n",
            "  (0, 3565)\t0.20258771336596562\n",
            "  (0, 3046)\t0.1264551360200632\n",
            "  (0, 2569)\t0.17870653742036316\n",
            "  (0, 1505)\t0.16613365269660849\n",
            "  :\t:\n",
            "  (153162, 5430)\t0.12959026447702385\n",
            "  (153162, 5397)\t0.09995906153831174\n",
            "  (153162, 5260)\t0.10879300391887789\n",
            "  (153162, 5022)\t0.12056448509473597\n",
            "  (153162, 4953)\t0.3666288726796736\n",
            "  (153162, 4056)\t0.3805328764722375\n",
            "  (153162, 3869)\t0.15654892202502543\n",
            "  (153162, 3415)\t0.14500554458254325\n",
            "  (153162, 3023)\t0.0634665119955275\n",
            "  (153162, 2767)\t0.15544083878554243\n",
            "  (153162, 2315)\t0.14172566776048023\n",
            "  (153162, 1903)\t0.1408855595773515\n",
            "  (153162, 771)\t0.1511369342300764\n",
            "  (153162, 754)\t0.15231195264820013\n",
            "  (153162, 707)\t0.2658369541825793\n",
            "  (153162, 704)\t0.112166367890164\n",
            "  (153162, 589)\t0.16632985969610273\n",
            "  (153162, 518)\t0.08202493183391846\n",
            "  (153163, 9758)\t0.2973631308051552\n",
            "  (153163, 9020)\t0.21224270686644917\n",
            "  (153163, 8590)\t0.27359291746352904\n",
            "  (153163, 6748)\t0.5213386323073639\n",
            "  (153163, 5154)\t0.32740509263670087\n",
            "  (153163, 3810)\t0.4615225633471509\n",
            "  (153163, 1546)\t0.446860130952034\n",
            "The shape of the updated X_test is: \n",
            "(153164, 10000)\n"
          ]
        }
      ]
    },
    {
      "cell_type": "markdown",
      "source": [
        "7. **Print y_test Shape**:\n",
        "\n",
        "This shows the shape of the target values for the test set."
      ],
      "metadata": {
        "id": "CwZcneIhxe-X"
      }
    },
    {
      "cell_type": "code",
      "source": [
        "print(y_test.shape)"
      ],
      "metadata": {
        "colab": {
          "base_uri": "https://localhost:8080/"
        },
        "id": "wK965WJnxghB",
        "outputId": "f0e70327-10b4-4132-8d53-c0aef51a396f"
      },
      "execution_count": null,
      "outputs": [
        {
          "output_type": "stream",
          "name": "stdout",
          "text": [
            "(153164,)\n"
          ]
        }
      ]
    },
    {
      "cell_type": "markdown",
      "source": [
        "## Execute three distinct algorithms and determine the most effective one"
      ],
      "metadata": {
        "id": "brmKAtyVx7RO"
      }
    },
    {
      "cell_type": "markdown",
      "source": [
        "### Logistic Regression Implementation:\n",
        "**Step 1: Model Initialization**\n",
        "\n",
        "Here, the Logistic Regression model is imported and initialized. The parameter `C=1` sets the inverse regularization strength, implying a relatively low regularization. Regularization helps prevent overfitting, and in this case, setting `C` to 1 indicates that the model should not heavily penalize larger coefficient values. The parameter `max_iter=2000` sets the maximum number of iterations for the optimization algorithm to converge, ensuring that the model does not terminate prematurely."
      ],
      "metadata": {
        "id": "x9RvUjmd0EY0"
      }
    },
    {
      "cell_type": "code",
      "source": [
        "from sklearn.linear_model import LogisticRegression\n",
        "logreg = LogisticRegression(C=1, max_iter = 2000)"
      ],
      "metadata": {
        "id": "OH72yhDF04a5"
      },
      "execution_count": null,
      "outputs": []
    },
    {
      "cell_type": "markdown",
      "source": [
        "**Step 2: Training the Model**\n",
        "\n",
        "This step trains the logistic regression model on the transformed training data (`X_train_dtm`) and the training labels (`y_train`)."
      ],
      "metadata": {
        "id": "IvoZMOnW0-cU"
      }
    },
    {
      "cell_type": "code",
      "source": [
        "logreg.fit(X_train_dtm, y_train)"
      ],
      "metadata": {
        "colab": {
          "base_uri": "https://localhost:8080/",
          "height": 74
        },
        "id": "4YDkf7IG1AXM",
        "outputId": "5ae6343d-8fe3-41c5-d3f5-70cdfadb1c91"
      },
      "execution_count": null,
      "outputs": [
        {
          "output_type": "execute_result",
          "data": {
            "text/plain": [
              "LogisticRegression(C=1, max_iter=2000)"
            ],
            "text/html": [
              "<style>#sk-container-id-7 {color: black;background-color: white;}#sk-container-id-7 pre{padding: 0;}#sk-container-id-7 div.sk-toggleable {background-color: white;}#sk-container-id-7 label.sk-toggleable__label {cursor: pointer;display: block;width: 100%;margin-bottom: 0;padding: 0.3em;box-sizing: border-box;text-align: center;}#sk-container-id-7 label.sk-toggleable__label-arrow:before {content: \"▸\";float: left;margin-right: 0.25em;color: #696969;}#sk-container-id-7 label.sk-toggleable__label-arrow:hover:before {color: black;}#sk-container-id-7 div.sk-estimator:hover label.sk-toggleable__label-arrow:before {color: black;}#sk-container-id-7 div.sk-toggleable__content {max-height: 0;max-width: 0;overflow: hidden;text-align: left;background-color: #f0f8ff;}#sk-container-id-7 div.sk-toggleable__content pre {margin: 0.2em;color: black;border-radius: 0.25em;background-color: #f0f8ff;}#sk-container-id-7 input.sk-toggleable__control:checked~div.sk-toggleable__content {max-height: 200px;max-width: 100%;overflow: auto;}#sk-container-id-7 input.sk-toggleable__control:checked~label.sk-toggleable__label-arrow:before {content: \"▾\";}#sk-container-id-7 div.sk-estimator input.sk-toggleable__control:checked~label.sk-toggleable__label {background-color: #d4ebff;}#sk-container-id-7 div.sk-label input.sk-toggleable__control:checked~label.sk-toggleable__label {background-color: #d4ebff;}#sk-container-id-7 input.sk-hidden--visually {border: 0;clip: rect(1px 1px 1px 1px);clip: rect(1px, 1px, 1px, 1px);height: 1px;margin: -1px;overflow: hidden;padding: 0;position: absolute;width: 1px;}#sk-container-id-7 div.sk-estimator {font-family: monospace;background-color: #f0f8ff;border: 1px dotted black;border-radius: 0.25em;box-sizing: border-box;margin-bottom: 0.5em;}#sk-container-id-7 div.sk-estimator:hover {background-color: #d4ebff;}#sk-container-id-7 div.sk-parallel-item::after {content: \"\";width: 100%;border-bottom: 1px solid gray;flex-grow: 1;}#sk-container-id-7 div.sk-label:hover label.sk-toggleable__label {background-color: #d4ebff;}#sk-container-id-7 div.sk-serial::before {content: \"\";position: absolute;border-left: 1px solid gray;box-sizing: border-box;top: 0;bottom: 0;left: 50%;z-index: 0;}#sk-container-id-7 div.sk-serial {display: flex;flex-direction: column;align-items: center;background-color: white;padding-right: 0.2em;padding-left: 0.2em;position: relative;}#sk-container-id-7 div.sk-item {position: relative;z-index: 1;}#sk-container-id-7 div.sk-parallel {display: flex;align-items: stretch;justify-content: center;background-color: white;position: relative;}#sk-container-id-7 div.sk-item::before, #sk-container-id-7 div.sk-parallel-item::before {content: \"\";position: absolute;border-left: 1px solid gray;box-sizing: border-box;top: 0;bottom: 0;left: 50%;z-index: -1;}#sk-container-id-7 div.sk-parallel-item {display: flex;flex-direction: column;z-index: 1;position: relative;background-color: white;}#sk-container-id-7 div.sk-parallel-item:first-child::after {align-self: flex-end;width: 50%;}#sk-container-id-7 div.sk-parallel-item:last-child::after {align-self: flex-start;width: 50%;}#sk-container-id-7 div.sk-parallel-item:only-child::after {width: 0;}#sk-container-id-7 div.sk-dashed-wrapped {border: 1px dashed gray;margin: 0 0.4em 0.5em 0.4em;box-sizing: border-box;padding-bottom: 0.4em;background-color: white;}#sk-container-id-7 div.sk-label label {font-family: monospace;font-weight: bold;display: inline-block;line-height: 1.2em;}#sk-container-id-7 div.sk-label-container {text-align: center;}#sk-container-id-7 div.sk-container {/* jupyter's `normalize.less` sets `[hidden] { display: none; }` but bootstrap.min.css set `[hidden] { display: none !important; }` so we also need the `!important` here to be able to override the default hidden behavior on the sphinx rendered scikit-learn.org. See: https://github.com/scikit-learn/scikit-learn/issues/21755 */display: inline-block !important;position: relative;}#sk-container-id-7 div.sk-text-repr-fallback {display: none;}</style><div id=\"sk-container-id-7\" class=\"sk-top-container\"><div class=\"sk-text-repr-fallback\"><pre>LogisticRegression(C=1, max_iter=2000)</pre><b>In a Jupyter environment, please rerun this cell to show the HTML representation or trust the notebook. <br />On GitHub, the HTML representation is unable to render, please try loading this page with nbviewer.org.</b></div><div class=\"sk-container\" hidden><div class=\"sk-item\"><div class=\"sk-estimator sk-toggleable\"><input class=\"sk-toggleable__control sk-hidden--visually\" id=\"sk-estimator-id-7\" type=\"checkbox\" checked><label for=\"sk-estimator-id-7\" class=\"sk-toggleable__label sk-toggleable__label-arrow\">LogisticRegression</label><div class=\"sk-toggleable__content\"><pre>LogisticRegression(C=1, max_iter=2000)</pre></div></div></div></div></div>"
            ]
          },
          "metadata": {},
          "execution_count": 222
        }
      ]
    },
    {
      "cell_type": "markdown",
      "source": [
        "**Step 3: Model Evaluation on Training Data**\n",
        "\n",
        "The model's predictions on the training data are obtained and compared with the actual labels to compute the training accuracy. This helps determine how well the model is fitting the data."
      ],
      "metadata": {
        "id": "A0XAyJS61Ntw"
      }
    },
    {
      "cell_type": "code",
      "source": [
        "from sklearn.metrics import accuracy_score\n",
        "y_pred_train = logreg.predict(X_train_dtm)\n",
        "print('Training accuracy is {}'.format(accuracy_score(y_train, y_pred_train)))"
      ],
      "metadata": {
        "colab": {
          "base_uri": "https://localhost:8080/"
        },
        "id": "cfnVhqVg1Snp",
        "outputId": "318c30a7-f240-443a-d164-a1470603fba0"
      },
      "execution_count": null,
      "outputs": [
        {
          "output_type": "stream",
          "name": "stdout",
          "text": [
            "Training accuracy is 0.9605504759636776\n"
          ]
        }
      ]
    },
    {
      "cell_type": "markdown",
      "source": [
        "**Step 4: Model Evaluation on Test Data**\n",
        "\n",
        "Similarly, the model's performance is evaluated on the test data. The accuracy score reflects how often the model makes correct predictions."
      ],
      "metadata": {
        "id": "2OXpOIQ91wf6"
      }
    },
    {
      "cell_type": "code",
      "source": [
        "y_pred_test = logreg.predict(X_test_dtm)\n",
        "print('Test accuracy is {}'.format(accuracy_score(y_test,y_pred_test)))"
      ],
      "metadata": {
        "colab": {
          "base_uri": "https://localhost:8080/"
        },
        "id": "W8OJgLtB10xM",
        "outputId": "633259d8-7a74-44cd-bfdf-33d95e4aafd3"
      },
      "execution_count": null,
      "outputs": [
        {
          "output_type": "stream",
          "name": "stdout",
          "text": [
            "Test accuracy is 0.8385782559870466\n"
          ]
        }
      ]
    },
    {
      "cell_type": "markdown",
      "source": [
        "**Step 5: Confusion Matrix**\n",
        "\n",
        "The confusion matrix provides a comprehensive view of the model's predictions. It shows the true positive, false positive, true negative, and false negative values, allowing for a deeper understanding of the model's performance beyond accuracy."
      ],
      "metadata": {
        "id": "a-KDBsB917_g"
      }
    },
    {
      "cell_type": "code",
      "source": [
        "from sklearn.metrics import confusion_matrix\n",
        "print(confusion_matrix(y_test,y_pred_test))"
      ],
      "metadata": {
        "colab": {
          "base_uri": "https://localhost:8080/"
        },
        "id": "83-z-pEp1-iS",
        "outputId": "d637be00-8dbf-40fa-f5dc-2d77145f771c"
      },
      "execution_count": null,
      "outputs": [
        {
          "output_type": "stream",
          "name": "stdout",
          "text": [
            "[[123803  23118]\n",
            " [  1606   4637]]\n"
          ]
        }
      ]
    },
    {
      "cell_type": "markdown",
      "source": [
        "**Step 6: ROC Curve**\n",
        "\n",
        "The remainder of the code computes the Receiver Operating Characteristic (ROC) curve, which is a graphical representation of a model's performance. The area under the curve (AUC) is calculated and plotted. The ROC curve plots the true positive rate against the false positive rate at various threshold levels.\n",
        "\n",
        "An AUC score close to 1 indicates excellent model performance, while a score close to 0.5 suggests that the model is no better than random guessing."
      ],
      "metadata": {
        "id": "Hh7kwWlH2h8q"
      }
    },
    {
      "cell_type": "code",
      "source": [
        "import sklearn.metrics as metrics\n",
        "\n",
        "# calculate the fpr(false positive rate),\n",
        "# tpr(true positive rate) and the thresholds values\n",
        "# for all of the classification's results\n",
        "probs = logreg.predict_proba(X_test_dtm)\n",
        "preds = probs[:,1]\n",
        "fpr, tpr, threshold = metrics.roc_curve(y_test, preds)\n",
        "roc_auc = metrics.auc(fpr, tpr)\n",
        "\n",
        "#plot of the results\n",
        "import matplotlib.pyplot as plt\n",
        "plt.title('receiver operating characteristic curve')\n",
        "plt.plot(fpr, tpr, 'b', label = 'AUC = %0.2f' % roc_auc)\n",
        "plt.legend(loc = 'lower right')\n",
        "plt.plot([0, 1], [0, 1],'r--', label = 'w/o training a model')\n",
        "plt.xlim([0, 1])\n",
        "plt.ylim([0, 1])\n",
        "plt.ylabel('True Positive Rate')\n",
        "plt.xlabel('False Positive Rate')\n",
        "plt.show()\n"
      ],
      "metadata": {
        "colab": {
          "base_uri": "https://localhost:8080/",
          "height": 472
        },
        "id": "iFKH2IKR2tW4",
        "outputId": "279a2318-02b2-4837-dedd-cf27d1c5db9e"
      },
      "execution_count": null,
      "outputs": [
        {
          "output_type": "display_data",
          "data": {
            "text/plain": [
              "<Figure size 640x480 with 1 Axes>"
            ],
            "image/png": "[encoded data removed]"
          },
          "metadata": {}
        }
      ]
    },
    {
      "cell_type": "markdown",
      "source": [
        "### performing cross-validation to find the best value of C\n",
        "\n",
        "1. **Goal of Our NLP Problem**: Our objective is to develop a model that can classify text messages as either \"block\" (y=1) or \"do not block\" (y=0). Given that we're working with an imbalanced dataset (many more \"do not block\" messages compared to \"block\" messages), it's crucial for us to ensure that our model **generalizes well to unseen data**.\n",
        "\n",
        "2. **Why Do We Use Regularization?**: We employ regularization to prevent overfitting, especially in scenarios with many features, like text data, and imbalanced classes. The parameter `C` in logistic regression is the inverse of the regularization strength. We recognize that smaller values of `C` indicate stronger regularization.\n",
        "\n",
        "3. **What is Cross-Validation to Us?**: Cross-validation is a technique where we split our training data into smaller subsets (called \"folds\"). We then train our model on `k-1` of these folds and test on the remaining fold. We repeat this process `k` times, each time with a different fold as the test set. This gives us insight into how our model might perform on unseen data and its sensitivity to the data partitioning.\n",
        "\n",
        "4. **Why We Use `GridSearchCV`**: Instead of trying out multiple hyperparameters manually (in this case, various values of `C` for regularization), `GridSearchCV` automates this process for us. It trains the model for each combination of hyperparameters and cross-validates, helping us pinpoint the best combination based on performance.\n",
        "\n",
        "5. **Our Advantages**:\n",
        "   - **Better Generalization**: By utilizing cross-validation, we ensure our model performs consistently across different subsets of our data, making it more robust to new, unseen data.\n",
        "   - **Automated Hyperparameter Tuning**: Rather than tuning hyperparameters manually, `GridSearchCV` handles the search over the specified hyperparameters for us, identifying the best combination based on model performance.\n",
        "   - **Handling Imbalanced Data**: With imbalanced datasets, it's easy for a model to overfit to the majority class. Through regularization and careful evaluation using cross-validation, we can mitigate this issue.\n",
        "\n",
        "6. **Considerations**: While `GridSearchCV` offers many benefits, it can be computationally demanding, especially if we have a large dataset or numerous hyperparameters. It's effectively training the model multiple times (number of hyperparameter combinations multiplied by the number of folds). So, we need to be mindful of our computational resources and time.\n",
        "\n",
        "In summary, by using `GridSearchCV` with cross-validation for our problem, we're taking steps to find a model that's robust, generalizes effectively to unseen data, and isn't overly sensitive to specific nuances in the training data. Given the imbalanced nature of our dataset, these measures are particularly crucial to ensure that our model genuinely learns to classify messages accurately and doesn't merely memorize the training data."
      ],
      "metadata": {
        "id": "L6d339JM5W8b"
      }
    },
    {
      "cell_type": "code",
      "source": [
        "from sklearn.model_selection import GridSearchCV\n",
        "from sklearn.linear_model import LogisticRegression\n",
        "\n",
        "# Define the hyperparameters and their values\n",
        "param_grid = {'C': [0.001, 0.01, 0.1, 1, 10, 100], 'max_iter': [2000]}\n",
        "\n",
        "# Initialize the model\n",
        "logreg = LogisticRegression()\n",
        "\n",
        "# Initialize GridSearchCV\n",
        "grid_search = GridSearchCV(logreg, param_grid, cv=5, scoring='accuracy')\n",
        "\n",
        "# Fit the model with the parameter candidates\n",
        "grid_search.fit(X_train_dtm, y_train)\n",
        "\n",
        "# Print the best parameters and their score\n",
        "print(\"Best parameters: \", grid_search.best_params_)\n",
        "print(\"Best cross-validation score: {:.2f}\".format(grid_search.best_score_))\n"
      ],
      "metadata": {
        "colab": {
          "base_uri": "https://localhost:8080/"
        },
        "id": "aU65VvJT52uI",
        "outputId": "676d6d2b-15d9-49b3-81c0-1ffbcee97a51"
      },
      "execution_count": null,
      "outputs": [
        {
          "output_type": "stream",
          "name": "stdout",
          "text": [
            "Best parameters:  {'C': 10, 'max_iter': 2000}\n",
            "Best cross-validation score: 0.96\n"
          ]
        }
      ]
    },
    {
      "cell_type": "code",
      "source": [
        "grid_search.best_params_['C']"
      ],
      "metadata": {
        "colab": {
          "base_uri": "https://localhost:8080/"
        },
        "id": "8isJMhTzxgbP",
        "outputId": "2ef3eae4-b86a-410c-95b0-8d9cf931149e"
      },
      "execution_count": null,
      "outputs": [
        {
          "output_type": "execute_result",
          "data": {
            "text/plain": [
              "10"
            ]
          },
          "metadata": {},
          "execution_count": 228
        }
      ]
    },
    {
      "cell_type": "markdown",
      "source": [
        "After obtaining the best parameters for our model using `GridSearchCV`, we can proceed with the following steps:\n",
        "\n",
        "1. **Refit the Model with the Best Parameters:** Though `GridSearchCV` automatically refits the best model on the entire training dataset, if we want to explicitly refit it, we can do so as:"
      ],
      "metadata": {
        "id": "adQhCkw288ED"
      }
    },
    {
      "cell_type": "code",
      "source": [
        "best_logreg = LogisticRegression(C=grid_search.best_params_['C'], max_iter=grid_search.best_params_['max_iter'])\n",
        "best_logreg.fit(X_train_dtm, y_train)"
      ],
      "metadata": {
        "colab": {
          "base_uri": "https://localhost:8080/",
          "height": 74
        },
        "id": "0noMorCB8918",
        "outputId": "d0d26320-9734-4adc-b767-6760ef6bc073"
      },
      "execution_count": null,
      "outputs": [
        {
          "output_type": "execute_result",
          "data": {
            "text/plain": [
              "LogisticRegression(C=10, max_iter=2000)"
            ],
            "text/html": [
              "<style>#sk-container-id-8 {color: black;background-color: white;}#sk-container-id-8 pre{padding: 0;}#sk-container-id-8 div.sk-toggleable {background-color: white;}#sk-container-id-8 label.sk-toggleable__label {cursor: pointer;display: block;width: 100%;margin-bottom: 0;padding: 0.3em;box-sizing: border-box;text-align: center;}#sk-container-id-8 label.sk-toggleable__label-arrow:before {content: \"▸\";float: left;margin-right: 0.25em;color: #696969;}#sk-container-id-8 label.sk-toggleable__label-arrow:hover:before {color: black;}#sk-container-id-8 div.sk-estimator:hover label.sk-toggleable__label-arrow:before {color: black;}#sk-container-id-8 div.sk-toggleable__content {max-height: 0;max-width: 0;overflow: hidden;text-align: left;background-color: #f0f8ff;}#sk-container-id-8 div.sk-toggleable__content pre {margin: 0.2em;color: black;border-radius: 0.25em;background-color: #f0f8ff;}#sk-container-id-8 input.sk-toggleable__control:checked~div.sk-toggleable__content {max-height: 200px;max-width: 100%;overflow: auto;}#sk-container-id-8 input.sk-toggleable__control:checked~label.sk-toggleable__label-arrow:before {content: \"▾\";}#sk-container-id-8 div.sk-estimator input.sk-toggleable__control:checked~label.sk-toggleable__label {background-color: #d4ebff;}#sk-container-id-8 div.sk-label input.sk-toggleable__control:checked~label.sk-toggleable__label {background-color: #d4ebff;}#sk-container-id-8 input.sk-hidden--visually {border: 0;clip: rect(1px 1px 1px 1px);clip: rect(1px, 1px, 1px, 1px);height: 1px;margin: -1px;overflow: hidden;padding: 0;position: absolute;width: 1px;}#sk-container-id-8 div.sk-estimator {font-family: monospace;background-color: #f0f8ff;border: 1px dotted black;border-radius: 0.25em;box-sizing: border-box;margin-bottom: 0.5em;}#sk-container-id-8 div.sk-estimator:hover {background-color: #d4ebff;}#sk-container-id-8 div.sk-parallel-item::after {content: \"\";width: 100%;border-bottom: 1px solid gray;flex-grow: 1;}#sk-container-id-8 div.sk-label:hover label.sk-toggleable__label {background-color: #d4ebff;}#sk-container-id-8 div.sk-serial::before {content: \"\";position: absolute;border-left: 1px solid gray;box-sizing: border-box;top: 0;bottom: 0;left: 50%;z-index: 0;}#sk-container-id-8 div.sk-serial {display: flex;flex-direction: column;align-items: center;background-color: white;padding-right: 0.2em;padding-left: 0.2em;position: relative;}#sk-container-id-8 div.sk-item {position: relative;z-index: 1;}#sk-container-id-8 div.sk-parallel {display: flex;align-items: stretch;justify-content: center;background-color: white;position: relative;}#sk-container-id-8 div.sk-item::before, #sk-container-id-8 div.sk-parallel-item::before {content: \"\";position: absolute;border-left: 1px solid gray;box-sizing: border-box;top: 0;bottom: 0;left: 50%;z-index: -1;}#sk-container-id-8 div.sk-parallel-item {display: flex;flex-direction: column;z-index: 1;position: relative;background-color: white;}#sk-container-id-8 div.sk-parallel-item:first-child::after {align-self: flex-end;width: 50%;}#sk-container-id-8 div.sk-parallel-item:last-child::after {align-self: flex-start;width: 50%;}#sk-container-id-8 div.sk-parallel-item:only-child::after {width: 0;}#sk-container-id-8 div.sk-dashed-wrapped {border: 1px dashed gray;margin: 0 0.4em 0.5em 0.4em;box-sizing: border-box;padding-bottom: 0.4em;background-color: white;}#sk-container-id-8 div.sk-label label {font-family: monospace;font-weight: bold;display: inline-block;line-height: 1.2em;}#sk-container-id-8 div.sk-label-container {text-align: center;}#sk-container-id-8 div.sk-container {/* jupyter's `normalize.less` sets `[hidden] { display: none; }` but bootstrap.min.css set `[hidden] { display: none !important; }` so we also need the `!important` here to be able to override the default hidden behavior on the sphinx rendered scikit-learn.org. See: https://github.com/scikit-learn/scikit-learn/issues/21755 */display: inline-block !important;position: relative;}#sk-container-id-8 div.sk-text-repr-fallback {display: none;}</style><div id=\"sk-container-id-8\" class=\"sk-top-container\"><div class=\"sk-text-repr-fallback\"><pre>LogisticRegression(C=10, max_iter=2000)</pre><b>In a Jupyter environment, please rerun this cell to show the HTML representation or trust the notebook. <br />On GitHub, the HTML representation is unable to render, please try loading this page with nbviewer.org.</b></div><div class=\"sk-container\" hidden><div class=\"sk-item\"><div class=\"sk-estimator sk-toggleable\"><input class=\"sk-toggleable__control sk-hidden--visually\" id=\"sk-estimator-id-8\" type=\"checkbox\" checked><label for=\"sk-estimator-id-8\" class=\"sk-toggleable__label sk-toggleable__label-arrow\">LogisticRegression</label><div class=\"sk-toggleable__content\"><pre>LogisticRegression(C=10, max_iter=2000)</pre></div></div></div></div></div>"
            ]
          },
          "metadata": {},
          "execution_count": 229
        }
      ]
    },
    {
      "cell_type": "markdown",
      "source": [
        "2. **Evaluate on Training Data:** To ensure that our model is performing well and not overfitting, we should check its performance on the training data."
      ],
      "metadata": {
        "id": "7p32QzDA9Bdt"
      }
    },
    {
      "cell_type": "code",
      "source": [
        "y_train_pred = best_logreg.predict(X_train_dtm)\n",
        "train_accuracy = accuracy_score(y_train, y_train_pred)\n",
        "print(f\"Training accuracy with best parameters: {train_accuracy:.4f}\")"
      ],
      "metadata": {
        "colab": {
          "base_uri": "https://localhost:8080/"
        },
        "id": "FZLNsbMc9DTd",
        "outputId": "ff43548d-1d4f-4e4f-a827-e7d8435bae77"
      },
      "execution_count": null,
      "outputs": [
        {
          "output_type": "stream",
          "name": "stdout",
          "text": [
            "Training accuracy with best parameters: 0.9690\n"
          ]
        }
      ]
    },
    {
      "cell_type": "markdown",
      "source": [
        "3. **Evaluate on Test Data:** Now, we need to check the performance of our model on the test data."
      ],
      "metadata": {
        "id": "UMO52GVp9JDC"
      }
    },
    {
      "cell_type": "code",
      "source": [
        "y_test_pred = best_logreg.predict(X_test_dtm)\n",
        "test_accuracy = accuracy_score(y_test, y_test_pred)\n",
        "print(f\"Test accuracy with best parameters: {test_accuracy:.4f}\")"
      ],
      "metadata": {
        "colab": {
          "base_uri": "https://localhost:8080/"
        },
        "id": "fojS070t9LF0",
        "outputId": "88710071-3373-484f-d98b-7461149d4e6a"
      },
      "execution_count": null,
      "outputs": [
        {
          "output_type": "stream",
          "name": "stdout",
          "text": [
            "Test accuracy with best parameters: 0.8154\n"
          ]
        }
      ]
    },
    {
      "cell_type": "markdown",
      "source": [
        "4. **Examine Additional Metrics:** Depending on the nature of our dataset (e.g., if it's imbalanced), we might want to look at other metrics such as precision, recall, F1-score, and the ROC curve. This will give us a more comprehensive view of the model's performance."
      ],
      "metadata": {
        "id": "9rQWbfxm-wgj"
      }
    },
    {
      "cell_type": "code",
      "source": [
        "from sklearn.metrics import classification_report, roc_curve, auc\n",
        "\n",
        "# Print classification report for detailed metrics\n",
        "print(classification_report(y_test, y_test_pred))\n",
        "\n",
        "# ROC curve\n",
        "y_test_prob = best_logreg.predict_proba(X_test_dtm)[:,1]\n",
        "fpr, tpr, _ = roc_curve(y_test, y_test_prob)\n",
        "roc_auc = auc(fpr, tpr)"
      ],
      "metadata": {
        "colab": {
          "base_uri": "https://localhost:8080/"
        },
        "id": "N1wOUhoQ-z4k",
        "outputId": "e7ecd07a-2d88-4349-a67f-37fb5176cdd5"
      },
      "execution_count": null,
      "outputs": [
        {
          "output_type": "stream",
          "name": "stdout",
          "text": [
            "              precision    recall  f1-score   support\n",
            "\n",
            "           0       0.99      0.82      0.89    146921\n",
            "           1       0.16      0.81      0.26      6243\n",
            "\n",
            "    accuracy                           0.82    153164\n",
            "   macro avg       0.57      0.81      0.58    153164\n",
            "weighted avg       0.96      0.82      0.87    153164\n",
            "\n"
          ]
        }
      ]
    },
    {
      "cell_type": "code",
      "source": [
        "# Print confusion matrix\n",
        "print(confusion_matrix(y_test, y_test_pred))"
      ],
      "metadata": {
        "colab": {
          "base_uri": "https://localhost:8080/"
        },
        "id": "-BDg-VJyW0ef",
        "outputId": "e02492dc-bf17-48d3-a182-4951bf135d83"
      },
      "execution_count": null,
      "outputs": [
        {
          "output_type": "stream",
          "name": "stdout",
          "text": [
            "[[119849  27072]\n",
            " [  1206   5037]]\n"
          ]
        }
      ]
    },
    {
      "cell_type": "markdown",
      "source": [
        "5. **Visualize Results:** Plotting the results can be insightful, for instance, visualizing the ROC curve."
      ],
      "metadata": {
        "id": "eSnXPriM_DtS"
      }
    },
    {
      "cell_type": "code",
      "source": [
        "import matplotlib.pyplot as plt\n",
        "\n",
        "plt.figure()\n",
        "plt.plot(fpr, tpr, color='darkorange', label=f'ROC curve (area = {roc_auc:.2f})')\n",
        "plt.plot([0, 1], [0, 1], color='navy', linestyle='--')\n",
        "plt.xlabel('False Positive Rate')\n",
        "plt.ylabel('True Positive Rate')\n",
        "plt.title('Receiver Operating Characteristic (ROC) Curve - Logistic Regression ')\n",
        "plt.legend(loc=\"lower right\")\n",
        "plt.show()"
      ],
      "metadata": {
        "colab": {
          "base_uri": "https://localhost:8080/",
          "height": 472
        },
        "id": "UbeAkCHi_Hub",
        "outputId": "e8e33672-f445-4310-b633-051728b9b4f9"
      },
      "execution_count": null,
      "outputs": [
        {
          "output_type": "display_data",
          "data": {
            "text/plain": [
              "<Figure size 640x480 with 1 Axes>"
            ],
            "image/png": "[encoded data removed]"
          },
          "metadata": {}
        }
      ]
    },
    {
      "cell_type": "markdown",
      "source": [
        "The output provides several important insights about the model's performance:\n",
        "\n",
        "1. **Precision**:\n",
        "    - For class 0 (messages not blocked): The precision is 0.99. This indicates that when the model predicts a message as not being blocked (class 0), it is correct about 99% of the time.\n",
        "    - For class 1 (messages blocked): The precision is 0.16. This means that when the model predicts a message will be blocked (class 1), it is only correct 16% of the time.\n",
        "\n",
        "2. **Recall**:\n",
        "    - For class 0: The recall is 0.82. This means the model correctly identified 82% of the actual non-blocked messages.\n",
        "    - For class 1: The recall is 0.81. This means that the model caught 81% of the actual blocked messages, which is a good rate.\n",
        "\n",
        "3. **F1-Score**:\n",
        "    - The F1-score provides a balance between precision and recall. It's especially useful when classes are imbalanced.\n",
        "    - For class 0: The F1-score is 0.89, which is relatively high.\n",
        "    - For class 1: The F1-score is 0.26. This score suggests that there's room for improvement when classifying blocked messages. The lower F1-score for class 1 compared to class 0 is primarily due to the low precision for class 1.\n",
        "\n",
        "4. **Accuracy**:\n",
        "    - The overall accuracy of the model is 0.82, which means the model made correct predictions 82% of the time across both classes.\n",
        "\n",
        "5. **Macro avg vs. Weighted avg**:\n",
        "    - The \"macro avg\" takes the unweighted mean of the precision, recall, and F1-score, treating both classes equally.\n",
        "    - The \"weighted avg\" takes the weighted mean of the precision, recall, and F1-score, considering the imbalances in the class distribution. Given the class imbalance, the weighted averages are more representative of the model's overall performance.\n",
        "\n",
        "6. **Class Imbalance Impact**:\n",
        "    - The large disparity between precision values for the two classes indicates that the class imbalance is affecting model performance. Even though the recall for the minority class (blocked messages) is decent, the low precision suggests many false positives.\n",
        "\n",
        "From these insights, we can conclude:\n",
        "\n",
        "- The model is very reliable when predicting non-blocked messages but less reliable when predicting blocked messages.\n",
        "- While the model manages to capture a significant portion of blocked messages (high recall), it also misclassifies a lot of non-blocked messages as blocked, resulting in a low precision for the blocked class.\n",
        "- Efforts should be directed towards improving the precision for blocked messages without significantly sacrificing recall. Adjusting the decision threshold, using different sampling techniques, or employing more advanced models might help in this regard."
      ],
      "metadata": {
        "id": "WBzwKdIt82C5"
      }
    },
    {
      "cell_type": "markdown",
      "source": [
        "## Logistic Regression with Class Weighting\n"
      ],
      "metadata": {
        "id": "fLePDcYUCQdd"
      }
    },
    {
      "cell_type": "markdown",
      "source": [
        "### 1. Using Class Weights in Logistic Regression:\n",
        "`LogisticRegression` in `scikit-learn` provides a `class_weight` parameter that allows you to specify weights for classes. By setting it to `'balanced'`, the algorithm will automatically adjust weights inversely proportional to class frequencies."
      ],
      "metadata": {
        "id": "COkWJUnMCnLS"
      }
    },
    {
      "cell_type": "code",
      "source": [
        "from sklearn.linear_model import LogisticRegression\n",
        "from sklearn.metrics import classification_report, confusion_matrix, roc_curve, auc\n",
        "\n",
        "# Initialize the Logistic Regression model with 'balanced' class weights\n",
        "logreg_weighted = LogisticRegression(class_weight='balanced', max_iter=2000)\n",
        "\n",
        "# Train the model\n",
        "logreg_weighted.fit(X_train_dtm, y_train)\n",
        "\n",
        "# Predict on the test set\n",
        "y_test_pred_weighted = logreg_weighted.predict(X_test_dtm)"
      ],
      "metadata": {
        "id": "_dSwAq7kCgvq"
      },
      "execution_count": null,
      "outputs": []
    },
    {
      "cell_type": "code",
      "source": [
        "y_train_pred = logreg_weighted.predict(X_train_dtm)"
      ],
      "metadata": {
        "id": "nwqv86w1YnrO"
      },
      "execution_count": null,
      "outputs": []
    },
    {
      "cell_type": "code",
      "source": [
        "train_accuracy =  accuracy_score(y_train, y_train_pred)\n",
        "print(f\"Training accuracy : {train_accuracy:.4f}\")"
      ],
      "metadata": {
        "colab": {
          "base_uri": "https://localhost:8080/"
        },
        "id": "L8FDGsFzYlel",
        "outputId": "c88e41e7-4a16-47ee-ad9d-ece6aac42898"
      },
      "execution_count": null,
      "outputs": [
        {
          "output_type": "stream",
          "name": "stdout",
          "text": [
            "Training accuracy : 0.9449\n"
          ]
        }
      ]
    },
    {
      "cell_type": "code",
      "source": [
        "test_accuracy =  accuracy_score(y_test, y_test_pred_weighted)\n",
        "print(f\"Testing accuracy : {test_accuracy:.4f}\")"
      ],
      "metadata": {
        "colab": {
          "base_uri": "https://localhost:8080/"
        },
        "id": "89HtZpiyY9Pa",
        "outputId": "08ff3bfd-ab1d-41f9-dd8f-41d2e46d4391"
      },
      "execution_count": null,
      "outputs": [
        {
          "output_type": "stream",
          "name": "stdout",
          "text": [
            "Testing accuracy : 0.7467\n"
          ]
        }
      ]
    },
    {
      "cell_type": "markdown",
      "source": [],
      "metadata": {
        "id": "_MupZ8h-Yhgx"
      }
    },
    {
      "cell_type": "markdown",
      "source": [
        "### 2. Evaluating the Model:\n",
        "\n",
        "To check if the model did well, you can utilize various metrics suitable for imbalanced datasets:"
      ],
      "metadata": {
        "id": "8_kOdt6TCp35"
      }
    },
    {
      "cell_type": "markdown",
      "source": [
        "#### 2.1. Classification Report:\n",
        "\n",
        "The classification report provides precision, recall, and F1-score for both classes. For imbalanced datasets, focus on the F1-score and recall for the minority class."
      ],
      "metadata": {
        "id": "4fFGhK-sCqiq"
      }
    },
    {
      "cell_type": "code",
      "source": [
        "# Print classification report\n",
        "print(classification_report(y_test, y_test_pred_weighted))"
      ],
      "metadata": {
        "colab": {
          "base_uri": "https://localhost:8080/"
        },
        "id": "qI-6v_-hCvvp",
        "outputId": "4b0606c8-ed5c-4321-d142-8bd1ea7e19dd"
      },
      "execution_count": null,
      "outputs": [
        {
          "output_type": "stream",
          "name": "stdout",
          "text": [
            "              precision    recall  f1-score   support\n",
            "\n",
            "           0       1.00      0.74      0.85    146921\n",
            "           1       0.13      0.92      0.23      6243\n",
            "\n",
            "    accuracy                           0.75    153164\n",
            "   macro avg       0.56      0.83      0.54    153164\n",
            "weighted avg       0.96      0.75      0.82    153164\n",
            "\n"
          ]
        }
      ]
    },
    {
      "cell_type": "markdown",
      "source": [
        "From the classification report we obtained after using Logistic Regression with class weighting, here's what we can infer:\n",
        "\n",
        "1. **Precision for Class 1 (minority class)**: The precision for class 1 is 0.13, which means that out of all the instances predicted as class 1, only 13% were actually class 1. The rest (87%) were false positives.\n",
        "\n",
        "2. **Recall for Class 1**: The recall for class 1 is impressive at 0.92. This means that out of all the actual class 1 instances in the test set, the model correctly identified 92% of them.\n",
        "\n",
        "3. **F1-score for Class 1**: The F1-score is a harmonic mean of precision and recall. For class 1, it's 0.23, which is relatively low due to the lower precision, even though the recall is high.\n",
        "\n",
        "4. **Precision for Class 0 (majority class)**: The precision for class 0 is perfect at 1.00. This means that all instances predicted as class 0 were indeed class 0.\n",
        "\n",
        "5. **Recall for Class 0**: The recall for class 0 is 0.74, which means the model correctly identified 74% of the actual class 0 instances.\n",
        "\n",
        "6. **Accuracy**: The overall accuracy of the model on the test set is 0.75 or 75%, which means it correctly classified 75% of the total instances.\n",
        "\n",
        "7. **Macro Avg**: The average score (considering both precision and recall) for both classes, giving equal weight to both classes, is 0.56 for precision, 0.83 for recall, and 0.54 for F1-score.\n",
        "\n",
        "8. **Weighted Avg**: This takes the class distribution into account. Given the large class imbalance, this score is skewed more towards the majority class. We can see this with the weighted average precision being 0.96 and recall being 0.75.\n",
        "\n",
        "**Interpretation**:\n",
        "By using class weighting, we've made the model much more sensitive to the minority class (Class 1). This is evident from the high recall for class 1. However, the trade-off here is that precision for the minority class has dropped, resulting in more false positives. This means that while the model is catching a lot of the true positive class 1 instances, it's also misclassifying a significant number of class 0 instances as class 1.\n",
        "\n",
        "The decision to go with this model or not depends on the specific use-case and the cost associated with false positives versus false negatives. If it's more crucial to capture as many true positive instances of class 1 as possible (at the expense of increasing false positives), then this approach could be suitable. Otherwise, further model tuning or other techniques might be necessary."
      ],
      "metadata": {
        "id": "FhXQDF_GDgoL"
      }
    },
    {
      "cell_type": "markdown",
      "source": [
        "#### 2.2. Confusion Matrix:\n",
        "\n",
        "This will give you a clear picture of True Positives, False Positives, True Negatives, and False Negatives."
      ],
      "metadata": {
        "id": "kP1sIYB0D0Ne"
      }
    },
    {
      "cell_type": "code",
      "source": [
        "# Print confusion matrix\n",
        "print(confusion_matrix(y_test, y_test_pred_weighted))"
      ],
      "metadata": {
        "colab": {
          "base_uri": "https://localhost:8080/"
        },
        "id": "eyfpGV2yD2EY",
        "outputId": "33c8409d-dcc3-44bb-bf77-f8402d94856f"
      },
      "execution_count": null,
      "outputs": [
        {
          "output_type": "stream",
          "name": "stdout",
          "text": [
            "[[108630  38291]\n",
            " [   501   5742]]\n"
          ]
        }
      ]
    },
    {
      "cell_type": "markdown",
      "source": [
        "\n",
        "1. **True Negative (TN)**: 108,630 - This is the number of negative instances (Class 0) that were correctly classified as negative.\n",
        "2. **False Positive (FP)**: 38,291 - This is the number of negative instances that were incorrectly classified as positive (Class 1). This is a type I error.\n",
        "3. **False Negative (FN)**: 501 - This is the number of positive instances (Class 1) that were incorrectly classified as negative. This is a type II error.\n",
        "4. **True Positive (TP)**: 5,742 - This is the number of positive instances that were correctly classified as positive.\n",
        "\n",
        "From this matrix, we can derive several key insights:\n",
        "\n",
        "- The model has become **highly sensitive** to the positive class (Class 1) because it has successfully identified a high number of true positives (5,742) while having a low number of false negatives (501). This confirms the high recall for Class 1 we saw in the classification report.\n",
        "\n",
        "- However, the number of false positives (38,291) is also quite high, which is consistent with the low precision for Class 1. This means the model is misclassifying a significant number of actual negatives as positives.\n",
        "\n",
        "- The number of true negatives (108,630) is sizable, but there's a significant portion of Class 0 instances that got misclassified, leading to a recall of 0.74 for Class 0.\n",
        "\n",
        "Overall, the confusion matrix reinforces the insights from the classification report. The model, with class weighting, is very good at identifying the positive class but at the expense of misclassifying many negatives. Depending on the problem's context, the trade-offs between these metrics will determine the model's suitability. If the cost of missing a positive instance is high, then this model's high sensitivity might be justified. If, however, the cost of falsely identifying a negative instance as positive is high, then further model refinement might be needed."
      ],
      "metadata": {
        "id": "2aUPHm3IEfur"
      }
    },
    {
      "cell_type": "markdown",
      "source": [
        "#### 2.3. ROC Curve:"
      ],
      "metadata": {
        "id": "wySLgIs6Ep6C"
      }
    },
    {
      "cell_type": "code",
      "source": [
        "# Compute ROC curve and AUC score\n",
        "y_test_prob_weighted = logreg_weighted.predict_proba(X_test_dtm)[:,1]\n",
        "fpr_weighted, tpr_weighted, _ = roc_curve(y_test, y_test_prob_weighted)\n",
        "roc_auc_weighted = auc(fpr_weighted, tpr_weighted)\n",
        "\n",
        "# Plot the ROC curve\n",
        "import matplotlib.pyplot as plt\n",
        "plt.figure()\n",
        "plt.plot(fpr_weighted, tpr_weighted, color='darkorange', label='ROC curve (area = %0.2f)' % roc_auc_weighted)\n",
        "plt.plot([0, 1], [0, 1], color='navy', linestyle='--')\n",
        "plt.xlabel('False Positive Rate')\n",
        "plt.ylabel('True Positive Rate')\n",
        "plt.title('Receiver Operating Characteristic (ROC) - Logistic Regression with Class Weighting')\n",
        "plt.legend(loc=\"lower right\")\n",
        "plt.show()"
      ],
      "metadata": {
        "colab": {
          "base_uri": "https://localhost:8080/",
          "height": 472
        },
        "id": "Am_eH8zwEtCS",
        "outputId": "6e1c4415-1125-4e75-d42b-ca23a07fdfa3"
      },
      "execution_count": null,
      "outputs": [
        {
          "output_type": "display_data",
          "data": {
            "text/plain": [
              "<Figure size 640x480 with 1 Axes>"
            ],
            "image/png": "[encoded data removed]"
          },
          "metadata": {}
        }
      ]
    },
    {
      "cell_type": "markdown",
      "source": [
        "## model comparison\n",
        "Let's compare the two models - the standard Logistic Regression and the Logistic Regression with Class Weighting:\n",
        "\n",
        "### 1. **Standard Logistic Regression:**\n",
        "- Training accuracy: 0.9690\n",
        "- Test accuracy: 0.8154\n",
        "- Precision for class 1: 0.16\n",
        "- Recall for class 1: 0.81\n",
        "- ROC-AUC: 0.88\n",
        "\n",
        "### 2. **Logistic Regression with Class Weighting:**\n",
        "- Accuracy: 0.75\n",
        "- Precision for class 1: 0.13\n",
        "- Recall for class 1: 0.92\n",
        "- Confusion Matrix:\n",
        "  ```\n",
        "  [[108630  38291]\n",
        "   [   501   5742]]\n",
        "  ```\n",
        "- ROC-AUC: 0.88\n",
        "\n",
        "From the results:\n",
        "\n",
        "1. **Accuracy:** The standard model has a higher overall accuracy compared to the weighted one. But accuracy alone can be misleading, especially with imbalanced datasets.\n",
        "\n",
        "2. **Precision and Recall for Class 1 (Minority Class):** The weighted model has a slightly lower precision but a higher recall for the minority class. This means it's identifying more of the actual positive instances but at the expense of making more false positive predictions.\n",
        "\n",
        "3. **Confusion Matrix:** The weighted model correctly identifies more instances of the minority class, as evidenced by the high number in the bottom left of the matrix (true positives). However, it also misclassifies a significant number of the majority class as the minority class (false positives).\n",
        "\n",
        "4. **ROC-AUC:** Both models have an AUC of 0.88, indicating that their ability to distinguish between the two classes is equivalent.\n",
        "\n",
        "### Conclusion:\n",
        "\n",
        "If our primary objective is to detect as many instances of the minority class as possible (e.g., in cases where missing a positive instance has severe consequences), the Logistic Regression with Class Weighting may be preferable due to its higher recall. However, we should be aware that it comes at the cost of misclassifying a larger number of majority class instances.\n",
        "\n",
        "On the other hand, if our goal is to maintain a balance between precision and recall, or if the cost of false positives is high, the standard Logistic Regression might be a better choice.\n",
        "\n",
        "Ultimately, the decision on which model is \"better\" depends on the specific problem requirements, the cost associated with false positives versus false negatives, and the desired trade-off between precision and recall."
      ],
      "metadata": {
        "id": "cAU50Xd2GpLJ"
      }
    },
    {
      "cell_type": "markdown",
      "source": [
        "##  Random Forest classifier for imbalanced data:"
      ],
      "metadata": {
        "id": "TQd18BlKG9M5"
      }
    },
    {
      "cell_type": "markdown",
      "source": [
        "1. **Import Necessary Libraries**:"
      ],
      "metadata": {
        "id": "7UJi8VAmHD0G"
      }
    },
    {
      "cell_type": "code",
      "source": [
        "from sklearn.ensemble import RandomForestClassifier\n",
        "from sklearn.metrics import classification_report, confusion_matrix\n",
        "from sklearn.model_selection import train_test_split"
      ],
      "metadata": {
        "id": "Ogsor5tOHHDH"
      },
      "execution_count": null,
      "outputs": []
    },
    {
      "cell_type": "markdown",
      "source": [
        "2. **Train-Test Split** - we did already\n",
        "3. **Initialize and Train the Random Forest Classifier**:\n",
        "\n",
        "* class_weight=`balanced_subsample`: This parameter is especially helpful when dealing with imbalanced datasets, like ours. By setting the class weight to `balanced_subsample`, the algorithm adjusts weights inversely proportional to class frequencies in the input data. This means it will give more importance to the minority class during training. The `subsample` part indicates that the weights are computed based on the bootstrap sample for every tree that's grown.\n",
        "\n",
        "* n_estimators=100: This sets the number of decision trees in the forest. In this case, the Random Forest will be made up of 100 trees. More trees generally result in more robust and accurate predictions but come at the cost of increased computation.\n"
      ],
      "metadata": {
        "id": "EtmMkqgSHKK2"
      }
    },
    {
      "cell_type": "code",
      "source": [
        "# Initializing the Random Forest Classifier\n",
        "rf_classifier = RandomForestClassifier(n_estimators=100, class_weight='balanced_subsample', random_state=42)\n"
      ],
      "metadata": {
        "id": "7oE2fUZMHwD4"
      },
      "execution_count": null,
      "outputs": []
    },
    {
      "cell_type": "code",
      "source": [
        "# Training the classifier\n",
        "rf_classifier.fit(X_train_dtm, y_train)"
      ],
      "metadata": {
        "colab": {
          "base_uri": "https://localhost:8080/",
          "height": 74
        },
        "id": "67hWcGytHmDN",
        "outputId": "bb3ed069-81e3-4292-91f5-22160b75334e"
      },
      "execution_count": null,
      "outputs": [
        {
          "output_type": "execute_result",
          "data": {
            "text/plain": [
              "RandomForestClassifier(class_weight='balanced_subsample', random_state=42)"
            ],
            "text/html": [
              "<style>#sk-container-id-9 {color: black;background-color: white;}#sk-container-id-9 pre{padding: 0;}#sk-container-id-9 div.sk-toggleable {background-color: white;}#sk-container-id-9 label.sk-toggleable__label {cursor: pointer;display: block;width: 100%;margin-bottom: 0;padding: 0.3em;box-sizing: border-box;text-align: center;}#sk-container-id-9 label.sk-toggleable__label-arrow:before {content: \"▸\";float: left;margin-right: 0.25em;color: #696969;}#sk-container-id-9 label.sk-toggleable__label-arrow:hover:before {color: black;}#sk-container-id-9 div.sk-estimator:hover label.sk-toggleable__label-arrow:before {color: black;}#sk-container-id-9 div.sk-toggleable__content {max-height: 0;max-width: 0;overflow: hidden;text-align: left;background-color: #f0f8ff;}#sk-container-id-9 div.sk-toggleable__content pre {margin: 0.2em;color: black;border-radius: 0.25em;background-color: #f0f8ff;}#sk-container-id-9 input.sk-toggleable__control:checked~div.sk-toggleable__content {max-height: 200px;max-width: 100%;overflow: auto;}#sk-container-id-9 input.sk-toggleable__control:checked~label.sk-toggleable__label-arrow:before {content: \"▾\";}#sk-container-id-9 div.sk-estimator input.sk-toggleable__control:checked~label.sk-toggleable__label {background-color: #d4ebff;}#sk-container-id-9 div.sk-label input.sk-toggleable__control:checked~label.sk-toggleable__label {background-color: #d4ebff;}#sk-container-id-9 input.sk-hidden--visually {border: 0;clip: rect(1px 1px 1px 1px);clip: rect(1px, 1px, 1px, 1px);height: 1px;margin: -1px;overflow: hidden;padding: 0;position: absolute;width: 1px;}#sk-container-id-9 div.sk-estimator {font-family: monospace;background-color: #f0f8ff;border: 1px dotted black;border-radius: 0.25em;box-sizing: border-box;margin-bottom: 0.5em;}#sk-container-id-9 div.sk-estimator:hover {background-color: #d4ebff;}#sk-container-id-9 div.sk-parallel-item::after {content: \"\";width: 100%;border-bottom: 1px solid gray;flex-grow: 1;}#sk-container-id-9 div.sk-label:hover label.sk-toggleable__label {background-color: #d4ebff;}#sk-container-id-9 div.sk-serial::before {content: \"\";position: absolute;border-left: 1px solid gray;box-sizing: border-box;top: 0;bottom: 0;left: 50%;z-index: 0;}#sk-container-id-9 div.sk-serial {display: flex;flex-direction: column;align-items: center;background-color: white;padding-right: 0.2em;padding-left: 0.2em;position: relative;}#sk-container-id-9 div.sk-item {position: relative;z-index: 1;}#sk-container-id-9 div.sk-parallel {display: flex;align-items: stretch;justify-content: center;background-color: white;position: relative;}#sk-container-id-9 div.sk-item::before, #sk-container-id-9 div.sk-parallel-item::before {content: \"\";position: absolute;border-left: 1px solid gray;box-sizing: border-box;top: 0;bottom: 0;left: 50%;z-index: -1;}#sk-container-id-9 div.sk-parallel-item {display: flex;flex-direction: column;z-index: 1;position: relative;background-color: white;}#sk-container-id-9 div.sk-parallel-item:first-child::after {align-self: flex-end;width: 50%;}#sk-container-id-9 div.sk-parallel-item:last-child::after {align-self: flex-start;width: 50%;}#sk-container-id-9 div.sk-parallel-item:only-child::after {width: 0;}#sk-container-id-9 div.sk-dashed-wrapped {border: 1px dashed gray;margin: 0 0.4em 0.5em 0.4em;box-sizing: border-box;padding-bottom: 0.4em;background-color: white;}#sk-container-id-9 div.sk-label label {font-family: monospace;font-weight: bold;display: inline-block;line-height: 1.2em;}#sk-container-id-9 div.sk-label-container {text-align: center;}#sk-container-id-9 div.sk-container {/* jupyter's `normalize.less` sets `[hidden] { display: none; }` but bootstrap.min.css set `[hidden] { display: none !important; }` so we also need the `!important` here to be able to override the default hidden behavior on the sphinx rendered scikit-learn.org. See: https://github.com/scikit-learn/scikit-learn/issues/21755 */display: inline-block !important;position: relative;}#sk-container-id-9 div.sk-text-repr-fallback {display: none;}</style><div id=\"sk-container-id-9\" class=\"sk-top-container\"><div class=\"sk-text-repr-fallback\"><pre>RandomForestClassifier(class_weight=&#x27;balanced_subsample&#x27;, random_state=42)</pre><b>In a Jupyter environment, please rerun this cell to show the HTML representation or trust the notebook. <br />On GitHub, the HTML representation is unable to render, please try loading this page with nbviewer.org.</b></div><div class=\"sk-container\" hidden><div class=\"sk-item\"><div class=\"sk-estimator sk-toggleable\"><input class=\"sk-toggleable__control sk-hidden--visually\" id=\"sk-estimator-id-9\" type=\"checkbox\" checked><label for=\"sk-estimator-id-9\" class=\"sk-toggleable__label sk-toggleable__label-arrow\">RandomForestClassifier</label><div class=\"sk-toggleable__content\"><pre>RandomForestClassifier(class_weight=&#x27;balanced_subsample&#x27;, random_state=42)</pre></div></div></div></div></div>"
            ]
          },
          "metadata": {},
          "execution_count": 244
        }
      ]
    },
    {
      "cell_type": "markdown",
      "source": [
        "4. **Make Predictions and Evaluate**:"
      ],
      "metadata": {
        "id": "Cyid-6qHIzTQ"
      }
    },
    {
      "cell_type": "code",
      "source": [
        "# Predictions\n",
        "y_train_pred = rf_classifier.predict(X_train_dtm)"
      ],
      "metadata": {
        "id": "eIMln15vUcz2"
      },
      "execution_count": null,
      "outputs": []
    },
    {
      "cell_type": "code",
      "source": [
        "train_accuracy =  accuracy_score(y_train, y_train_pred)\n",
        "print(f\"Training accuracy with best parameters: {train_accuracy:.4f}\")"
      ],
      "metadata": {
        "colab": {
          "base_uri": "https://localhost:8080/"
        },
        "id": "KgeK1IdxUfY1",
        "outputId": "19b772cb-3358-4d2f-d1b4-0b7fbe16729a"
      },
      "execution_count": null,
      "outputs": [
        {
          "output_type": "stream",
          "name": "stdout",
          "text": [
            "Training accuracy with best parameters: 0.9964\n"
          ]
        }
      ]
    },
    {
      "cell_type": "code",
      "source": [
        "y_test_pred = rf_classifier.predict(X_test_dtm)"
      ],
      "metadata": {
        "id": "svH58jOmVSbY"
      },
      "execution_count": null,
      "outputs": []
    },
    {
      "cell_type": "code",
      "source": [
        "test_accuracy = accuracy_score(y_test, y_test_pred)\n",
        "print(f\"Test accuracy with best parameters: {test_accuracy:.4f}\")"
      ],
      "metadata": {
        "colab": {
          "base_uri": "https://localhost:8080/"
        },
        "id": "uASY4ForVB8i",
        "outputId": "157287ca-e275-4e99-e63b-e0cf90b984c7"
      },
      "execution_count": null,
      "outputs": [
        {
          "output_type": "stream",
          "name": "stdout",
          "text": [
            "Test accuracy with best parameters: 0.7984\n"
          ]
        }
      ]
    },
    {
      "cell_type": "code",
      "source": [
        "# Classification Report\n",
        "print(classification_report(y_test, y_test_pred))\n",
        "\n",
        "# Confusion Matrix\n",
        "print(confusion_matrix(y_test, y_test_pred))"
      ],
      "metadata": {
        "colab": {
          "base_uri": "https://localhost:8080/"
        },
        "id": "_xRXO05bI17n",
        "outputId": "aa31bc75-5080-4494-cc99-6f355dd922e6"
      },
      "execution_count": null,
      "outputs": [
        {
          "output_type": "stream",
          "name": "stdout",
          "text": [
            "              precision    recall  f1-score   support\n",
            "\n",
            "           0       0.99      0.80      0.88    146921\n",
            "           1       0.14      0.78      0.24      6243\n",
            "\n",
            "    accuracy                           0.80    153164\n",
            "   macro avg       0.56      0.79      0.56    153164\n",
            "weighted avg       0.95      0.80      0.86    153164\n",
            "\n",
            "[[117435  29486]\n",
            " [  1394   4849]]\n"
          ]
        }
      ]
    },
    {
      "cell_type": "markdown",
      "source": [
        "1. **Precision for Class 0 (Not Block Message)**: Precision of 0.99 means that 99% of the instances predicted as class 0 (Not Block Message) were correctly classified. This suggests that the classifier is highly precise when it comes to identifying messages that shouldn't be blocked.\n",
        "\n",
        "2. **Precision for Class 1 (Block Message)**: The precision of 0.14 for class 1 indicates that only 14% of instances predicted as class 1 (Block Message) were actually block messages. This is a low precision indicating that the classifier predicts a lot of false positives for the block message class.\n",
        "\n",
        "3. **Recall for Class 0 (Not Block Message)**: Recall of 0.80 means 80% of all actual class 0 instances in the test set were correctly classified by the classifier.\n",
        "\n",
        "4. **Recall for Class 1 (Block Message)**: The recall of 0.78 for class 1 is a positive sign. It indicates that 78% of the actual block messages were identified by the classifier.\n",
        "\n",
        "5. **F1-Score**: The F1-score gives a balanced measure of precision and recall. The F1-score for class 1 (Block Message) is 0.24, which isn't very high, suggesting room for improvement, especially when considering precision.\n",
        "\n",
        "6. **Accuracy**: The overall accuracy of 0.80 indicates that 80% of all predictions made by the classifier are correct.\n",
        "\n",
        "7. **Confusion Matrix**:\n",
        "   - **True Positives (TP)**: 4849 messages were correctly identified as block messages.\n",
        "   - **False Positives (FP)**: 29486 messages were wrongly identified as block messages (these were actually not block messages).\n",
        "   - **True Negatives (TN)**: 117435 messages were correctly identified as not block messages.\n",
        "   - **False Negatives (FN)**: 1394 block messages were missed by the classifier and were predicted as not block messages.\n",
        "\n",
        "The high number of false positives (FP) is concerning. This means the classifier is classifying a lot of non-block messages as block messages. The challenge of handling imbalanced data is evident here, where the precision for the minority class (Block Message) is suffering, leading to more false positives.\n",
        "\n",
        "In summary, while the classifier does a good job in terms of recall (detecting block messages), there's a significant trade-off with precision, which means there are a lot of incorrect predictions for block messages. Depending on the application's requirements (whether false positives or false negatives are more costly), one might want to further tune the model or employ additional techniques to enhance performance."
      ],
      "metadata": {
        "id": "KfR64RLDMz2G"
      }
    },
    {
      "cell_type": "markdown",
      "source": [
        "6. **ROC Curve**:"
      ],
      "metadata": {
        "id": "bZZaDW03I_tp"
      }
    },
    {
      "cell_type": "code",
      "source": [
        "import matplotlib.pyplot as plt\n",
        "from sklearn.metrics import roc_curve, auc\n",
        "\n",
        "# Predict class probabilities for the test set\n",
        "y_prob_rf = rf_classifier.predict_proba(X_test_dtm)[:, 1]\n",
        "\n",
        "# Compute ROC curve and ROC area\n",
        "fpr_rf, tpr_rf, _ = roc_curve(y_test, y_prob_rf)\n",
        "roc_auc_rf = auc(fpr_rf, tpr_rf)\n",
        "\n",
        "# Plotting\n",
        "plt.figure()\n",
        "plt.plot(fpr_rf, tpr_rf, color='darkorange', label='ROC curve (area = %0.2f)' % roc_auc_rf)\n",
        "plt.plot([0, 1], [0, 1], color='navy', linestyle='--')\n",
        "plt.xlim([0.0, 1.0])\n",
        "plt.ylim([0.0, 1.05])\n",
        "plt.xlabel('False Positive Rate')\n",
        "plt.ylabel('True Positive Rate')\n",
        "plt.title('Receiver Operating Characteristic (ROC) - Random Forest')\n",
        "plt.legend(loc=\"lower right\")\n",
        "plt.show()\n"
      ],
      "metadata": {
        "colab": {
          "base_uri": "https://localhost:8080/",
          "height": 472
        },
        "id": "ObY6sjYlNuQ3",
        "outputId": "d6e339ef-776b-4a88-ced6-44dba650b007"
      },
      "execution_count": null,
      "outputs": [
        {
          "output_type": "display_data",
          "data": {
            "text/plain": [
              "<Figure size 640x480 with 1 Axes>"
            ],
            "image/png": "[encoded data removed]"
          },
          "metadata": {}
        }
      ]
    },
    {
      "cell_type": "markdown",
      "source": [
        "The ROC curve displays the performance of our Random Forest classifier for the given imbalanced dataset:\n",
        "\n",
        "1. **ROC Curve Shape**: The orange curve represents the performance of our Random Forest model. The more the curve bows towards the upper left corner, the better the model is at distinguishing between the positive and negative classes. Our curve is significantly above the diagonal, which is a good sign.\n",
        "\n",
        "2. **AUC (Area Under the Curve)**: This is denoted by the number `0.87` in the legend. AUC provides an aggregate measure of the classifier's performance across all classification thresholds. A perfect classifier would have an AUC of `1.0`, whereas a purely random classifier would have an AUC of `0.5`. With an AUC of `0.87`, our Random Forest model exhibits good predictive capability.\n",
        "\n",
        "3. **Comparison with Previous Models**: It would be beneficial to compare this ROC curve with the ones from our previous models (like Logistic Regression) to see which model is more effective overall.\n",
        "\n",
        "4. **Interpretation**: The model does a decent job distinguishing between the two classes. However, given the nature of ROC curves, it doesn't tell us about the absolute values of false positives or false negatives. For that, we'd still need to look at the confusion matrix and other metrics.\n",
        "\n",
        "In summary, the Random Forest model is performing well on this imbalanced dataset, as evidenced by the ROC curve and the AUC value. However, we should always remember to consider other factors like interpretability, training time, and other metrics when deciding on the best model for a given task."
      ],
      "metadata": {
        "id": "BQNmaEe-OOK0"
      }
    },
    {
      "cell_type": "markdown",
      "source": [
        "## Comparative Analysis of Classification Models for Imbalanced Data\n",
        "### 1. **Standard Logistic Regression**:\n",
        "- **Training vs. Test Accuracy**: High training accuracy (96.90%) with a test accuracy of 81.54%. Some potential overfitting, but not as significant as in the Random Forest model.\n",
        "- **Performance on Class 1**: Precision for class 1 is 0.16 and recall for class 1 is 81%.\n",
        "- **ROC-AUC**: 0.88\n",
        "\n",
        "### 2. **Logistic Regression with Class Weighting**:\n",
        "- **Training vs. Test Accuracy**: Training accuracy of 94.49% and test accuracy of 74.67%.\n",
        "- **Performance on Class 1**: Precision for class 1 is 0.13, and recall for class 1 is a high 92%.\n",
        "- **ROC-AUC**: 0.88\n",
        "\n",
        "### 3. **Random Forest**:\n",
        "- **Training vs. Test Accuracy**: Significant overfitting indicated by the high training accuracy of 99.64% compared to the test accuracy of 79.84%.\n",
        "- **Performance on Class 1**: Same precision (0.13) and recall (92%) as the Logistic Regression with Class Weighting.\n",
        "- **ROC-AUC**: Now corrected to 0.87, which is slightly lower than the other two models but still indicates good class differentiation.\n",
        "\n",
        "\n",
        "\n",
        "### Conclusion:\n",
        "\n",
        "- We find that the **Standard Logistic Regression** demonstrates the best generalization capability among the three models, showcasing the smallest difference between training and test accuracy.\n",
        "  \n",
        "- Both the **Logistic Regression with Class Weighting** and **Random Forest** excel in identifying a high proportion of the positive cases (class 1) with commendable recalls of 92%. However, this strength comes with a trade-off in precision, resulting in a significant number of false positives.\n",
        "  \n",
        "- In terms of the **ROC-AUC** metric, we observe that all models have comparable performance. The Standard Logistic Regression and Logistic Regression with Class Weighting slightly outperform the Random Forest with ROC-AUC scores of 0.88, compared to 0.87 for the Random Forest.\n",
        "\n",
        "Given the specific requirements of our application (whether we prioritize minimizing false positives or ensuring we capture as many positive cases as possible), we can select the model that aligns best with our objectives. On balance, the **Standard Logistic Regression** appears to offer a well-rounded performance in this comparison."
      ],
      "metadata": {
        "id": "_tRJKldcaHoX"
      }
    }
  ]
}